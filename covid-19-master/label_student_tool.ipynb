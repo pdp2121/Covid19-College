{
 "cells": [
  {
   "cell_type": "code",
   "execution_count": 1,
   "metadata": {},
   "outputs": [
    {
     "data": {
      "application/javascript": [
       "IPython.OutputArea.prototype._should_scroll = function(lines) {\n",
       "    return false;\n",
       "}\n"
      ],
      "text/plain": [
       "<IPython.core.display.Javascript object>"
      ]
     },
     "metadata": {},
     "output_type": "display_data"
    }
   ],
   "source": [
    "%%javascript\n",
    "IPython.OutputArea.prototype._should_scroll = function(lines) {\n",
    "    return false;\n",
    "}"
   ]
  },
  {
   "cell_type": "code",
   "execution_count": 2,
   "metadata": {},
   "outputs": [],
   "source": [
    "import os\n",
    "import json\n",
    "from IPython.display import Image \n",
    "from IPython.display import clear_output"
   ]
  },
  {
   "cell_type": "code",
   "execution_count": 3,
   "metadata": {},
   "outputs": [
    {
     "name": "stdout",
     "output_type": "stream",
     "text": [
      "Loading data ...\n",
      "Extracted 1200 unlabeled users.\n"
     ]
    }
   ],
   "source": [
    "# import data\n",
    "print('Loading data ...')\n",
    "data_file = 'covid_users_100000_non-org_val.jsonl'\n",
    "data = open(data_file, 'r').readlines()\n",
    "users = [json.loads(u) for u in data]\n",
    "labeled = 0\n",
    "for u in users:\n",
    "    if u['is_student'] in [0,1]:\n",
    "        labeled += 1\n",
    "\n",
    "# unlabeled_users = sorted(unlabeled_users)\n",
    "print('Extracted {} unlabeled users.'.format(len(users)-labeled))"
   ]
  },
  {
   "cell_type": "code",
   "execution_count": 4,
   "metadata": {},
   "outputs": [],
   "source": [
    "def contains_words(sent, words):\n",
    "    for w in words:\n",
    "        if w in sent:\n",
    "            return True\n",
    "    return False"
   ]
  },
  {
   "cell_type": "code",
   "execution_count": 5,
   "metadata": {},
   "outputs": [],
   "source": [
    "# parameters\n",
    "# counter = 0\n",
    "valid = [0,1]\n",
    "label = None\n",
    "BOLD = '\\033[1m'\n",
    "END = '\\033[0m'\n",
    "keywords = ['school','college','university','class','student',\n",
    "            'exam','phd','graduat','campus','test','final','midterm',\n",
    "            'major','semester','term','varsity', ' my ']"
   ]
  },
  {
   "cell_type": "code",
   "execution_count": null,
   "metadata": {
    "scrolled": false
   },
   "outputs": [
    {
     "name": "stdout",
     "output_type": "stream",
     "text": [
      "\u001b[1mCompleted: 0\u001b[0m\n",
      "Name: Gran Turismo🖤⚡️\n",
      "Location: Louisiana, USA\n",
      "Number of colleges followed: 1\n",
      "Followers: 169\n",
      "Friends: 489\n",
      "Number of all statuses: 13736\n",
      "Biography: Flyhighma🕊\n"
     ]
    },
    {
     "data": {
      "image/jpeg": "[encoded data removed]",
      "text/plain": [
       "<IPython.core.display.Image object>"
      ]
     },
     "metadata": {},
     "output_type": "display_data"
    },
    {
     "name": "stdout",
     "output_type": "stream",
     "text": [
      "\n",
      "Tweets:\n"
     ]
    }
   ],
   "source": [
    "# remember to save work right after stoping\n",
    "for i in range(len(users)):\n",
    "    if users[i]['is_student'] not in [0,1]:\n",
    "        clear_output(wait=True)\n",
    "        print(BOLD+\"Completed: \"+str(labeled)+END)\n",
    "        print('Name:', users[i]['name'])\n",
    "        print('Location:', users[i]['location'])\n",
    "        print('Number of colleges followed:', len(users[i]['colleges_followed']))\n",
    "        print('Followers:', users[i]['followers_count'])\n",
    "        print('Friends:', users[i]['friends_count'])\n",
    "        print('Number of all statuses:', users[i]['statuses_count'])\n",
    "        print('Biography:', users[i]['description'])\n",
    "\n",
    "        profile_image = Image(filename='./data/pic-resized/{}.jpeg'.format(users[i]['id']))\n",
    "        display(profile_image)\n",
    "\n",
    "        print('\\nTweets:')\n",
    "        tweets = users[i]['tweets']\n",
    "        for tweet in tweets:\n",
    "            if tweet:\n",
    "                if contains_words(tweet, keywords):\n",
    "                    print(BOLD+tweet+END)\n",
    "                else:\n",
    "                    print(tweet)\n",
    "\n",
    "        try:\n",
    "            label = int(input())\n",
    "        except:\n",
    "            label = 9999\n",
    "\n",
    "        if label not in valid:\n",
    "            print('Invalid label')\n",
    "            label = int(input())\n",
    "        else:\n",
    "            users[i]['is_student'] = label\n",
    "            # save work using this cell\n",
    "            with open(data_file, 'w') as f:\n",
    "                for u in users:\n",
    "                    f.write(json.dumps(u)+'\\n')\n",
    "        \n",
    "        labeled += 1"
   ]
  },
  {
   "cell_type": "code",
   "execution_count": null,
   "metadata": {},
   "outputs": [],
   "source": []
  }
 ],
 "metadata": {
  "kernelspec": {
   "display_name": "Python 3",
   "language": "python",
   "name": "python3"
  },
  "language_info": {
   "codemirror_mode": {
    "name": "ipython",
    "version": 3
   },
   "file_extension": ".py",
   "mimetype": "text/x-python",
   "name": "python",
   "nbconvert_exporter": "python",
   "pygments_lexer": "ipython3",
   "version": "3.7.6"
  }
 },
 "nbformat": 4,
 "nbformat_minor": 4
}
