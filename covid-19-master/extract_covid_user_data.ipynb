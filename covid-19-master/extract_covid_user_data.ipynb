{
 "cells": [
  {
   "cell_type": "code",
   "execution_count": 21,
   "metadata": {},
   "outputs": [],
   "source": [
    "import os\n",
    "import json\n",
    "from collections import defaultdict\n",
    "import requests\n",
    "from PIL import Image\n",
    "from io import BytesIO\n",
    "import progressbar"
   ]
  },
  {
   "cell_type": "code",
   "execution_count": 8,
   "metadata": {},
   "outputs": [
    {
     "name": "stdout",
     "output_type": "stream",
     "text": [
      "Extracted 12280 users.\n"
     ]
    }
   ],
   "source": [
    "# import data\n",
    "directory = os.getcwd()\n",
    "covid_data = json.load(open('./data/covid_tweets_100000.json', 'r'))\n",
    "covid_users = [d['user'] for d in covid_data]\n",
    "covid_users = list(set(covid_users))\n",
    "print('Extracted {} users.'.format(len(covid_users)))"
   ]
  },
  {
   "cell_type": "code",
   "execution_count": 9,
   "metadata": {},
   "outputs": [
    {
     "name": "stdout",
     "output_type": "stream",
     "text": [
      "[889861054850891776, 874341910671917057, 744696682265247744, 838878823747813377, 1213814764016566274, 757400969613279232, 813890744738054150, 1237135205963530241, 737356852460060672, 706924533849128960]\n"
     ]
    }
   ],
   "source": [
    "print(covid_users[:10])"
   ]
  },
  {
   "cell_type": "code",
   "execution_count": 16,
   "metadata": {},
   "outputs": [],
   "source": [
    "# extract the users with covid tweets\n",
    "\n",
    "def extract_user_features(input_dir):\n",
    "    user_dict = dict()\n",
    "    for file_name in sorted(os.listdir(input_dir)):\n",
    "        if file_name.endswith('.json'):\n",
    "            college = file_name.split('_followers')[0]\n",
    "            users = open(input_dir+'/'+file_name,'r').readlines()\n",
    "            users = [json.loads(u) for u in users]\n",
    "            for user in users:\n",
    "                if user['protected']:\n",
    "                    continue\n",
    "                if user['id'] in user_dict.keys():\n",
    "                    user_dict[user['id']]['colleges_followed'].append(college)\n",
    "                else:\n",
    "                    if user['id'] in covid_users:\n",
    "                        user['colleges_followed'] = [college]\n",
    "                        user_dict[user['id']] = user\n",
    "                    \n",
    "            print('<{}> users added. Total: {}'.format(college, len(user_dict.keys())))\n",
    "\n",
    "    return user_dict, list(user_dict.values())"
   ]
  },
  {
   "cell_type": "code",
   "execution_count": 17,
   "metadata": {},
   "outputs": [
    {
     "name": "stdout",
     "output_type": "stream",
     "text": [
      "<ASU> users added. Total: 215\n",
      "<AdelphiU> users added. Total: 225\n",
      "<AmericanU> users added. Total: 304\n",
      "<AuburnU> users added. Total: 402\n",
      "<BU_Tweets> users added. Total: 534\n",
      "<BYU> users added. Total: 605\n",
      "<BallState> users added. Total: 665\n",
      "<Baylor> users added. Total: 781\n",
      "<BelmontUniv> users added. Total: 809\n",
      "<BethelU> users added. Total: 815\n",
      "<BostonCollege> users added. Total: 889\n",
      "<BrandeisU> users added. Total: 904\n",
      "<BrownUniversity> users added. Total: 1120\n",
      "<CUBoulder> users added. Total: 1207\n",
      "<Caltech> users added. Total: 1329\n",
      "<CarnegieMellon> users added. Total: 1407\n",
      "<CatholicUniv> users added. Total: 1443\n",
      "<ChapmanU> users added. Total: 1464\n",
      "<ChathamU> users added. Total: 1467\n",
      "<ClarkUniversity> users added. Total: 1484\n",
      "<ClarksonUniv> users added. Total: 1495\n",
      "<ClemsonUniv> users added. Total: 1563\n",
      "<ColoradoStateU> users added. Total: 1620\n",
      "<Columbia> users added. Total: 1961\n",
      "<Cornell> users added. Total: 2088\n",
      "<Creighton> users added. Total: 2107\n",
      "<DePaulU> users added. Total: 2150\n",
      "<DrakeUniversity> users added. Total: 2177\n",
      "<DrexelUniv> users added. Total: 2202\n",
      "<DukeU> users added. Total: 2277\n",
      "<EmoryUniversity> users added. Total: 2316\n",
      "<FisherNews> users added. Total: 2320\n",
      "<FollowStevens> users added. Total: 2331\n",
      "<FordhamNYC> users added. Total: 2353\n",
      "<GWtweets> users added. Total: 2415\n",
      "<GallaudetU> users added. Total: 2449\n",
      "<GeorgeMasonU> users added. Total: 2484\n",
      "<Georgetown> users added. Total: 2559\n",
      "<GeorgiaTech> users added. Total: 2659\n",
      "<GonzagaU> users added. Total: 2684\n",
      "<Harvard> users added. Total: 3490\n",
      "<HofstraU> users added. Total: 3520\n",
      "<HowardU> users added. Total: 3636\n",
      "<IUBloomington> users added. Total: 3781\n",
      "<IllinoisStateU> users added. Total: 3835\n",
      "<Illinois_Alma> users added. Total: 3928\n",
      "<IowaStateU> users added. Total: 3973\n",
      "<JeffersonUniv> users added. Total: 3987\n",
      "<JohnsHopkins> users added. Total: 4135\n",
      "<KState> users added. Total: 4196\n",
      "<KUnews> users added. Total: 4197\n",
      "<LSU> users added. Total: 4432\n",
      "<LehighU> users added. Total: 4454\n",
      "<LifeAtPurdue> users added. Total: 4509\n",
      "<LoyolaChicago> users added. Total: 4560\n",
      "<LoyolaMarymount> users added. Total: 4583\n",
      "<Loyola_NOLA> users added. Total: 4598\n",
      "<MIT> users added. Total: 5011\n",
      "<MarquetteU> users added. Total: 5052\n",
      "<MercerYou> users added. Total: 5061\n",
      "<MisericordiaU> users added. Total: 5065\n",
      "<MissouriSandT> users added. Total: 5080\n",
      "<Mizzou> users added. Total: 5199\n",
      "<NCState> users added. Total: 5283\n",
      "<NJIT> users added. Total: 5299\n",
      "<Northeastern> users added. Total: 5331\n",
      "<NorthwesternU> users added. Total: 5395\n",
      "<NotreDame> users added. Total: 5538\n",
      "<OhioState> users added. Total: 5813\n",
      "<OleMissRebels> users added. Total: 5883\n",
      "<OregonState> users added. Total: 5941\n",
      "<Penn> users added. Total: 5990\n",
      "<PittTweet> users added. Total: 6043\n",
      "<Princeton> users added. Total: 6102\n",
      "<QuinnipiacU> users added. Total: 6136\n",
      "<RITtigers> users added. Total: 6149\n",
      "<RiceUniversity> users added. Total: 6178\n",
      "<RowanUniversity> users added. Total: 6209\n",
      "<RutgersU> users added. Total: 6299\n",
      "<Rutgers_Camden> users added. Total: 6306\n",
      "<Rutgers_Newark> users added. Total: 6311\n",
      "<SDSU> users added. Total: 6379\n",
      "<SLU_Official> users added. Total: 6390\n",
      "<SMU> users added. Total: 6435\n",
      "<SamfordU> users added. Total: 6446\n",
      "<SantaClaraUniv> users added. Total: 6455\n",
      "<SeattlePacific> users added. Total: 6462\n",
      "<SetonHall> users added. Total: 6480\n",
      "<SimmonsUniv> users added. Total: 6484\n",
      "<StJohnsU> users added. Total: 6506\n",
      "<Stanford> users added. Total: 6699\n",
      "<SyracuseU> users added. Total: 6770\n",
      "<TAMU> users added. Total: 7023\n",
      "<TCU> users added. Total: 7075\n",
      "<TempleUniv> users added. Total: 7168\n",
      "<TheNewSchool> users added. Total: 7272\n",
      "<TowsonU> users added. Total: 7296\n",
      "<TuftsUniversity> users added. Total: 7320\n",
      "<Tulane> users added. Total: 7333\n",
      "<UABNews> users added. Total: 7350\n",
      "<UArkansas> users added. Total: 7402\n",
      "<UBuffalo> users added. Total: 7430\n",
      "<UCBerkeley> users added. Total: 7539\n",
      "<UCF> users added. Total: 7662\n",
      "<UCIrvine> users added. Total: 7702\n",
      "<UCLA> users added. Total: 7812\n",
      "<UCRiverside> users added. Total: 7831\n",
      "<UCSanDiego> users added. Total: 7874\n",
      "<UChicago> users added. Total: 7921\n",
      "<UConn> users added. Total: 7975\n",
      "<UDelaware> users added. Total: 8005\n",
      "<UF> users added. Total: 8167\n",
      "<UHouston> users added. Total: 8291\n",
      "<ULaVerne> users added. Total: 8295\n",
      "<UMBC> users added. Total: 8311\n",
      "<UMNews> users added. Total: 8394\n",
      "<UMassAmherst> users added. Total: 8453\n",
      "<UMassLowell> users added. Total: 8478\n",
      "<UMich> users added. Total: 8659\n",
      "<UNCWilmington> users added. Total: 8681\n",
      "<UNC> users added. Total: 8771\n",
      "<UNLincoln> users added. Total: 8810\n",
      "<UOPacific> users added. Total: 8820\n",
      "<USC> users added. Total: 8904\n",
      "<USJCT> users added. Total: 8906\n",
      "<USouthFlorida> users added. Total: 8981\n",
      "<UTAustin> users added. Total: 9185\n",
      "<UTKnoxville> users added. Total: 9285\n",
      "<UT_Dallas> users added. Total: 9311\n",
      "<UUtah> users added. Total: 9388\n",
      "<UVA> users added. Total: 9449\n",
      "<UWMadison> users added. Total: 9574\n",
      "<UW> users added. Total: 9686\n",
      "<UnionUniversity> users added. Total: 9691\n",
      "<UofAlabama> users added. Total: 9812\n",
      "<UofDenver> users added. Total: 9833\n",
      "<UofMaryland> users added. Total: 9911\n",
      "<UofNH> users added. Total: 9936\n",
      "<UofOklahoma> users added. Total: 10059\n",
      "<UofR> users added. Total: 10079\n",
      "<UofSC> users added. Total: 10176\n",
      "<UofStThomasMN> users added. Total: 10187\n",
      "<VCU> users added. Total: 10252\n",
      "<ValpoU> users added. Total: 10264\n",
      "<VanderbiltU> users added. Total: 10298\n",
      "<VillanovaU> users added. Total: 10323\n",
      "<WPI> users added. Total: 10331\n",
      "<WSUPullman> users added. Total: 10369\n",
      "<WUSTL> users added. Total: 10393\n",
      "<WakeForest> users added. Total: 10408\n",
      "<YUNews> users added. Total: 10422\n",
      "<Yale> users added. Total: 10488\n",
      "<bellarmineU> users added. Total: 10502\n",
      "<binghamtonu> users added. Total: 10526\n",
      "<biolau> users added. Total: 10539\n",
      "<coschoolofmines> users added. Total: 10553\n",
      "<cwru> users added. Total: 10564\n",
      "<dartmouth> users added. Total: 10590\n",
      "<detroittitans> users added. Total: 10596\n",
      "<duqedu> users added. Total: 10610\n",
      "<elonuniversity> users added. Total: 10623\n",
      "<floridastate> users added. Total: 10706\n",
      "<illinoistech> users added. Total: 10712\n",
      "<miamiuniversity> users added. Total: 10759\n",
      "<michiganstateu> users added. Total: 10944\n",
      "<michigantech> users added. Total: 10954\n",
      "<montclairstateu> users added. Total: 10962\n",
      "<nyuniversity> users added. Total: 11028\n",
      "<ohiou> users added. Total: 11073\n",
      "<okstate> users added. Total: 11140\n",
      "<pacificu> users added. Total: 11145\n",
      "<penn_state> users added. Total: 11267\n",
      "<pepperdine> users added. Total: 11282\n",
      "<rpi> users added. Total: 11286\n",
      "<seattleu> users added. Total: 11297\n",
      "<stonybrooku> users added. Total: 11319\n",
      "<sunyesf> users added. Total: 11329\n",
      "<thisisUIC> users added. Total: 11335\n",
      "<ualbany> users added. Total: 11368\n",
      "<uarizona> users added. Total: 11462\n",
      "<ucdavis> users added. Total: 11504\n",
      "<ucmerced> users added. Total: 11526\n",
      "<ucsantabarbara> users added. Total: 11560\n",
      "<ucsc> users added. Total: 11572\n",
      "<uhmanoa> users added. Total: 11596\n",
      "<uidaho> users added. Total: 11608\n",
      "<uiowa> users added. Total: 11682\n",
      "<universityofga> users added. Total: 11777\n",
      "<universityofky> users added. Total: 11860\n",
      "<universityofri> users added. Total: 11889\n",
      "<univmiami> users added. Total: 11951\n",
      "<univofdayton> users added. Total: 11976\n",
      "<uofcincy> users added. Total: 12042\n",
      "<uofl> users added. Total: 12077\n",
      "<uofsandiego> users added. Total: 12086\n",
      "<uoregon> users added. Total: 12178\n",
      "<usfca> users added. Total: 12189\n",
      "<utulsa> users added. Total: 12196\n",
      "<uvmvermont> users added. Total: 12220\n",
      "<virginia_tech> users added. Total: 12261\n",
      "<williamandmary> users added. Total: 12280\n"
     ]
    }
   ],
   "source": [
    "input_dir = '/media/viet/Data/college-followers'\n",
    "\n",
    "user_dict, users = extract_user_features(input_dir)"
   ]
  },
  {
   "cell_type": "code",
   "execution_count": 24,
   "metadata": {},
   "outputs": [
    {
     "name": "stdout",
     "output_type": "stream",
     "text": [
      "12280\n"
     ]
    }
   ],
   "source": [
    "print(len(user_dict.keys()))"
   ]
  },
  {
   "cell_type": "code",
   "execution_count": 19,
   "metadata": {
    "scrolled": true
   },
   "outputs": [],
   "source": [
    "# tweepy APIs for getting recent profile pictures\n",
    "\n",
    "import data.twitter_client_1 as twitter_client_1\n",
    "import data.twitter_client_2 as twitter_client_2\n",
    "import data.twitter_client_3 as twitter_client_3\n",
    "import data.twitter_client_4 as twitter_client_4\n",
    "\n",
    "api_1 = twitter_client_1.get_twitter_client()\n",
    "api_2 = twitter_client_2.get_twitter_client()\n",
    "api_3 = twitter_client_3.get_twitter_client()\n",
    "api_4 = twitter_client_4.get_twitter_client()\n",
    "\n",
    "api_list = [api_1,api_2,api_3,api_4]\n",
    "\n",
    "# def get_new_url(user_id, api):\n",
    "#     try:\n",
    "#         user = api.get_user(user_id = user_id)\n",
    "#         user = user._json\n",
    "#         new_profile_url = user['profile_image_url']\n",
    "#         return new_profile_url\n",
    "#     except Exception as e:\n",
    "#         print(user_id)\n",
    "#         print(e)\n",
    "#         pass"
   ]
  },
  {
   "cell_type": "code",
   "execution_count": 40,
   "metadata": {},
   "outputs": [
    {
     "name": "stderr",
     "output_type": "stream",
     "text": [
      "  2% (300 of 12280) |                    | Elapsed Time: 0:01:25 ETA:   1:04:17"
     ]
    },
    {
     "name": "stdout",
     "output_type": "stream",
     "text": [
      "[{'code': 50, 'message': 'User not found.'}]\n"
     ]
    },
    {
     "name": "stderr",
     "output_type": "stream",
     "text": [
      " 82% (10085 of 12280) |##############    | Elapsed Time: 0:58:17 ETA:   0:15:49"
     ]
    },
    {
     "name": "stdout",
     "output_type": "stream",
     "text": [
      "[{'code': 50, 'message': 'User not found.'}]\n"
     ]
    },
    {
     "name": "stderr",
     "output_type": "stream",
     "text": [
      " 86% (10575 of 12280) |###############   | Elapsed Time: 1:00:57 ETA:   0:12:55"
     ]
    },
    {
     "name": "stdout",
     "output_type": "stream",
     "text": [
      "Unsupported BMP compression (1)\n"
     ]
    },
    {
     "name": "stderr",
     "output_type": "stream",
     "text": [
      " 97% (11948 of 12280) |################# | Elapsed Time: 1:08:40 ETA:   0:01:42"
     ]
    },
    {
     "name": "stdout",
     "output_type": "stream",
     "text": [
      "[{'code': 50, 'message': 'User not found.'}]\n"
     ]
    },
    {
     "name": "stderr",
     "output_type": "stream",
     "text": [
      "100% (12280 of 12280) |##################| Elapsed Time: 1:10:24 Time:  1:10:24\n"
     ]
    }
   ],
   "source": [
    "# get user image from urls\n",
    "\n",
    "users_with_image = []\n",
    "\n",
    "with progressbar.ProgressBar(max_value=len(covid_users)) as bar:\n",
    "    for i in range(len(covid_users)):\n",
    "        user = user_dict[covid_users[i]]\n",
    "        url = user['profile_image_url']\n",
    "        try:\n",
    "            url = url.replace('_normal', '')\n",
    "            response = requests.get(url, allow_redirects=True)\n",
    "            image_file = BytesIO(response.content)\n",
    "            image = Image.open(image_file)\n",
    "            image.save('./data/user-images/{}.png'.format(user['id'], image.size[0], image.size[1]))\n",
    "            users_with_image.append(user)\n",
    "            \n",
    "        except:\n",
    "#             print(e)\n",
    "            try:\n",
    "                user_old = user\n",
    "                user = (api_list[i%4].get_user(user_id = user['id']))._json\n",
    "                user['colleges_followed'] = user_old['colleges_followed']\n",
    "                url = user['profile_image_url']\n",
    "                url = url.replace('_normal', '')\n",
    "                response = requests.get(url, allow_redirects=True)\n",
    "                image_file = BytesIO(response.content)\n",
    "                image = Image.open(image_file)\n",
    "#                 print(image.size)\n",
    "                image.save('./data/user-images/{}.png'.format(user['id']))\n",
    "                users_with_image.append(user)\n",
    "            except Exception as e:\n",
    "                print(e)\n",
    "                pass\n",
    "        \n",
    "        bar.update(len(users_with_image))"
   ]
  },
  {
   "cell_type": "code",
   "execution_count": 41,
   "metadata": {},
   "outputs": [
    {
     "name": "stdout",
     "output_type": "stream",
     "text": [
      "12276\n"
     ]
    }
   ],
   "source": [
    "# sanity check\n",
    "\n",
    "print(len(users_with_image))"
   ]
  },
  {
   "cell_type": "code",
   "execution_count": 52,
   "metadata": {},
   "outputs": [],
   "source": [
    "# update the image path in data file\n",
    "\n",
    "with open('./data/covid_users_100000.jsonl', 'w') as f:\n",
    "    for u in users_with_image:\n",
    "        u['img_path'] = './data/user-images/'+str(u['id'])+'.png'\n",
    "        f.write(json.dumps(u)+'\\n')"
   ]
  }
 ],
 "metadata": {
  "kernelspec": {
   "display_name": "Python 3",
   "language": "python",
   "name": "python3"
  },
  "language_info": {
   "codemirror_mode": {
    "name": "ipython",
    "version": 3
   },
   "file_extension": ".py",
   "mimetype": "text/x-python",
   "name": "python",
   "nbconvert_exporter": "python",
   "pygments_lexer": "ipython3",
   "version": "3.7.6"
  }
 },
 "nbformat": 4,
 "nbformat_minor": 4
}
