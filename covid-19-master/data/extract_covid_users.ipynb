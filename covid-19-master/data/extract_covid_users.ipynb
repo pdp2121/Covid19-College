{
 "cells": [
  {
   "cell_type": "code",
   "execution_count": 1,
   "metadata": {},
   "outputs": [],
   "source": [
    "import os\n",
    "import json\n",
    "from collections import defaultdict"
   ]
  },
  {
   "cell_type": "code",
   "execution_count": 2,
   "metadata": {},
   "outputs": [
    {
     "name": "stdout",
     "output_type": "stream",
     "text": [
      "Extracted 12280 users.\n"
     ]
    }
   ],
   "source": [
    "# import data\n",
    "directory = os.getcwd()\n",
    "covid_data = json.load(open('covid_tweets_100000.json', 'r'))\n",
    "user_data = json.load(open('college_followers_sample_100000.json', 'r'))\n",
    "covid_users = [d['user'] for d in covid_data]\n",
    "covid_users = list(set(covid_users))\n",
    "print('Extracted {} users.'.format(len(covid_users)))"
   ]
  },
  {
   "cell_type": "code",
   "execution_count": 3,
   "metadata": {},
   "outputs": [
    {
     "name": "stdout",
     "output_type": "stream",
     "text": [
      "[889861054850891776, 874341910671917057, 744696682265247744, 838878823747813377, 1213814764016566274, 757400969613279232, 813890744738054150, 1237135205963530241, 737356852460060672, 706924533849128960]\n"
     ]
    }
   ],
   "source": [
    "print(covid_users[:10])"
   ]
  },
  {
   "cell_type": "code",
   "execution_count": 5,
   "metadata": {},
   "outputs": [],
   "source": [
    "import re\n",
    "import langdetect\n",
    "\n",
    "def preprocess(text):\n",
    "    if text.startswith('rt'):\n",
    "        text = text[2:]\n",
    "    text = text.lower()\n",
    "    text = re.sub(\",\", \" \", text)\n",
    "    text = re.sub(\":\", \"\", text)\n",
    "    text = re.sub(\"@ \", \"@\", text)\n",
    "    text = re.sub(\"# \", \"#\", text)\n",
    "    text = re.sub('\\S*@\\S*\\s?', '', text)\n",
    "    text = re.sub(r\"\\\"\", \"\", text)\n",
    "    text = re.sub(\"\\'\", \"\", text)\n",
    "    text = re.sub(r\"http\\S+\", \"\", text)\n",
    "    text = re.sub(r'\\w*pic.twitter.co\\w*', '', text)\n",
    "    text = re.sub(r'\\w*twitter.co\\w*', '', text)\n",
    "    text = re.sub(r'\\w*twitter.com\\w*', '', text)\n",
    "    text = re.sub(r\"./\\S+\", \"\", text)\n",
    "    text = re.sub(r\"@ \\S+\", \"\", text)\n",
    "    text = re.sub(r\"#\\S+\", \"\", text)\n",
    "    text = re.sub(r'\\n+', \" \", text)\n",
    "    text = re.sub(r\"<.*?>\", \"\", text)\n",
    "    text = re.sub(r\"<.*?>\", \"\", text)\n",
    "    text = re.sub(\"co vid\", \"covid\", text)\n",
    "    text = re.sub(r\"\\ss\\s\", \" 's \", text)\n",
    "    text = re.sub(r\"\\sm\\s\", \" 'm \", text)\n",
    "    text = re.sub(r\"\\sll\\s\", \" 'll \", text)\n",
    "    text = re.sub(r\"\\st\\s\", \" 't \", text)\n",
    "    text = re.sub(r\"\\sd\\s\", \" 'd \", text)\n",
    "    text = re.sub(r\"\\svir\\s\", \" virus \", text)\n",
    "    try:\n",
    "        if langdetect.detect(text) == 'en':\n",
    "            return text.strip()\n",
    "        else:\n",
    "            return None\n",
    "    except:\n",
    "        return None"
   ]
  },
  {
   "cell_type": "code",
   "execution_count": 7,
   "metadata": {
    "scrolled": true
   },
   "outputs": [
    {
     "name": "stderr",
     "output_type": "stream",
     "text": [
      "100% (12280 of 12280) |##################| Elapsed Time: 1:35:00 Time:  1:35:00\n"
     ]
    }
   ],
   "source": [
    "import progressbar\n",
    "\n",
    "user_dict = defaultdict(None)\n",
    "with progressbar.ProgressBar(max_value=len(covid_users)) as bar:\n",
    "    for user in user_data:\n",
    "        if user['id'] in covid_users:\n",
    "            user_dict[user['id_str']] = defaultdict(None)\n",
    "            user_dict[user['id_str']]['screen_name'] = user['screen_name']\n",
    "            user_dict[user['id_str']]['name'] = user['name']\n",
    "            user_dict[user['id_str']]['location'] = user['location']\n",
    "            user_dict[user['id_str']]['college'] = user['college']\n",
    "            user_dict[user['id_str']]['followers_count'] = user['followers_count']\n",
    "            user_dict[user['id_str']]['friends_count'] = user['friends_count']\n",
    "            user_dict[user['id_str']]['followers_count'] = user['followers_count']\n",
    "            user_dict[user['id_str']]['favourites_count'] = user['favourites_count']\n",
    "            user_dict[user['id_str']]['statuses_count'] = user['statuses_count']\n",
    "            user_dict[user['id_str']]['description'] = user['description']\n",
    "            user_dict[user['id_str']]['profile_image_url'] = user['profile_image_url']\n",
    "            tweet_file = './user-timelines/{}_tweets.jsonl'.format(user['id_str'])\n",
    "            tweets = open(tweet_file, 'r').readlines()\n",
    "            tweets = [json.loads(t) for t in tweets]\n",
    "            user_dict[user['id_str']]['tweets'] = [preprocess(t['text']) for t in tweets]\n",
    "        bar.update(len(user_dict.keys()))"
   ]
  },
  {
   "cell_type": "code",
   "execution_count": 10,
   "metadata": {
    "scrolled": true
   },
   "outputs": [
    {
     "name": "stderr",
     "output_type": "stream",
     "text": [
      "  0% (7 of 12280) |                      | Elapsed Time: 0:00:00 ETA:   0:15:14"
     ]
    },
    {
     "name": "stdout",
     "output_type": "stream",
     "text": [
      "http://pbs.twimg.com/profile_images/1210339262983475200/0s7KZSfs_normal.jpg\n"
     ]
    },
    {
     "name": "stderr",
     "output_type": "stream",
     "text": [
      "  0% (19 of 12280) |                     | Elapsed Time: 0:00:01 ETA:   0:15:31"
     ]
    },
    {
     "name": "stdout",
     "output_type": "stream",
     "text": [
      "http://pbs.twimg.com/profile_images/1238963063254106112/2wYVNK4b_normal.jpg\n"
     ]
    },
    {
     "name": "stderr",
     "output_type": "stream",
     "text": [
      "  0% (27 of 12280) |                     | Elapsed Time: 0:00:02 ETA:   0:15:53"
     ]
    },
    {
     "name": "stdout",
     "output_type": "stream",
     "text": [
      "http://pbs.twimg.com/profile_images/941422008067330048/YkHwnyXS_normal.jpg\n"
     ]
    },
    {
     "name": "stderr",
     "output_type": "stream",
     "text": [
      "  0% (40 of 12280) |                     | Elapsed Time: 0:00:03 ETA:   0:16:58"
     ]
    },
    {
     "name": "stdout",
     "output_type": "stream",
     "text": [
      "http://pbs.twimg.com/profile_images/1237928520833282049/6TC1r5Ak_normal.jpg\n"
     ]
    },
    {
     "name": "stderr",
     "output_type": "stream",
     "text": [
      "  0% (60 of 12280) |                     | Elapsed Time: 0:00:04 ETA:   0:17:51"
     ]
    },
    {
     "name": "stdout",
     "output_type": "stream",
     "text": [
      "http://pbs.twimg.com/profile_images/1239359782160601088/G0fk3GTy_normal.jpg\n"
     ]
    },
    {
     "name": "stderr",
     "output_type": "stream",
     "text": [
      "  0% (111 of 12280) |                    | Elapsed Time: 0:00:09 ETA:   0:17:00"
     ]
    },
    {
     "name": "stdout",
     "output_type": "stream",
     "text": [
      "http://pbs.twimg.com/profile_images/1159689903728283649/lplheN7q_normal.jpg\n"
     ]
    },
    {
     "name": "stderr",
     "output_type": "stream",
     "text": [
      "  0% (120 of 12280) |                    | Elapsed Time: 0:00:09 ETA:   0:17:22"
     ]
    },
    {
     "name": "stdout",
     "output_type": "stream",
     "text": [
      "http://pbs.twimg.com/profile_images/1241136594033061888/p6a5zQm-_normal.jpg\n"
     ]
    },
    {
     "name": "stderr",
     "output_type": "stream",
     "text": [
      "  1% (124 of 12280) |                    | Elapsed Time: 0:00:10 ETA:   0:17:06"
     ]
    },
    {
     "name": "stdout",
     "output_type": "stream",
     "text": [
      "http://pbs.twimg.com/profile_images/1232716441452937218/VTaluMhL_normal.jpg\n"
     ]
    },
    {
     "name": "stderr",
     "output_type": "stream",
     "text": [
      "  1% (176 of 12280) |                    | Elapsed Time: 0:00:14 ETA:   0:16:54"
     ]
    },
    {
     "name": "stdout",
     "output_type": "stream",
     "text": [
      "http://pbs.twimg.com/profile_images/1217657987386499072/Dyd6GLf9_normal.jpg\n"
     ]
    },
    {
     "name": "stderr",
     "output_type": "stream",
     "text": [
      "  1% (213 of 12280) |                    | Elapsed Time: 0:00:18 ETA:   0:20:18"
     ]
    },
    {
     "name": "stdout",
     "output_type": "stream",
     "text": [
      "http://pbs.twimg.com/profile_images/1214048693516722177/nIjYBgRG_normal.jpg\n"
     ]
    },
    {
     "name": "stderr",
     "output_type": "stream",
     "text": [
      "  1% (232 of 12280) |                    | Elapsed Time: 0:00:19 ETA:   0:18:26"
     ]
    },
    {
     "name": "stdout",
     "output_type": "stream",
     "text": [
      "http://pbs.twimg.com/profile_images/1224210941400666112/RTaOMBwL_normal.jpg\n"
     ]
    },
    {
     "name": "stderr",
     "output_type": "stream",
     "text": [
      "  2% (251 of 12280) |                    | Elapsed Time: 0:00:21 ETA:   0:18:03"
     ]
    },
    {
     "name": "stdout",
     "output_type": "stream",
     "text": [
      "http://pbs.twimg.com/profile_images/1179164897806028803/FlJgvQb1_normal.jpg\n"
     ]
    },
    {
     "name": "stderr",
     "output_type": "stream",
     "text": [
      "  2% (255 of 12280) |                    | Elapsed Time: 0:00:21 ETA:   0:19:06"
     ]
    },
    {
     "name": "stdout",
     "output_type": "stream",
     "text": [
      "http://pbs.twimg.com/profile_images/1186035461287903232/Y0A3ZFmu_normal.jpg\n"
     ]
    },
    {
     "name": "stderr",
     "output_type": "stream",
     "text": [
      "  2% (259 of 12280) |                    | Elapsed Time: 0:00:22 ETA:   0:19:11"
     ]
    },
    {
     "name": "stdout",
     "output_type": "stream",
     "text": [
      "http://pbs.twimg.com/profile_images/1211453976119562242/PGPjIwCa_normal.jpg\n"
     ]
    },
    {
     "name": "stderr",
     "output_type": "stream",
     "text": [
      "  2% (295 of 12280) |                    | Elapsed Time: 0:00:25 ETA:   0:17:27"
     ]
    },
    {
     "name": "stdout",
     "output_type": "stream",
     "text": [
      "http://pbs.twimg.com/profile_images/1240828838227165184/ljhT8tsl_normal.jpg\n"
     ]
    },
    {
     "name": "stderr",
     "output_type": "stream",
     "text": [
      "  2% (301 of 12280) |                    | Elapsed Time: 0:00:25 ETA:   0:16:13"
     ]
    },
    {
     "name": "stdout",
     "output_type": "stream",
     "text": [
      "http://pbs.twimg.com/profile_images/1234204710049058821/wlUsfziF_normal.jpg\n"
     ]
    },
    {
     "name": "stderr",
     "output_type": "stream",
     "text": [
      "  2% (307 of 12280) |                    | Elapsed Time: 0:00:26 ETA:   0:16:10"
     ]
    },
    {
     "name": "stdout",
     "output_type": "stream",
     "text": [
      "http://pbs.twimg.com/profile_images/1140668146921037832/wx_E6jlW_normal.jpg\n",
      "http://pbs.twimg.com/profile_images/1168852206533013504/ZTa81Nlh_normal.jpg\n"
     ]
    },
    {
     "name": "stderr",
     "output_type": "stream",
     "text": [
      "  2% (348 of 12280) |                    | Elapsed Time: 0:00:29 ETA:   0:18:13"
     ]
    },
    {
     "name": "stdout",
     "output_type": "stream",
     "text": [
      "http://pbs.twimg.com/profile_images/1118745710428430336/Es3eSiZx_normal.jpg\n"
     ]
    },
    {
     "name": "stderr",
     "output_type": "stream",
     "text": [
      "  3% (427 of 12280) |                    | Elapsed Time: 0:00:35 ETA:   0:14:25"
     ]
    },
    {
     "name": "stdout",
     "output_type": "stream",
     "text": [
      "http://pbs.twimg.com/profile_images/1110610309373460483/abusrqL9_normal.jpg\n"
     ]
    },
    {
     "name": "stderr",
     "output_type": "stream",
     "text": [
      "  3% (435 of 12280) |                    | Elapsed Time: 0:00:36 ETA:   0:14:12"
     ]
    },
    {
     "name": "stdout",
     "output_type": "stream",
     "text": [
      "http://pbs.twimg.com/profile_images/1236549480444551168/ZgcJkfPi_normal.jpg\n"
     ]
    },
    {
     "name": "stderr",
     "output_type": "stream",
     "text": [
      "  3% (462 of 12280) |                    | Elapsed Time: 0:00:38 ETA:   0:15:16"
     ]
    },
    {
     "name": "stdout",
     "output_type": "stream",
     "text": [
      "http://pbs.twimg.com/profile_images/1240731581532246020/oqV3pz7u_normal.jpg\n"
     ]
    },
    {
     "name": "stderr",
     "output_type": "stream",
     "text": [
      "  4% (534 of 12280) |                    | Elapsed Time: 0:00:44 ETA:   0:15:40"
     ]
    },
    {
     "name": "stdout",
     "output_type": "stream",
     "text": [
      "http://pbs.twimg.com/profile_images/1237369785035481088/9Zh2Bip3_normal.jpg\n"
     ]
    },
    {
     "name": "stderr",
     "output_type": "stream",
     "text": [
      "  4% (604 of 12280) |                    | Elapsed Time: 0:00:50 ETA:   0:14:40"
     ]
    },
    {
     "name": "stdout",
     "output_type": "stream",
     "text": [
      "http://pbs.twimg.com/profile_images/1179083573263032321/amOIw9od_normal.jpg\n"
     ]
    },
    {
     "name": "stderr",
     "output_type": "stream",
     "text": [
      "  5% (628 of 12280) |#                   | Elapsed Time: 0:00:52 ETA:   0:16:42"
     ]
    },
    {
     "name": "stdout",
     "output_type": "stream",
     "text": [
      "http://pbs.twimg.com/profile_images/1239955830381907968/uHLYlBZg_normal.jpg\n"
     ]
    },
    {
     "name": "stderr",
     "output_type": "stream",
     "text": [
      "  5% (682 of 12280) |#                   | Elapsed Time: 0:00:56 ETA:   0:15:48"
     ]
    },
    {
     "name": "stdout",
     "output_type": "stream",
     "text": [
      "http://pbs.twimg.com/profile_images/1239901256870551552/Q0EciXcL_normal.jpg\n"
     ]
    },
    {
     "name": "stderr",
     "output_type": "stream",
     "text": [
      "  5% (688 of 12280) |#                   | Elapsed Time: 0:00:56 ETA:   0:15:41"
     ]
    },
    {
     "name": "stdout",
     "output_type": "stream",
     "text": [
      "http://pbs.twimg.com/profile_images/1240025388031471616/bFlJqiaO_normal.jpg\n"
     ]
    },
    {
     "name": "stderr",
     "output_type": "stream",
     "text": [
      "  5% (696 of 12280) |#                   | Elapsed Time: 0:00:57 ETA:   0:15:21"
     ]
    },
    {
     "name": "stdout",
     "output_type": "stream",
     "text": [
      "http://pbs.twimg.com/profile_images/1240534249708687360/RfajIqrr_normal.jpg\n"
     ]
    },
    {
     "name": "stderr",
     "output_type": "stream",
     "text": [
      "  5% (711 of 12280) |#                   | Elapsed Time: 0:00:58 ETA:   0:16:33"
     ]
    },
    {
     "name": "stdout",
     "output_type": "stream",
     "text": [
      "http://pbs.twimg.com/profile_images/1236131516075237376/yH6PzJkC_normal.jpg\n"
     ]
    },
    {
     "name": "stderr",
     "output_type": "stream",
     "text": [
      "  6% (760 of 12280) |#                   | Elapsed Time: 0:01:02 ETA:   0:15:20"
     ]
    },
    {
     "name": "stdout",
     "output_type": "stream",
     "text": [
      "http://pbs.twimg.com/profile_images/1239933021987504131/0ftVM1kH_normal.jpg\n"
     ]
    },
    {
     "name": "stderr",
     "output_type": "stream",
     "text": [
      "  6% (770 of 12280) |#                   | Elapsed Time: 0:01:03 ETA:   0:15:32"
     ]
    },
    {
     "name": "stdout",
     "output_type": "stream",
     "text": [
      "http://pbs.twimg.com/profile_images/1235920761711403008/kPQ-Ref8_normal.jpg\n"
     ]
    },
    {
     "name": "stderr",
     "output_type": "stream",
     "text": [
      "  6% (774 of 12280) |#                   | Elapsed Time: 0:01:03 ETA:   0:15:36"
     ]
    },
    {
     "name": "stdout",
     "output_type": "stream",
     "text": [
      "http://pbs.twimg.com/profile_images/1239040178364141569/qxtU8TjE_normal.jpg\n"
     ]
    },
    {
     "name": "stderr",
     "output_type": "stream",
     "text": [
      "  6% (786 of 12280) |#                   | Elapsed Time: 0:01:04 ETA:   0:16:10"
     ]
    },
    {
     "name": "stdout",
     "output_type": "stream",
     "text": [
      "http://pbs.twimg.com/profile_images/1240096741808013312/2G-9xF_T_normal.jpg\n"
     ]
    },
    {
     "name": "stderr",
     "output_type": "stream",
     "text": [
      "\r",
      "  6% (788 of 12280) |#                   | Elapsed Time: 0:01:04 ETA:   0:16:10"
     ]
    },
    {
     "name": "stdout",
     "output_type": "stream",
     "text": [
      "http://pbs.twimg.com/profile_images/1214647555344273415/vY4ua7k0_normal.jpg\n"
     ]
    },
    {
     "name": "stderr",
     "output_type": "stream",
     "text": [
      "  6% (803 of 12280) |#                   | Elapsed Time: 0:01:06 ETA:   0:17:12"
     ]
    },
    {
     "name": "stdout",
     "output_type": "stream",
     "text": [
      "http://pbs.twimg.com/profile_images/1132819650067259395/UXEcoHkO_normal.jpg\n"
     ]
    },
    {
     "name": "stderr",
     "output_type": "stream",
     "text": [
      "  6% (814 of 12280) |#                   | Elapsed Time: 0:01:07 ETA:   0:16:59"
     ]
    },
    {
     "name": "stdout",
     "output_type": "stream",
     "text": [
      "http://pbs.twimg.com/profile_images/1221532104242020352/w2qiPhpX_normal.jpg\n"
     ]
    },
    {
     "name": "stderr",
     "output_type": "stream",
     "text": [
      "  6% (822 of 12280) |#                   | Elapsed Time: 0:01:07 ETA:   0:16:18"
     ]
    },
    {
     "name": "stdout",
     "output_type": "stream",
     "text": [
      "http://pbs.twimg.com/profile_images/1238632255775477762/Bm9-FMwC_normal.jpg\n"
     ]
    },
    {
     "name": "stderr",
     "output_type": "stream",
     "text": [
      "  7% (930 of 12280) |#                   | Elapsed Time: 0:01:16 ETA:   0:16:09"
     ]
    },
    {
     "name": "stdout",
     "output_type": "stream",
     "text": [
      "http://pbs.twimg.com/profile_images/1185419761301278722/I7tb_-TH_normal.jpg\n"
     ]
    },
    {
     "name": "stderr",
     "output_type": "stream",
     "text": [
      "  7% (949 of 12280) |#                   | Elapsed Time: 0:01:18 ETA:   0:17:36"
     ]
    },
    {
     "name": "stdout",
     "output_type": "stream",
     "text": [
      "http://pbs.twimg.com/profile_images/1218006286370996224/YUGW77DW_normal.jpg\n"
     ]
    },
    {
     "name": "stderr",
     "output_type": "stream",
     "text": [
      "  7% (969 of 12280) |#                   | Elapsed Time: 0:01:20 ETA:   0:15:54"
     ]
    },
    {
     "name": "stdout",
     "output_type": "stream",
     "text": [
      "http://pbs.twimg.com/profile_images/1184554166888402945/3XL2q3R1_normal.jpg\n"
     ]
    },
    {
     "name": "stderr",
     "output_type": "stream",
     "text": [
      "  7% (981 of 12280) |#                   | Elapsed Time: 0:01:21 ETA:   0:15:57"
     ]
    },
    {
     "name": "stdout",
     "output_type": "stream",
     "text": [
      "http://pbs.twimg.com/profile_images/1234035159596326912/xGbyfk5m_normal.jpg\n"
     ]
    },
    {
     "name": "stderr",
     "output_type": "stream",
     "text": [
      "  8% (994 of 12280) |#                   | Elapsed Time: 0:01:22 ETA:   0:15:37"
     ]
    },
    {
     "name": "stdout",
     "output_type": "stream",
     "text": [
      "http://pbs.twimg.com/profile_images/1231407562844712960/5rbDkPnv_normal.jpg\n"
     ]
    },
    {
     "name": "stderr",
     "output_type": "stream",
     "text": [
      "  8% (1105 of 12280) |#                  | Elapsed Time: 0:01:31 ETA:   0:13:22"
     ]
    },
    {
     "name": "stdout",
     "output_type": "stream",
     "text": [
      "http://pbs.twimg.com/profile_images/1236015376225505286/n-y5VqL2_normal.jpg\n"
     ]
    },
    {
     "name": "stderr",
     "output_type": "stream",
     "text": [
      "  9% (1116 of 12280) |#                  | Elapsed Time: 0:01:32 ETA:   0:14:35"
     ]
    },
    {
     "name": "stdout",
     "output_type": "stream",
     "text": [
      "http://pbs.twimg.com/profile_images/1239967629160468480/wA8NTbEn_normal.jpg\n"
     ]
    },
    {
     "name": "stderr",
     "output_type": "stream",
     "text": [
      "  9% (1193 of 12280) |#                  | Elapsed Time: 0:01:38 ETA:   0:15:13"
     ]
    },
    {
     "name": "stdout",
     "output_type": "stream",
     "text": [
      "http://pbs.twimg.com/profile_images/670831686809223168/mvWa_iCo_normal.jpg\n"
     ]
    },
    {
     "name": "stderr",
     "output_type": "stream",
     "text": [
      " 10% (1263 of 12280) |#                  | Elapsed Time: 0:01:44 ETA:   0:15:30"
     ]
    },
    {
     "name": "stdout",
     "output_type": "stream",
     "text": [
      "http://pbs.twimg.com/profile_images/1241887422344048647/bky2XQio_normal.jpg\n"
     ]
    },
    {
     "name": "stderr",
     "output_type": "stream",
     "text": [
      " 10% (1267 of 12280) |#                  | Elapsed Time: 0:01:44 ETA:   0:16:00"
     ]
    },
    {
     "name": "stdout",
     "output_type": "stream",
     "text": [
      "http://pbs.twimg.com/profile_images/1236674304084971520/QnWan2dq_normal.jpg\n"
     ]
    },
    {
     "name": "stderr",
     "output_type": "stream",
     "text": [
      " 10% (1291 of 12280) |#                  | Elapsed Time: 0:01:46 ETA:   0:15:29"
     ]
    },
    {
     "name": "stdout",
     "output_type": "stream",
     "text": [
      "http://pbs.twimg.com/profile_images/1231599163567214592/9iKIFzYo_normal.jpg\n"
     ]
    },
    {
     "name": "stderr",
     "output_type": "stream",
     "text": [
      " 11% (1388 of 12280) |##                 | Elapsed Time: 0:01:54 ETA:   0:14:01"
     ]
    },
    {
     "name": "stdout",
     "output_type": "stream",
     "text": [
      "http://pbs.twimg.com/profile_images/1240690567769702401/W16bt2MJ_normal.jpg\n"
     ]
    },
    {
     "name": "stderr",
     "output_type": "stream",
     "text": [
      " 11% (1392 of 12280) |##                 | Elapsed Time: 0:01:54 ETA:   0:14:19"
     ]
    },
    {
     "name": "stdout",
     "output_type": "stream",
     "text": [
      "http://pbs.twimg.com/profile_images/1238909642060726280/dSwS5mRS_normal.jpg\n"
     ]
    },
    {
     "name": "stderr",
     "output_type": "stream",
     "text": [
      " 11% (1455 of 12280) |##                 | Elapsed Time: 0:01:59 ETA:   0:14:23"
     ]
    },
    {
     "name": "stdout",
     "output_type": "stream",
     "text": [
      "http://pbs.twimg.com/profile_images/1045213222624579587/0zN0Srhu_normal.jpg\n"
     ]
    },
    {
     "name": "stderr",
     "output_type": "stream",
     "text": [
      " 11% (1470 of 12280) |##                 | Elapsed Time: 0:02:01 ETA:   0:20:12"
     ]
    },
    {
     "name": "stdout",
     "output_type": "stream",
     "text": [
      "http://pbs.twimg.com/profile_images/1241430763154726912/2QMSuyHq_normal.jpg\n"
     ]
    },
    {
     "name": "stderr",
     "output_type": "stream",
     "text": [
      " 12% (1506 of 12280) |##                 | Elapsed Time: 0:02:04 ETA:   0:15:41"
     ]
    },
    {
     "name": "stdout",
     "output_type": "stream",
     "text": [
      "http://pbs.twimg.com/profile_images/1240621060082499586/DKQ4qvO6_normal.jpg\n"
     ]
    },
    {
     "name": "stderr",
     "output_type": "stream",
     "text": [
      " 12% (1541 of 12280) |##                 | Elapsed Time: 0:02:07 ETA:   0:13:25"
     ]
    },
    {
     "name": "stdout",
     "output_type": "stream",
     "text": [
      "http://pbs.twimg.com/profile_images/1227614815574581249/bSWyRfdX_normal.jpg\n"
     ]
    },
    {
     "name": "stderr",
     "output_type": "stream",
     "text": [
      " 12% (1567 of 12280) |##                 | Elapsed Time: 0:02:09 ETA:   0:13:15"
     ]
    },
    {
     "name": "stdout",
     "output_type": "stream",
     "text": [
      "http://pbs.twimg.com/profile_images/1240334661664071680/SsfaPgMr_normal.jpg\n"
     ]
    },
    {
     "name": "stderr",
     "output_type": "stream",
     "text": [
      " 13% (1618 of 12280) |##                 | Elapsed Time: 0:02:13 ETA:   0:14:58"
     ]
    },
    {
     "name": "stdout",
     "output_type": "stream",
     "text": [
      "http://pbs.twimg.com/profile_images/1238234750134845441/0VZSTekS_normal.jpg\n"
     ]
    },
    {
     "name": "stderr",
     "output_type": "stream",
     "text": [
      " 13% (1646 of 12280) |##                 | Elapsed Time: 0:02:15 ETA:   0:14:50"
     ]
    },
    {
     "name": "stdout",
     "output_type": "stream",
     "text": [
      "http://pbs.twimg.com/profile_images/1229421742759657474/rF1rF7cL_normal.jpg\n"
     ]
    },
    {
     "name": "stderr",
     "output_type": "stream",
     "text": [
      " 13% (1654 of 12280) |##                 | Elapsed Time: 0:02:16 ETA:   0:14:54"
     ]
    },
    {
     "name": "stdout",
     "output_type": "stream",
     "text": [
      "http://pbs.twimg.com/profile_images/1238976528878166017/57dvYDKK_normal.jpg\n"
     ]
    },
    {
     "name": "stderr",
     "output_type": "stream",
     "text": [
      " 13% (1660 of 12280) |##                 | Elapsed Time: 0:02:17 ETA:   0:15:24"
     ]
    },
    {
     "name": "stdout",
     "output_type": "stream",
     "text": [
      "http://pbs.twimg.com/profile_images/1214729877364101121/EbXMQ8pU_normal.jpg\n"
     ]
    },
    {
     "name": "stderr",
     "output_type": "stream",
     "text": [
      " 13% (1672 of 12280) |##                 | Elapsed Time: 0:02:18 ETA:   0:14:48"
     ]
    },
    {
     "name": "stdout",
     "output_type": "stream",
     "text": [
      "http://pbs.twimg.com/profile_images/1233732132117327873/xwx_x-_1_normal.jpg\n"
     ]
    },
    {
     "name": "stderr",
     "output_type": "stream",
     "text": [
      " 13% (1714 of 12280) |##                 | Elapsed Time: 0:02:21 ETA:   0:14:26"
     ]
    },
    {
     "name": "stdout",
     "output_type": "stream",
     "text": [
      "http://pbs.twimg.com/profile_images/1228364699449905154/eQs3ICKS_normal.jpg\n",
      "http://pbs.twimg.com/profile_images/1215595160236478465/c5jwsZ38_normal.jpg\n"
     ]
    },
    {
     "name": "stderr",
     "output_type": "stream",
     "text": [
      " 14% (1724 of 12280) |##                 | Elapsed Time: 0:02:22 ETA:   0:13:05"
     ]
    },
    {
     "name": "stdout",
     "output_type": "stream",
     "text": [
      "http://pbs.twimg.com/profile_images/1238125055395184643/zyjeAYwo_normal.jpg\n"
     ]
    },
    {
     "name": "stderr",
     "output_type": "stream",
     "text": [
      " 14% (1731 of 12280) |##                 | Elapsed Time: 0:02:22 ETA:   0:13:22"
     ]
    },
    {
     "name": "stdout",
     "output_type": "stream",
     "text": [
      "http://pbs.twimg.com/profile_images/1075943283367514113/YOmdQfyh_normal.jpg\n"
     ]
    },
    {
     "name": "stderr",
     "output_type": "stream",
     "text": [
      " 14% (1815 of 12280) |##                 | Elapsed Time: 0:02:29 ETA:   0:15:09"
     ]
    },
    {
     "name": "stdout",
     "output_type": "stream",
     "text": [
      "http://pbs.twimg.com/profile_images/1172939719820267520/Sf3ueGVP_normal.jpg\n"
     ]
    },
    {
     "name": "stderr",
     "output_type": "stream",
     "text": [
      " 14% (1830 of 12280) |##                 | Elapsed Time: 0:02:31 ETA:   0:14:06"
     ]
    },
    {
     "name": "stdout",
     "output_type": "stream",
     "text": [
      "http://pbs.twimg.com/profile_images/1241482543477788673/4fHJXa4Q_normal.jpg\n"
     ]
    },
    {
     "name": "stderr",
     "output_type": "stream",
     "text": [
      " 15% (1849 of 12280) |##                 | Elapsed Time: 0:02:32 ETA:   0:13:34"
     ]
    },
    {
     "name": "stdout",
     "output_type": "stream",
     "text": [
      "http://pbs.twimg.com/profile_images/1241645395773517824/uFKeDkS3_normal.jpg\n"
     ]
    },
    {
     "name": "stderr",
     "output_type": "stream",
     "text": [
      " 15% (1864 of 12280) |##                 | Elapsed Time: 0:02:33 ETA:   0:14:39"
     ]
    },
    {
     "name": "stdout",
     "output_type": "stream",
     "text": [
      "http://pbs.twimg.com/profile_images/1173642496712175625/9Jbsy2-E_normal.jpg\n"
     ]
    },
    {
     "name": "stderr",
     "output_type": "stream",
     "text": [
      " 15% (1898 of 12280) |##                 | Elapsed Time: 0:02:36 ETA:   0:12:55"
     ]
    },
    {
     "name": "stdout",
     "output_type": "stream",
     "text": [
      "http://pbs.twimg.com/profile_images/1236140283462590464/kdp9vV9T_normal.jpg\n"
     ]
    },
    {
     "name": "stderr",
     "output_type": "stream",
     "text": [
      " 15% (1919 of 12280) |##                 | Elapsed Time: 0:02:38 ETA:   0:13:24"
     ]
    },
    {
     "name": "stdout",
     "output_type": "stream",
     "text": [
      "http://pbs.twimg.com/profile_images/1241229295697244166/-afNZLET_normal.jpg\n"
     ]
    },
    {
     "name": "stderr",
     "output_type": "stream",
     "text": [
      " 15% (1951 of 12280) |###                | Elapsed Time: 0:02:40 ETA:   0:15:06"
     ]
    },
    {
     "name": "stdout",
     "output_type": "stream",
     "text": [
      "http://pbs.twimg.com/profile_images/934908818017914880/i-JR974a_normal.jpg\n",
      "http://pbs.twimg.com/profile_images/1200582538315620359/2EMFnzb5_normal.jpg\n"
     ]
    },
    {
     "name": "stderr",
     "output_type": "stream",
     "text": [
      " 16% (1993 of 12280) |###                | Elapsed Time: 0:02:44 ETA:   0:13:43"
     ]
    },
    {
     "name": "stdout",
     "output_type": "stream",
     "text": [
      "http://pbs.twimg.com/profile_images/1213189955901632512/RCTdGsLI_normal.jpg\n"
     ]
    },
    {
     "name": "stderr",
     "output_type": "stream",
     "text": [
      " 16% (1997 of 12280) |###                | Elapsed Time: 0:02:44 ETA:   0:13:49"
     ]
    },
    {
     "name": "stdout",
     "output_type": "stream",
     "text": [
      "http://pbs.twimg.com/profile_images/1241035137829273605/VEW8n4L2_normal.jpg\n"
     ]
    },
    {
     "name": "stderr",
     "output_type": "stream",
     "text": [
      "\r",
      " 16% (1999 of 12280) |###                | Elapsed Time: 0:02:44 ETA:   0:13:57"
     ]
    },
    {
     "name": "stdout",
     "output_type": "stream",
     "text": [
      "http://pbs.twimg.com/profile_images/1197568183709970433/iMpsGCF3_normal.jpg\n"
     ]
    },
    {
     "name": "stderr",
     "output_type": "stream",
     "text": [
      " 16% (2013 of 12280) |###                | Elapsed Time: 0:02:45 ETA:   0:13:40"
     ]
    },
    {
     "name": "stdout",
     "output_type": "stream",
     "text": [
      "http://pbs.twimg.com/profile_images/1236787858444353536/yS1JOcWN_normal.jpg\n"
     ]
    },
    {
     "name": "stderr",
     "output_type": "stream",
     "text": [
      " 16% (2065 of 12280) |###                | Elapsed Time: 0:02:50 ETA:   0:15:22"
     ]
    },
    {
     "name": "stdout",
     "output_type": "stream",
     "text": [
      "http://pbs.twimg.com/profile_images/1240417805196877824/eswLuyvc_normal.jpg\n"
     ]
    },
    {
     "name": "stderr",
     "output_type": "stream",
     "text": [
      " 16% (2070 of 12280) |###                | Elapsed Time: 0:02:50 ETA:   0:15:01"
     ]
    },
    {
     "name": "stdout",
     "output_type": "stream",
     "text": [
      "http://pbs.twimg.com/profile_images/1239821600360468486/n2qxo1dW_normal.jpg\n",
      "http://pbs.twimg.com/profile_images/1238217936851980289/1SGX9yap_normal.jpg\n"
     ]
    },
    {
     "name": "stderr",
     "output_type": "stream",
     "text": [
      " 16% (2080 of 12280) |###                | Elapsed Time: 0:02:51 ETA:   0:13:41"
     ]
    },
    {
     "name": "stdout",
     "output_type": "stream",
     "text": [
      "http://pbs.twimg.com/profile_images/1241267162624544769/mzr74NzZ_normal.jpg\n"
     ]
    },
    {
     "name": "stderr",
     "output_type": "stream",
     "text": [
      " 17% (2092 of 12280) |###                | Elapsed Time: 0:02:52 ETA:   0:12:26"
     ]
    },
    {
     "name": "stdout",
     "output_type": "stream",
     "text": [
      "http://pbs.twimg.com/profile_images/1234228820875497473/IcliPwWy_normal.jpg\n"
     ]
    },
    {
     "name": "stderr",
     "output_type": "stream",
     "text": [
      " 17% (2106 of 12280) |###                | Elapsed Time: 0:02:53 ETA:   0:13:42"
     ]
    },
    {
     "name": "stdout",
     "output_type": "stream",
     "text": [
      "http://pbs.twimg.com/profile_images/1170134077015515137/GMGdFOXf_normal.jpg\n"
     ]
    },
    {
     "name": "stderr",
     "output_type": "stream",
     "text": [
      " 17% (2121 of 12280) |###                | Elapsed Time: 0:02:54 ETA:   0:15:15"
     ]
    },
    {
     "name": "stdout",
     "output_type": "stream",
     "text": [
      "http://pbs.twimg.com/profile_images/1242119304235155457/G-Mai6KI_normal.jpg\n"
     ]
    },
    {
     "name": "stderr",
     "output_type": "stream",
     "text": [
      " 17% (2210 of 12280) |###                | Elapsed Time: 0:03:02 ETA:   0:15:11"
     ]
    },
    {
     "name": "stdout",
     "output_type": "stream",
     "text": [
      "http://pbs.twimg.com/profile_images/1228558465817333762/BdPyufkz_normal.jpg\n",
      "http://pbs.twimg.com/profile_images/1240956750167236608/eLLjc0vG_normal.jpg\n"
     ]
    },
    {
     "name": "stderr",
     "output_type": "stream",
     "text": [
      " 18% (2275 of 12280) |###                | Elapsed Time: 0:03:07 ETA:   0:13:14"
     ]
    },
    {
     "name": "stdout",
     "output_type": "stream",
     "text": [
      "http://pbs.twimg.com/profile_images/1239642552774594560/egAxzjFz_normal.jpg\n"
     ]
    },
    {
     "name": "stderr",
     "output_type": "stream",
     "text": [
      " 18% (2299 of 12280) |###                | Elapsed Time: 0:03:09 ETA:   0:13:18"
     ]
    },
    {
     "name": "stdout",
     "output_type": "stream",
     "text": [
      "http://pbs.twimg.com/profile_images/1234712245571129344/wvMgWX8K_normal.jpg\n"
     ]
    },
    {
     "name": "stderr",
     "output_type": "stream",
     "text": [
      " 18% (2306 of 12280) |###                | Elapsed Time: 0:03:09 ETA:   0:13:35"
     ]
    },
    {
     "name": "stdout",
     "output_type": "stream",
     "text": [
      "http://pbs.twimg.com/profile_images/1239271549833805826/wYHbOrht_normal.jpg\n",
      "http://pbs.twimg.com/profile_images/1161090366361231360/-0f1s2NL_normal.jpg\n"
     ]
    },
    {
     "name": "stderr",
     "output_type": "stream",
     "text": [
      " 19% (2389 of 12280) |###                | Elapsed Time: 0:03:16 ETA:   0:12:46"
     ]
    },
    {
     "name": "stdout",
     "output_type": "stream",
     "text": [
      "http://pbs.twimg.com/profile_images/1241567154538975232/N0wyxBk7_normal.jpg\n"
     ]
    },
    {
     "name": "stderr",
     "output_type": "stream",
     "text": [
      " 19% (2392 of 12280) |###                | Elapsed Time: 0:03:16 ETA:   0:12:57"
     ]
    },
    {
     "name": "stdout",
     "output_type": "stream",
     "text": [
      "http://pbs.twimg.com/profile_images/1241066716681113602/0D8RwMDb_normal.jpg\n"
     ]
    },
    {
     "name": "stderr",
     "output_type": "stream",
     "text": [
      " 19% (2431 of 12280) |###                | Elapsed Time: 0:03:20 ETA:   0:13:45"
     ]
    },
    {
     "name": "stdout",
     "output_type": "stream",
     "text": [
      "http://pbs.twimg.com/profile_images/1203013013764104192/zo82AxKH_normal.jpg\n"
     ]
    },
    {
     "name": "stderr",
     "output_type": "stream",
     "text": [
      " 19% (2445 of 12280) |###                | Elapsed Time: 0:03:21 ETA:   0:13:25"
     ]
    },
    {
     "name": "stdout",
     "output_type": "stream",
     "text": [
      "http://pbs.twimg.com/profile_images/1209345741728161793/kONcp6Cw_normal.jpg\n"
     ]
    },
    {
     "name": "stderr",
     "output_type": "stream",
     "text": [
      " 19% (2455 of 12280) |###                | Elapsed Time: 0:03:21 ETA:   0:13:18"
     ]
    },
    {
     "name": "stdout",
     "output_type": "stream",
     "text": [
      "http://pbs.twimg.com/profile_images/1239213692278931467/Dwg1Eozx_normal.jpg\n"
     ]
    },
    {
     "name": "stderr",
     "output_type": "stream",
     "text": [
      " 20% (2491 of 12280) |###                | Elapsed Time: 0:03:24 ETA:   0:12:36"
     ]
    },
    {
     "name": "stdout",
     "output_type": "stream",
     "text": [
      "http://pbs.twimg.com/profile_images/1238525404484378624/rKgAca_e_normal.jpg\n"
     ]
    },
    {
     "name": "stderr",
     "output_type": "stream",
     "text": [
      " 20% (2557 of 12280) |###                | Elapsed Time: 0:03:30 ETA:   0:12:21"
     ]
    },
    {
     "name": "stdout",
     "output_type": "stream",
     "text": [
      "http://pbs.twimg.com/profile_images/884797683445125120/OVzqnCTq_normal.jpg\n"
     ]
    },
    {
     "name": "stderr",
     "output_type": "stream",
     "text": [
      " 20% (2575 of 12280) |###                | Elapsed Time: 0:03:31 ETA:   0:13:14"
     ]
    },
    {
     "name": "stdout",
     "output_type": "stream",
     "text": [
      "http://pbs.twimg.com/profile_images/1224416573504606208/9zuJfhTl_normal.jpg\n"
     ]
    },
    {
     "name": "stderr",
     "output_type": "stream",
     "text": [
      " 21% (2594 of 12280) |####               | Elapsed Time: 0:03:32 ETA:   0:12:31"
     ]
    },
    {
     "name": "stdout",
     "output_type": "stream",
     "text": [
      "http://pbs.twimg.com/profile_images/1240467082799505408/0VHqbkMg_normal.jpg\n"
     ]
    },
    {
     "name": "stderr",
     "output_type": "stream",
     "text": [
      " 21% (2650 of 12280) |####               | Elapsed Time: 0:03:37 ETA:   0:12:33"
     ]
    },
    {
     "name": "stdout",
     "output_type": "stream",
     "text": [
      "http://pbs.twimg.com/profile_images/1221655195341545472/DPE8a3og_normal.jpg\n",
      "http://pbs.twimg.com/profile_images/1241619614741614593/QzvoZa3U_normal.jpg\n"
     ]
    },
    {
     "name": "stderr",
     "output_type": "stream",
     "text": [
      " 21% (2677 of 12280) |####               | Elapsed Time: 0:03:39 ETA:   0:12:31"
     ]
    },
    {
     "name": "stdout",
     "output_type": "stream",
     "text": [
      "http://pbs.twimg.com/profile_images/1204577886524596225/TZeEbw7Y_normal.jpg\n"
     ]
    },
    {
     "name": "stderr",
     "output_type": "stream",
     "text": [
      " 22% (2705 of 12280) |####               | Elapsed Time: 0:03:41 ETA:   0:12:48"
     ]
    },
    {
     "name": "stdout",
     "output_type": "stream",
     "text": [
      "http://pbs.twimg.com/profile_images/1133857665183100928/MmAUnYzv_normal.jpg\n"
     ]
    },
    {
     "name": "stderr",
     "output_type": "stream",
     "text": [
      " 22% (2713 of 12280) |####               | Elapsed Time: 0:03:42 ETA:   0:13:23"
     ]
    },
    {
     "name": "stdout",
     "output_type": "stream",
     "text": [
      "http://pbs.twimg.com/profile_images/1238244072319373313/D9wcoyW1_normal.jpg\n"
     ]
    },
    {
     "name": "stderr",
     "output_type": "stream",
     "text": [
      " 22% (2720 of 12280) |####               | Elapsed Time: 0:03:42 ETA:   0:13:05"
     ]
    },
    {
     "name": "stdout",
     "output_type": "stream",
     "text": [
      "http://pbs.twimg.com/profile_images/1226581061825695744/Eoqc0qAW_normal.jpg\n"
     ]
    },
    {
     "name": "stderr",
     "output_type": "stream",
     "text": [
      " 22% (2768 of 12280) |####               | Elapsed Time: 0:03:46 ETA:   0:12:54"
     ]
    },
    {
     "name": "stdout",
     "output_type": "stream",
     "text": [
      "http://pbs.twimg.com/profile_images/1235997527473717248/VLDkXrrV_normal.jpg\n"
     ]
    },
    {
     "name": "stderr",
     "output_type": "stream",
     "text": [
      " 22% (2778 of 12280) |####               | Elapsed Time: 0:03:47 ETA:   0:12:22"
     ]
    },
    {
     "name": "stdout",
     "output_type": "stream",
     "text": [
      "http://pbs.twimg.com/profile_images/1217914447903117312/MZigJOfk_normal.jpg\n"
     ]
    },
    {
     "name": "stderr",
     "output_type": "stream",
     "text": [
      " 22% (2784 of 12280) |####               | Elapsed Time: 0:03:48 ETA:   0:12:22"
     ]
    },
    {
     "name": "stdout",
     "output_type": "stream",
     "text": [
      "http://pbs.twimg.com/profile_images/1241632628618362880/EeF5CzAT_normal.jpg\n"
     ]
    },
    {
     "name": "stderr",
     "output_type": "stream",
     "text": [
      " 22% (2807 of 12280) |####               | Elapsed Time: 0:03:49 ETA:   0:12:55"
     ]
    },
    {
     "name": "stdout",
     "output_type": "stream",
     "text": [
      "http://pbs.twimg.com/profile_images/1228463203614699520/sTEohkhA_normal.jpg\n"
     ]
    },
    {
     "name": "stderr",
     "output_type": "stream",
     "text": [
      " 22% (2816 of 12280) |####               | Elapsed Time: 0:03:50 ETA:   0:13:24"
     ]
    },
    {
     "name": "stdout",
     "output_type": "stream",
     "text": [
      "http://pbs.twimg.com/profile_images/1214203878566088704/NXtwIGNP_normal.jpg\n"
     ]
    },
    {
     "name": "stderr",
     "output_type": "stream",
     "text": [
      " 23% (2829 of 12280) |####               | Elapsed Time: 0:03:51 ETA:   0:13:15"
     ]
    },
    {
     "name": "stdout",
     "output_type": "stream",
     "text": [
      "http://pbs.twimg.com/profile_images/1214578223771725825/lUcLlyg5_normal.jpg\n"
     ]
    },
    {
     "name": "stderr",
     "output_type": "stream",
     "text": [
      "\r",
      " 23% (2831 of 12280) |####               | Elapsed Time: 0:03:52 ETA:   0:13:29"
     ]
    },
    {
     "name": "stdout",
     "output_type": "stream",
     "text": [
      "http://pbs.twimg.com/profile_images/1209675257801428992/xV5vvHe__normal.jpg\n"
     ]
    },
    {
     "name": "stderr",
     "output_type": "stream",
     "text": [
      " 23% (2851 of 12280) |####               | Elapsed Time: 0:03:53 ETA:   0:11:51"
     ]
    },
    {
     "name": "stdout",
     "output_type": "stream",
     "text": [
      "http://pbs.twimg.com/profile_images/1122978882737434624/c2LYnzZ6_normal.png\n"
     ]
    },
    {
     "name": "stderr",
     "output_type": "stream",
     "text": [
      " 24% (2975 of 12280) |####               | Elapsed Time: 0:04:03 ETA:   0:11:22"
     ]
    },
    {
     "name": "stdout",
     "output_type": "stream",
     "text": [
      "http://pbs.twimg.com/profile_images/1236790463392354305/fobZxVvC_normal.jpg\n"
     ]
    },
    {
     "name": "stderr",
     "output_type": "stream",
     "text": [
      " 24% (2987 of 12280) |####               | Elapsed Time: 0:04:04 ETA:   0:11:12"
     ]
    },
    {
     "name": "stdout",
     "output_type": "stream",
     "text": [
      "http://pbs.twimg.com/profile_images/1232941862450757635/yGzcCVPv_normal.jpg\n"
     ]
    },
    {
     "name": "stderr",
     "output_type": "stream",
     "text": [
      " 24% (3003 of 12280) |####               | Elapsed Time: 0:04:05 ETA:   0:13:01"
     ]
    },
    {
     "name": "stdout",
     "output_type": "stream",
     "text": [
      "http://pbs.twimg.com/profile_images/1240449211663089666/ut0xwBEy_normal.jpg\n"
     ]
    },
    {
     "name": "stderr",
     "output_type": "stream",
     "text": [
      " 24% (3054 of 12280) |####               | Elapsed Time: 0:04:09 ETA:   0:13:31"
     ]
    },
    {
     "name": "stdout",
     "output_type": "stream",
     "text": [
      "http://pbs.twimg.com/profile_images/1232009730392018945/8nuaorpW_normal.jpg\n"
     ]
    },
    {
     "name": "stderr",
     "output_type": "stream",
     "text": [
      "\r",
      " 24% (3056 of 12280) |####               | Elapsed Time: 0:04:10 ETA:   0:13:38"
     ]
    },
    {
     "name": "stdout",
     "output_type": "stream",
     "text": [
      "http://pbs.twimg.com/profile_images/1241385330131042305/klnr4b4K_normal.jpg\n"
     ]
    },
    {
     "name": "stderr",
     "output_type": "stream",
     "text": [
      " 24% (3068 of 12280) |####               | Elapsed Time: 0:04:11 ETA:   0:13:10"
     ]
    },
    {
     "name": "stdout",
     "output_type": "stream",
     "text": [
      "http://pbs.twimg.com/profile_images/1161547702506786817/0U3k0RBe_normal.jpg\n"
     ]
    },
    {
     "name": "stderr",
     "output_type": "stream",
     "text": [
      " 25% (3109 of 12280) |####               | Elapsed Time: 0:04:14 ETA:   0:14:15"
     ]
    },
    {
     "name": "stdout",
     "output_type": "stream",
     "text": [
      "http://pbs.twimg.com/profile_images/1179244468207263744/ANR0RcCy_normal.jpg\n"
     ]
    },
    {
     "name": "stderr",
     "output_type": "stream",
     "text": [
      " 25% (3122 of 12280) |####               | Elapsed Time: 0:04:15 ETA:   0:12:41"
     ]
    },
    {
     "name": "stdout",
     "output_type": "stream",
     "text": [
      "http://pbs.twimg.com/profile_images/1239739946665234433/v8EG1mRq_normal.jpg\n"
     ]
    },
    {
     "name": "stderr",
     "output_type": "stream",
     "text": [
      " 25% (3145 of 12280) |####               | Elapsed Time: 0:04:17 ETA:   0:12:25"
     ]
    },
    {
     "name": "stdout",
     "output_type": "stream",
     "text": [
      "http://pbs.twimg.com/profile_images/1180339491761844224/2ooYF_is_normal.jpg\n"
     ]
    },
    {
     "name": "stderr",
     "output_type": "stream",
     "text": [
      " 25% (3157 of 12280) |####               | Elapsed Time: 0:04:18 ETA:   0:12:38"
     ]
    },
    {
     "name": "stdout",
     "output_type": "stream",
     "text": [
      "http://pbs.twimg.com/profile_images/1237577343964565504/nf6Plsei_normal.jpg\n"
     ]
    },
    {
     "name": "stderr",
     "output_type": "stream",
     "text": [
      " 26% (3195 of 12280) |####               | Elapsed Time: 0:04:21 ETA:   0:12:21"
     ]
    },
    {
     "name": "stdout",
     "output_type": "stream",
     "text": [
      "http://pbs.twimg.com/profile_images/1237509576548741120/UFU1g1tR_normal.jpg\n"
     ]
    },
    {
     "name": "stderr",
     "output_type": "stream",
     "text": [
      " 26% (3211 of 12280) |####               | Elapsed Time: 0:04:23 ETA:   0:13:27"
     ]
    },
    {
     "name": "stdout",
     "output_type": "stream",
     "text": [
      "http://pbs.twimg.com/profile_images/1235813601140596736/6zKwtRBk_normal.jpg\n"
     ]
    },
    {
     "name": "stderr",
     "output_type": "stream",
     "text": [
      " 26% (3217 of 12280) |####               | Elapsed Time: 0:04:23 ETA:   0:12:52"
     ]
    },
    {
     "name": "stdout",
     "output_type": "stream",
     "text": [
      "http://pbs.twimg.com/profile_images/1199357790759931904/YSuaYVD2_normal.jpg\n"
     ]
    },
    {
     "name": "stderr",
     "output_type": "stream",
     "text": [
      " 26% (3231 of 12280) |####               | Elapsed Time: 0:04:24 ETA:   0:14:19"
     ]
    },
    {
     "name": "stdout",
     "output_type": "stream",
     "text": [
      "http://pbs.twimg.com/profile_images/1216656142585278466/8RnlA7NF_normal.jpg\n"
     ]
    },
    {
     "name": "stderr",
     "output_type": "stream",
     "text": [
      " 26% (3241 of 12280) |#####              | Elapsed Time: 0:04:25 ETA:   0:15:16"
     ]
    },
    {
     "name": "stdout",
     "output_type": "stream",
     "text": [
      "http://pbs.twimg.com/profile_images/1214973507836301313/4BNY43Rm_normal.jpg\n"
     ]
    },
    {
     "name": "stderr",
     "output_type": "stream",
     "text": [
      " 26% (3245 of 12280) |#####              | Elapsed Time: 0:04:26 ETA:   0:14:02"
     ]
    },
    {
     "name": "stdout",
     "output_type": "stream",
     "text": [
      "http://pbs.twimg.com/profile_images/1213232577726648320/B_ofs38J_normal.jpg\n"
     ]
    },
    {
     "name": "stderr",
     "output_type": "stream",
     "text": [
      " 26% (3287 of 12280) |#####              | Elapsed Time: 0:04:29 ETA:   0:12:08"
     ]
    },
    {
     "name": "stdout",
     "output_type": "stream",
     "text": [
      "http://pbs.twimg.com/profile_images/1237989767645663232/546k6rTx_normal.jpg\n"
     ]
    },
    {
     "name": "stderr",
     "output_type": "stream",
     "text": [
      " 26% (3293 of 12280) |#####              | Elapsed Time: 0:04:30 ETA:   0:12:08"
     ]
    },
    {
     "name": "stdout",
     "output_type": "stream",
     "text": [
      "http://pbs.twimg.com/profile_images/2844859092/312ad12eeda43a839703f4599cfc423d_normal.jpeg\n"
     ]
    },
    {
     "name": "stderr",
     "output_type": "stream",
     "text": [
      " 27% (3323 of 12280) |#####              | Elapsed Time: 0:04:32 ETA:   0:13:12"
     ]
    },
    {
     "name": "stdout",
     "output_type": "stream",
     "text": [
      "http://pbs.twimg.com/profile_images/1237610327199461377/8lS8pP5B_normal.jpg\n"
     ]
    },
    {
     "name": "stderr",
     "output_type": "stream",
     "text": [
      " 27% (3343 of 12280) |#####              | Elapsed Time: 0:04:34 ETA:   0:14:27"
     ]
    },
    {
     "name": "stdout",
     "output_type": "stream",
     "text": [
      "http://pbs.twimg.com/profile_images/1229610478898421761/UBZ8j5D4_normal.jpg\n"
     ]
    },
    {
     "name": "stderr",
     "output_type": "stream",
     "text": [
      " 27% (3385 of 12280) |#####              | Elapsed Time: 0:04:38 ETA:   0:12:31"
     ]
    },
    {
     "name": "stdout",
     "output_type": "stream",
     "text": [
      "http://pbs.twimg.com/profile_images/378800000703592596/7c2a23a291b3a72985adfb72861eae29_normal.jpeg\n"
     ]
    },
    {
     "name": "stderr",
     "output_type": "stream",
     "text": [
      " 27% (3399 of 12280) |#####              | Elapsed Time: 0:04:39 ETA:   0:11:27"
     ]
    },
    {
     "name": "stdout",
     "output_type": "stream",
     "text": [
      "http://pbs.twimg.com/profile_images/1213681793494335489/KfFI3IrA_normal.jpg\n"
     ]
    },
    {
     "name": "stderr",
     "output_type": "stream",
     "text": [
      " 27% (3432 of 12280) |#####              | Elapsed Time: 0:04:42 ETA:   0:11:37"
     ]
    },
    {
     "name": "stdout",
     "output_type": "stream",
     "text": [
      "http://pbs.twimg.com/profile_images/1232163441818906625/0iJuk3iR_normal.jpg\n"
     ]
    },
    {
     "name": "stderr",
     "output_type": "stream",
     "text": [
      " 28% (3440 of 12280) |#####              | Elapsed Time: 0:04:42 ETA:   0:11:29"
     ]
    },
    {
     "name": "stdout",
     "output_type": "stream",
     "text": [
      "http://pbs.twimg.com/profile_images/1241742767832907777/3P0gTdZm_normal.jpg\n"
     ]
    },
    {
     "name": "stderr",
     "output_type": "stream",
     "text": [
      " 28% (3465 of 12280) |#####              | Elapsed Time: 0:04:44 ETA:   0:12:29"
     ]
    },
    {
     "name": "stdout",
     "output_type": "stream",
     "text": [
      "http://pbs.twimg.com/profile_images/1232373796037971971/Vt5_raOw_normal.jpg\n",
      "http://pbs.twimg.com/profile_images/1206779174662348800/7HlaztY-_normal.jpg\n"
     ]
    },
    {
     "name": "stderr",
     "output_type": "stream",
     "text": [
      " 28% (3468 of 12280) |#####              | Elapsed Time: 0:04:45 ETA:   0:12:50"
     ]
    },
    {
     "name": "stdout",
     "output_type": "stream",
     "text": [
      "http://pbs.twimg.com/profile_images/1227339217702969344/3x7Ulzm1_normal.jpg\n"
     ]
    },
    {
     "name": "stderr",
     "output_type": "stream",
     "text": [
      " 28% (3489 of 12280) |#####              | Elapsed Time: 0:04:46 ETA:   0:11:46"
     ]
    },
    {
     "name": "stdout",
     "output_type": "stream",
     "text": [
      "http://pbs.twimg.com/profile_images/1236441420652613634/8rbGuf6T_normal.jpg\n"
     ]
    },
    {
     "name": "stderr",
     "output_type": "stream",
     "text": [
      " 28% (3514 of 12280) |#####              | Elapsed Time: 0:04:48 ETA:   0:12:33"
     ]
    },
    {
     "name": "stdout",
     "output_type": "stream",
     "text": [
      "http://pbs.twimg.com/profile_images/1240804973946036224/KHrGGtZu_normal.jpg\n"
     ]
    },
    {
     "name": "stderr",
     "output_type": "stream",
     "text": [
      " 29% (3582 of 12280) |#####              | Elapsed Time: 0:04:55 ETA:   0:18:44"
     ]
    },
    {
     "name": "stdout",
     "output_type": "stream",
     "text": [
      "http://pbs.twimg.com/profile_images/1171051665753067521/YXTjQQSs_normal.jpg\n"
     ]
    },
    {
     "name": "stderr",
     "output_type": "stream",
     "text": [
      " 29% (3604 of 12280) |#####              | Elapsed Time: 0:04:56 ETA:   0:11:03"
     ]
    },
    {
     "name": "stdout",
     "output_type": "stream",
     "text": [
      "http://pbs.twimg.com/profile_images/1203084241862569984/HI-Muv8J_normal.jpg\n"
     ]
    },
    {
     "name": "stderr",
     "output_type": "stream",
     "text": [
      " 29% (3611 of 12280) |#####              | Elapsed Time: 0:04:57 ETA:   0:10:24"
     ]
    },
    {
     "name": "stdout",
     "output_type": "stream",
     "text": [
      "http://pbs.twimg.com/profile_images/1007114361691877376/57VQiG0T_normal.jpg\n"
     ]
    },
    {
     "name": "stderr",
     "output_type": "stream",
     "text": [
      " 29% (3669 of 12280) |#####              | Elapsed Time: 0:05:02 ETA:   0:12:19"
     ]
    },
    {
     "name": "stdout",
     "output_type": "stream",
     "text": [
      "http://pbs.twimg.com/profile_images/1221760996517138432/8TSXuc4i_normal.jpg\n"
     ]
    },
    {
     "name": "stderr",
     "output_type": "stream",
     "text": [
      " 30% (3704 of 12280) |#####              | Elapsed Time: 0:05:05 ETA:   0:11:51"
     ]
    },
    {
     "name": "stdout",
     "output_type": "stream",
     "text": [
      "http://pbs.twimg.com/profile_images/1220121357805113344/X1trFNZP_normal.jpg\n"
     ]
    },
    {
     "name": "stderr",
     "output_type": "stream",
     "text": [
      " 30% (3784 of 12280) |#####              | Elapsed Time: 0:05:12 ETA:   0:12:04"
     ]
    },
    {
     "name": "stdout",
     "output_type": "stream",
     "text": [
      "http://pbs.twimg.com/profile_images/1166168262033281026/VDzgbp5b_normal.jpg\n"
     ]
    },
    {
     "name": "stderr",
     "output_type": "stream",
     "text": [
      " 31% (3832 of 12280) |#####              | Elapsed Time: 0:05:16 ETA:   0:12:00"
     ]
    },
    {
     "name": "stdout",
     "output_type": "stream",
     "text": [
      "http://pbs.twimg.com/profile_images/1218580089568464896/OgdHZoLE_normal.jpg\n"
     ]
    },
    {
     "name": "stderr",
     "output_type": "stream",
     "text": [
      " 31% (3836 of 12280) |#####              | Elapsed Time: 0:05:16 ETA:   0:12:08"
     ]
    },
    {
     "name": "stdout",
     "output_type": "stream",
     "text": [
      "http://pbs.twimg.com/profile_images/987095234629664768/M6t_MOhc_normal.jpg\n"
     ]
    },
    {
     "name": "stderr",
     "output_type": "stream",
     "text": [
      " 31% (3848 of 12280) |#####              | Elapsed Time: 0:05:17 ETA:   0:11:46"
     ]
    },
    {
     "name": "stdout",
     "output_type": "stream",
     "text": [
      "http://pbs.twimg.com/profile_images/1215472707069972489/fhqAm8KC_normal.jpg\n"
     ]
    },
    {
     "name": "stderr",
     "output_type": "stream",
     "text": [
      " 31% (3852 of 12280) |#####              | Elapsed Time: 0:05:17 ETA:   0:11:49"
     ]
    },
    {
     "name": "stdout",
     "output_type": "stream",
     "text": [
      "http://pbs.twimg.com/profile_images/1214950224432652289/foNx3b0w_normal.jpg\n",
      "http://pbs.twimg.com/profile_images/715196054438879233/pLQBtGyj_normal.jpg\n"
     ]
    },
    {
     "name": "stderr",
     "output_type": "stream",
     "text": [
      " 31% (3860 of 12280) |#####              | Elapsed Time: 0:05:18 ETA:   0:11:18"
     ]
    },
    {
     "name": "stdout",
     "output_type": "stream",
     "text": [
      "http://pbs.twimg.com/profile_images/1158536394740051968/lMMFL-7h_normal.jpg\n"
     ]
    },
    {
     "name": "stderr",
     "output_type": "stream",
     "text": [
      " 31% (3865 of 12280) |#####              | Elapsed Time: 0:05:18 ETA:   0:11:12"
     ]
    },
    {
     "name": "stdout",
     "output_type": "stream",
     "text": [
      "http://pbs.twimg.com/profile_images/1232318972990611456/ylA03NX8_normal.jpg\n"
     ]
    },
    {
     "name": "stderr",
     "output_type": "stream",
     "text": [
      " 31% (3869 of 12280) |#####              | Elapsed Time: 0:05:18 ETA:   0:11:04"
     ]
    },
    {
     "name": "stdout",
     "output_type": "stream",
     "text": [
      "http://pbs.twimg.com/profile_images/1155905635827011584/M5XsL7Fe_normal.jpg\n"
     ]
    },
    {
     "name": "stderr",
     "output_type": "stream",
     "text": [
      " 31% (3897 of 12280) |######             | Elapsed Time: 0:05:21 ETA:   0:12:16"
     ]
    },
    {
     "name": "stdout",
     "output_type": "stream",
     "text": [
      "http://pbs.twimg.com/profile_images/1222637933628481536/fRSzEY0h_normal.jpg\n"
     ]
    },
    {
     "name": "stderr",
     "output_type": "stream",
     "text": [
      " 31% (3902 of 12280) |######             | Elapsed Time: 0:05:22 ETA:   0:13:07"
     ]
    },
    {
     "name": "stdout",
     "output_type": "stream",
     "text": [
      "http://pbs.twimg.com/profile_images/1181010495102431232/k07Qtcsv_normal.jpg\n"
     ]
    },
    {
     "name": "stderr",
     "output_type": "stream",
     "text": [
      " 32% (3944 of 12280) |######             | Elapsed Time: 0:05:25 ETA:   0:11:28"
     ]
    },
    {
     "name": "stdout",
     "output_type": "stream",
     "text": [
      "http://pbs.twimg.com/profile_images/1239746718683586561/TyKAX2XV_normal.jpg\n"
     ]
    },
    {
     "name": "stderr",
     "output_type": "stream",
     "text": [
      " 32% (3973 of 12280) |######             | Elapsed Time: 0:05:27 ETA:   0:10:59"
     ]
    },
    {
     "name": "stdout",
     "output_type": "stream",
     "text": [
      "http://pbs.twimg.com/profile_images/1213403670886408193/JeAyRd0m_normal.jpg\n"
     ]
    },
    {
     "name": "stderr",
     "output_type": "stream",
     "text": [
      " 32% (3993 of 12280) |######             | Elapsed Time: 0:05:29 ETA:   0:11:22"
     ]
    },
    {
     "name": "stdout",
     "output_type": "stream",
     "text": [
      "http://pbs.twimg.com/profile_images/1241640080285917185/YYxAzwR3_normal.jpg\n"
     ]
    },
    {
     "name": "stderr",
     "output_type": "stream",
     "text": [
      " 32% (4024 of 12280) |######             | Elapsed Time: 0:05:31 ETA:   0:11:20"
     ]
    },
    {
     "name": "stdout",
     "output_type": "stream",
     "text": [
      "http://pbs.twimg.com/profile_images/1208409375586566145/T07TF2Fo_normal.jpg\n"
     ]
    },
    {
     "name": "stderr",
     "output_type": "stream",
     "text": [
      " 33% (4064 of 12280) |######             | Elapsed Time: 0:05:35 ETA:   0:12:19"
     ]
    },
    {
     "name": "stdout",
     "output_type": "stream",
     "text": [
      "http://pbs.twimg.com/profile_images/1226997646335725568/bhTfzT5B_normal.jpg\n"
     ]
    },
    {
     "name": "stderr",
     "output_type": "stream",
     "text": [
      " 33% (4074 of 12280) |######             | Elapsed Time: 0:05:36 ETA:   0:11:18"
     ]
    },
    {
     "name": "stdout",
     "output_type": "stream",
     "text": [
      "http://pbs.twimg.com/profile_images/1241447032918867971/mL_Lh_T9_normal.jpg\n"
     ]
    },
    {
     "name": "stderr",
     "output_type": "stream",
     "text": [
      " 34% (4189 of 12280) |######             | Elapsed Time: 0:05:45 ETA:   0:10:50"
     ]
    },
    {
     "name": "stdout",
     "output_type": "stream",
     "text": [
      "http://pbs.twimg.com/profile_images/1153069368999366656/vGA_8xZU_normal.jpg\n"
     ]
    },
    {
     "name": "stderr",
     "output_type": "stream",
     "text": [
      " 34% (4227 of 12280) |######             | Elapsed Time: 0:05:49 ETA:   0:13:36"
     ]
    },
    {
     "name": "stdout",
     "output_type": "stream",
     "text": [
      "http://pbs.twimg.com/profile_images/1241399558644654080/FFBW8MhF_normal.jpg\n"
     ]
    },
    {
     "name": "stderr",
     "output_type": "stream",
     "text": [
      " 34% (4232 of 12280) |######             | Elapsed Time: 0:05:50 ETA:   0:13:40"
     ]
    },
    {
     "name": "stdout",
     "output_type": "stream",
     "text": [
      "http://pbs.twimg.com/profile_images/646916353400676352/bvJQ_8JT_normal.jpg\n"
     ]
    },
    {
     "name": "stderr",
     "output_type": "stream",
     "text": [
      " 34% (4237 of 12280) |######             | Elapsed Time: 0:05:50 ETA:   0:12:57"
     ]
    },
    {
     "name": "stdout",
     "output_type": "stream",
     "text": [
      "http://pbs.twimg.com/profile_images/1237909871426785280/tWRzh48O_normal.jpg\n"
     ]
    },
    {
     "name": "stderr",
     "output_type": "stream",
     "text": [
      " 35% (4315 of 12280) |######             | Elapsed Time: 0:05:57 ETA:   0:11:14"
     ]
    },
    {
     "name": "stdout",
     "output_type": "stream",
     "text": [
      "http://pbs.twimg.com/profile_images/1185102578226520065/JO0kdSst_normal.jpg\n"
     ]
    },
    {
     "name": "stderr",
     "output_type": "stream",
     "text": [
      " 35% (4325 of 12280) |######             | Elapsed Time: 0:05:58 ETA:   0:10:37"
     ]
    },
    {
     "name": "stdout",
     "output_type": "stream",
     "text": [
      "http://pbs.twimg.com/profile_images/1202857903222403073/G4Cq0AWY_normal.jpg\n"
     ]
    },
    {
     "name": "stderr",
     "output_type": "stream",
     "text": [
      " 35% (4330 of 12280) |######             | Elapsed Time: 0:05:58 ETA:   0:11:02"
     ]
    },
    {
     "name": "stdout",
     "output_type": "stream",
     "text": [
      "http://pbs.twimg.com/profile_images/1145724098649231360/B7tikZfH_normal.jpg\n"
     ]
    },
    {
     "name": "stderr",
     "output_type": "stream",
     "text": [
      " 35% (4395 of 12280) |######             | Elapsed Time: 0:06:03 ETA:   0:10:56"
     ]
    },
    {
     "name": "stdout",
     "output_type": "stream",
     "text": [
      "http://pbs.twimg.com/profile_images/1224168292887166976/Q7FtrFZt_normal.jpg\n",
      "http://pbs.twimg.com/profile_images/1236673807118512128/Zm5KaLuy_normal.jpg\n"
     ]
    },
    {
     "name": "stderr",
     "output_type": "stream",
     "text": [
      " 36% (4441 of 12280) |######             | Elapsed Time: 0:06:14 ETA:   0:10:49"
     ]
    },
    {
     "name": "stdout",
     "output_type": "stream",
     "text": [
      "http://pbs.twimg.com/profile_images/1237593241395924992/k8t7nj9a_normal.jpg\n"
     ]
    },
    {
     "name": "stderr",
     "output_type": "stream",
     "text": [
      " 36% (4460 of 12280) |######             | Elapsed Time: 0:06:16 ETA:   0:12:34"
     ]
    },
    {
     "name": "stdout",
     "output_type": "stream",
     "text": [
      "http://pbs.twimg.com/profile_images/3356979222/0fcad6baa67441357b4517f8dd37bb7c_normal.jpeg\n",
      "http://pbs.twimg.com/profile_images/1239706751307563010/kPLu2giN_normal.jpg\n"
     ]
    },
    {
     "name": "stderr",
     "output_type": "stream",
     "text": [
      " 36% (4496 of 12280) |######             | Elapsed Time: 0:06:19 ETA:   0:10:07"
     ]
    },
    {
     "name": "stdout",
     "output_type": "stream",
     "text": [
      "http://pbs.twimg.com/profile_images/1077411668282478592/uNBiLgVw_normal.jpg\n"
     ]
    },
    {
     "name": "stderr",
     "output_type": "stream",
     "text": [
      " 36% (4510 of 12280) |######             | Elapsed Time: 0:06:20 ETA:   0:10:02"
     ]
    },
    {
     "name": "stdout",
     "output_type": "stream",
     "text": [
      "http://pbs.twimg.com/profile_images/1222941633957765121/S2u89FCW_normal.jpg\n"
     ]
    },
    {
     "name": "stderr",
     "output_type": "stream",
     "text": [
      " 36% (4532 of 12280) |#######            | Elapsed Time: 0:06:22 ETA:   0:11:13"
     ]
    },
    {
     "name": "stdout",
     "output_type": "stream",
     "text": [
      "http://pbs.twimg.com/profile_images/1240246085714677761/dNeOfH7t_normal.jpg\n"
     ]
    },
    {
     "name": "stderr",
     "output_type": "stream",
     "text": [
      " 36% (4538 of 12280) |#######            | Elapsed Time: 0:06:22 ETA:   0:11:18"
     ]
    },
    {
     "name": "stdout",
     "output_type": "stream",
     "text": [
      "http://pbs.twimg.com/profile_images/1240326115958415367/HAblrQL1_normal.jpg\n"
     ]
    },
    {
     "name": "stderr",
     "output_type": "stream",
     "text": [
      " 37% (4546 of 12280) |#######            | Elapsed Time: 0:06:23 ETA:   0:10:25"
     ]
    },
    {
     "name": "stdout",
     "output_type": "stream",
     "text": [
      "http://pbs.twimg.com/profile_images/1239953068948631552/hCm5vXqq_normal.jpg\n"
     ]
    },
    {
     "name": "stderr",
     "output_type": "stream",
     "text": [
      " 37% (4618 of 12280) |#######            | Elapsed Time: 0:06:29 ETA:   0:09:52"
     ]
    },
    {
     "name": "stdout",
     "output_type": "stream",
     "text": [
      "http://pbs.twimg.com/profile_images/1194248181149786112/YtCtXY7D_normal.jpg\n"
     ]
    },
    {
     "name": "stderr",
     "output_type": "stream",
     "text": [
      " 37% (4640 of 12280) |#######            | Elapsed Time: 0:06:30 ETA:   0:10:47"
     ]
    },
    {
     "name": "stdout",
     "output_type": "stream",
     "text": [
      "http://pbs.twimg.com/profile_images/761933711826976772/Il2AVHha_normal.jpg\n"
     ]
    },
    {
     "name": "stderr",
     "output_type": "stream",
     "text": [
      " 38% (4677 of 12280) |#######            | Elapsed Time: 0:06:33 ETA:   0:10:48"
     ]
    },
    {
     "name": "stdout",
     "output_type": "stream",
     "text": [
      "http://pbs.twimg.com/profile_images/1200973253050806272/AL9L3txK_normal.jpg\n",
      "http://pbs.twimg.com/profile_images/1237036600548364288/D8m8IGGh_normal.jpg\n"
     ]
    },
    {
     "name": "stderr",
     "output_type": "stream",
     "text": [
      " 38% (4698 of 12280) |#######            | Elapsed Time: 0:06:35 ETA:   0:10:06"
     ]
    },
    {
     "name": "stdout",
     "output_type": "stream",
     "text": [
      "http://pbs.twimg.com/profile_images/1173946631370223618/1UnpqJOa_normal.jpg\n"
     ]
    },
    {
     "name": "stderr",
     "output_type": "stream",
     "text": [
      " 38% (4701 of 12280) |#######            | Elapsed Time: 0:06:35 ETA:   0:10:06"
     ]
    },
    {
     "name": "stdout",
     "output_type": "stream",
     "text": [
      "http://pbs.twimg.com/profile_images/1241182718865682444/mc0BYjD6_normal.jpg\n",
      "http://pbs.twimg.com/profile_images/1184882749515227136/xswAc_Q5_normal.jpg\n"
     ]
    },
    {
     "name": "stderr",
     "output_type": "stream",
     "text": [
      " 38% (4707 of 12280) |#######            | Elapsed Time: 0:06:36 ETA:   0:10:42"
     ]
    },
    {
     "name": "stdout",
     "output_type": "stream",
     "text": [
      "http://pbs.twimg.com/profile_images/1177395490817789952/8YPec02a_normal.jpg\n"
     ]
    },
    {
     "name": "stderr",
     "output_type": "stream",
     "text": [
      " 38% (4719 of 12280) |#######            | Elapsed Time: 0:06:37 ETA:   0:10:47"
     ]
    },
    {
     "name": "stdout",
     "output_type": "stream",
     "text": [
      "http://pbs.twimg.com/profile_images/1241198867435184128/rplphM0a_normal.jpg\n"
     ]
    },
    {
     "name": "stderr",
     "output_type": "stream",
     "text": [
      " 38% (4764 of 12280) |#######            | Elapsed Time: 0:06:40 ETA:   0:09:53"
     ]
    },
    {
     "name": "stdout",
     "output_type": "stream",
     "text": [
      "http://pbs.twimg.com/profile_images/1237488424359284736/yF0qG3aO_normal.jpg\n"
     ]
    },
    {
     "name": "stderr",
     "output_type": "stream",
     "text": [
      " 38% (4773 of 12280) |#######            | Elapsed Time: 0:06:41 ETA:   0:10:13"
     ]
    },
    {
     "name": "stdout",
     "output_type": "stream",
     "text": [
      "http://pbs.twimg.com/profile_images/1161660253336997888/DSJWdZ8Q_normal.jpg\n"
     ]
    },
    {
     "name": "stderr",
     "output_type": "stream",
     "text": [
      " 39% (4806 of 12280) |#######            | Elapsed Time: 0:06:44 ETA:   0:10:09"
     ]
    },
    {
     "name": "stdout",
     "output_type": "stream",
     "text": [
      "http://pbs.twimg.com/profile_images/1221651000915824640/diL_ABft_normal.jpg\n"
     ]
    },
    {
     "name": "stderr",
     "output_type": "stream",
     "text": [
      " 39% (4829 of 12280) |#######            | Elapsed Time: 0:06:46 ETA:   0:09:20"
     ]
    },
    {
     "name": "stdout",
     "output_type": "stream",
     "text": [
      "http://pbs.twimg.com/profile_images/1239079156563890177/HMrLHLX0_normal.jpg\n"
     ]
    },
    {
     "name": "stderr",
     "output_type": "stream",
     "text": [
      " 39% (4834 of 12280) |#######            | Elapsed Time: 0:06:46 ETA:   0:09:39"
     ]
    },
    {
     "name": "stdout",
     "output_type": "stream",
     "text": [
      "http://pbs.twimg.com/profile_images/1241458753276448770/jL9BreeR_normal.jpg\n"
     ]
    },
    {
     "name": "stderr",
     "output_type": "stream",
     "text": [
      " 39% (4857 of 12280) |#######            | Elapsed Time: 0:06:48 ETA:   0:09:51"
     ]
    },
    {
     "name": "stdout",
     "output_type": "stream",
     "text": [
      "http://pbs.twimg.com/profile_images/1241929800094289920/vWAKPY6O_normal.jpg\n"
     ]
    },
    {
     "name": "stderr",
     "output_type": "stream",
     "text": [
      " 40% (4921 of 12280) |#######            | Elapsed Time: 0:06:53 ETA:   0:09:49"
     ]
    },
    {
     "name": "stdout",
     "output_type": "stream",
     "text": [
      "http://pbs.twimg.com/profile_images/1238939278425477120/_v4BfbWK_normal.jpg\n"
     ]
    },
    {
     "name": "stderr",
     "output_type": "stream",
     "text": [
      " 40% (4952 of 12280) |#######            | Elapsed Time: 0:06:56 ETA:   0:10:10"
     ]
    },
    {
     "name": "stdout",
     "output_type": "stream",
     "text": [
      "http://pbs.twimg.com/profile_images/1114932944/me_normal.jpg\n"
     ]
    },
    {
     "name": "stderr",
     "output_type": "stream",
     "text": [
      " 40% (4970 of 12280) |#######            | Elapsed Time: 0:06:57 ETA:   0:10:55"
     ]
    },
    {
     "name": "stdout",
     "output_type": "stream",
     "text": [
      "http://pbs.twimg.com/profile_images/1213628923461939201/WOoCF_0v_normal.jpg\n",
      "http://pbs.twimg.com/profile_images/1240739457634127873/5n1OpOG1_normal.jpg\n"
     ]
    },
    {
     "name": "stderr",
     "output_type": "stream",
     "text": [
      " 40% (4993 of 12280) |#######            | Elapsed Time: 0:06:59 ETA:   0:09:10"
     ]
    },
    {
     "name": "stdout",
     "output_type": "stream",
     "text": [
      "http://pbs.twimg.com/profile_images/1238695702835998721/IFszLUWB_normal.jpg\n"
     ]
    },
    {
     "name": "stderr",
     "output_type": "stream",
     "text": [
      " 40% (5012 of 12280) |#######            | Elapsed Time: 0:07:01 ETA:   0:11:05"
     ]
    },
    {
     "name": "stdout",
     "output_type": "stream",
     "text": [
      "http://pbs.twimg.com/profile_images/1146268923706454018/E8zokHTa_normal.jpg\n"
     ]
    },
    {
     "name": "stderr",
     "output_type": "stream",
     "text": [
      " 41% (5044 of 12280) |#######            | Elapsed Time: 0:07:03 ETA:   0:09:41"
     ]
    },
    {
     "name": "stdout",
     "output_type": "stream",
     "text": [
      "http://pbs.twimg.com/profile_images/1230121369989472256/107wpdTD_normal.jpg\n"
     ]
    },
    {
     "name": "stderr",
     "output_type": "stream",
     "text": [
      " 41% (5111 of 12280) |#######            | Elapsed Time: 0:07:09 ETA:   0:09:45"
     ]
    },
    {
     "name": "stdout",
     "output_type": "stream",
     "text": [
      "http://pbs.twimg.com/profile_images/84554578/smuggs-07b_normal.JPG\n"
     ]
    },
    {
     "name": "stderr",
     "output_type": "stream",
     "text": [
      " 41% (5130 of 12280) |#######            | Elapsed Time: 0:07:10 ETA:   0:09:58"
     ]
    },
    {
     "name": "stdout",
     "output_type": "stream",
     "text": [
      "http://pbs.twimg.com/profile_images/1242111702818316290/Svglzrsp_normal.jpg\n"
     ]
    },
    {
     "name": "stderr",
     "output_type": "stream",
     "text": [
      " 42% (5194 of 12280) |########           | Elapsed Time: 0:07:16 ETA:   0:09:55"
     ]
    },
    {
     "name": "stdout",
     "output_type": "stream",
     "text": [
      "http://pbs.twimg.com/profile_images/806476870887804928/uNgIwIcM_normal.jpg\n"
     ]
    },
    {
     "name": "stderr",
     "output_type": "stream",
     "text": [
      " 42% (5200 of 12280) |########           | Elapsed Time: 0:07:16 ETA:   0:09:52"
     ]
    },
    {
     "name": "stdout",
     "output_type": "stream",
     "text": [
      "http://pbs.twimg.com/profile_images/1238664487458295811/Lozo6ivS_normal.jpg\n"
     ]
    },
    {
     "name": "stderr",
     "output_type": "stream",
     "text": [
      "\r",
      " 42% (5202 of 12280) |########           | Elapsed Time: 0:07:16 ETA:   0:10:09"
     ]
    },
    {
     "name": "stdout",
     "output_type": "stream",
     "text": [
      "http://pbs.twimg.com/profile_images/1240502574056423424/1VZW5XB8_normal.jpg\n"
     ]
    },
    {
     "name": "stderr",
     "output_type": "stream",
     "text": [
      " 42% (5280 of 12280) |########           | Elapsed Time: 0:07:23 ETA:   0:09:58"
     ]
    },
    {
     "name": "stdout",
     "output_type": "stream",
     "text": [
      "http://pbs.twimg.com/profile_images/1222381532230209536/VPnDApIM_normal.jpg\n"
     ]
    },
    {
     "name": "stderr",
     "output_type": "stream",
     "text": [
      " 43% (5332 of 12280) |########           | Elapsed Time: 0:07:27 ETA:   0:09:16"
     ]
    },
    {
     "name": "stdout",
     "output_type": "stream",
     "text": [
      "http://pbs.twimg.com/profile_images/1239736464843214848/_bLyrEFW_normal.jpg\n"
     ]
    },
    {
     "name": "stderr",
     "output_type": "stream",
     "text": [
      " 43% (5348 of 12280) |########           | Elapsed Time: 0:07:29 ETA:   0:09:03"
     ]
    },
    {
     "name": "stdout",
     "output_type": "stream",
     "text": [
      "http://pbs.twimg.com/profile_images/1240780373455515650/oi4iDRqB_normal.jpg\n"
     ]
    },
    {
     "name": "stderr",
     "output_type": "stream",
     "text": [
      " 43% (5356 of 12280) |########           | Elapsed Time: 0:07:29 ETA:   0:09:07"
     ]
    },
    {
     "name": "stdout",
     "output_type": "stream",
     "text": [
      "http://pbs.twimg.com/profile_images/1236441562596487176/7FwFupI__normal.jpg\n"
     ]
    },
    {
     "name": "stderr",
     "output_type": "stream",
     "text": [
      " 43% (5386 of 12280) |########           | Elapsed Time: 0:07:32 ETA:   0:09:04"
     ]
    },
    {
     "name": "stdout",
     "output_type": "stream",
     "text": [
      "http://pbs.twimg.com/profile_images/1234174976057585666/nBpwLuf1_normal.jpg\n",
      "http://pbs.twimg.com/profile_images/1173290273146900480/DHg7FDrh_normal.jpg\n"
     ]
    },
    {
     "name": "stderr",
     "output_type": "stream",
     "text": [
      " 44% (5404 of 12280) |########           | Elapsed Time: 0:07:33 ETA:   0:09:26"
     ]
    },
    {
     "name": "stdout",
     "output_type": "stream",
     "text": [
      "http://pbs.twimg.com/profile_images/1240514014179766273/0CWkgt94_normal.jpg\n"
     ]
    },
    {
     "name": "stderr",
     "output_type": "stream",
     "text": [
      " 44% (5432 of 12280) |########           | Elapsed Time: 0:07:36 ETA:   0:09:37"
     ]
    },
    {
     "name": "stdout",
     "output_type": "stream",
     "text": [
      "http://pbs.twimg.com/profile_images/1200231208367656960/UqcX5P1t_normal.jpg\n"
     ]
    },
    {
     "name": "stderr",
     "output_type": "stream",
     "text": [
      " 44% (5445 of 12280) |########           | Elapsed Time: 0:07:37 ETA:   0:09:27"
     ]
    },
    {
     "name": "stdout",
     "output_type": "stream",
     "text": [
      "http://pbs.twimg.com/profile_images/1210965837802332166/X7cj-2Ov_normal.jpg\n"
     ]
    },
    {
     "name": "stderr",
     "output_type": "stream",
     "text": [
      " 44% (5468 of 12280) |########           | Elapsed Time: 0:07:38 ETA:   0:09:01"
     ]
    },
    {
     "name": "stdout",
     "output_type": "stream",
     "text": [
      "http://pbs.twimg.com/profile_images/1212239535352025088/RAtrIOX5_normal.jpg\n"
     ]
    },
    {
     "name": "stderr",
     "output_type": "stream",
     "text": [
      " 44% (5512 of 12280) |########           | Elapsed Time: 0:07:42 ETA:   0:09:07"
     ]
    },
    {
     "name": "stdout",
     "output_type": "stream",
     "text": [
      "http://pbs.twimg.com/profile_images/1226475760447303681/eYEQ7s1d_normal.jpg\n"
     ]
    },
    {
     "name": "stderr",
     "output_type": "stream",
     "text": [
      " 45% (5557 of 12280) |########           | Elapsed Time: 0:07:46 ETA:   0:09:15"
     ]
    },
    {
     "name": "stdout",
     "output_type": "stream",
     "text": [
      "http://pbs.twimg.com/profile_images/1230130602990395392/_J8vEG6h_normal.jpg\n"
     ]
    },
    {
     "name": "stderr",
     "output_type": "stream",
     "text": [
      " 45% (5614 of 12280) |########           | Elapsed Time: 0:07:53 ETA:   0:26:17"
     ]
    },
    {
     "name": "stdout",
     "output_type": "stream",
     "text": [
      "http://pbs.twimg.com/profile_images/1233473319686623233/5ZD3-vfw_normal.jpg\n",
      "http://pbs.twimg.com/profile_images/1232226308257669120/2elmTiqO_normal.jpg\n"
     ]
    },
    {
     "name": "stderr",
     "output_type": "stream",
     "text": [
      "\r",
      " 45% (5616 of 12280) |########           | Elapsed Time: 0:07:53 ETA:   0:24:53"
     ]
    },
    {
     "name": "stdout",
     "output_type": "stream",
     "text": [
      "http://pbs.twimg.com/profile_images/1221181847889174528/QXXoeOFi_normal.jpg\n"
     ]
    },
    {
     "name": "stderr",
     "output_type": "stream",
     "text": [
      " 46% (5662 of 12280) |########           | Elapsed Time: 0:07:58 ETA:   0:09:20"
     ]
    },
    {
     "name": "stdout",
     "output_type": "stream",
     "text": [
      "http://pbs.twimg.com/profile_images/1105666616879136768/iSrNr7Cm_normal.jpg\n"
     ]
    },
    {
     "name": "stderr",
     "output_type": "stream",
     "text": [
      " 46% (5716 of 12280) |########           | Elapsed Time: 0:08:02 ETA:   0:09:15"
     ]
    },
    {
     "name": "stdout",
     "output_type": "stream",
     "text": [
      "http://pbs.twimg.com/profile_images/1231250272523096070/0gd8PHW2_normal.jpg\n"
     ]
    },
    {
     "name": "stderr",
     "output_type": "stream",
     "text": [
      " 46% (5737 of 12280) |########           | Elapsed Time: 0:08:04 ETA:   0:09:00"
     ]
    },
    {
     "name": "stdout",
     "output_type": "stream",
     "text": [
      "http://pbs.twimg.com/profile_images/1210711545275138054/w_sMf11f_normal.jpg\n"
     ]
    },
    {
     "name": "stderr",
     "output_type": "stream",
     "text": [
      " 46% (5745 of 12280) |########           | Elapsed Time: 0:08:05 ETA:   0:09:17"
     ]
    },
    {
     "name": "stdout",
     "output_type": "stream",
     "text": [
      "http://pbs.twimg.com/profile_images/1236529560948281344/VtOLNG-e_normal.jpg\n"
     ]
    },
    {
     "name": "stderr",
     "output_type": "stream",
     "text": [
      " 47% (5790 of 12280) |########           | Elapsed Time: 0:08:08 ETA:   0:07:53"
     ]
    },
    {
     "name": "stdout",
     "output_type": "stream",
     "text": [
      "http://pbs.twimg.com/profile_images/1235225200528064512/8Yemri04_normal.jpg\n",
      "http://pbs.twimg.com/profile_images/1216821958517710853/rtI0HBOx_normal.jpg\n"
     ]
    },
    {
     "name": "stderr",
     "output_type": "stream",
     "text": [
      " 47% (5794 of 12280) |########           | Elapsed Time: 0:08:08 ETA:   0:08:08"
     ]
    },
    {
     "name": "stdout",
     "output_type": "stream",
     "text": [
      "http://pbs.twimg.com/profile_images/1233643767263088640/dENA116F_normal.jpg\n"
     ]
    },
    {
     "name": "stderr",
     "output_type": "stream",
     "text": [
      " 47% (5797 of 12280) |########           | Elapsed Time: 0:08:09 ETA:   0:08:33"
     ]
    },
    {
     "name": "stdout",
     "output_type": "stream",
     "text": [
      "http://pbs.twimg.com/profile_images/1241393414316396546/KwFispBL_normal.jpg\n"
     ]
    },
    {
     "name": "stderr",
     "output_type": "stream",
     "text": [
      " 47% (5810 of 12280) |########           | Elapsed Time: 0:08:10 ETA:   0:09:26"
     ]
    },
    {
     "name": "stdout",
     "output_type": "stream",
     "text": [
      "http://pbs.twimg.com/profile_images/1235338529812746247/ojntrPE7_normal.jpg\n"
     ]
    },
    {
     "name": "stderr",
     "output_type": "stream",
     "text": [
      " 47% (5835 of 12280) |#########          | Elapsed Time: 0:08:12 ETA:   0:09:05"
     ]
    },
    {
     "name": "stdout",
     "output_type": "stream",
     "text": [
      "http://pbs.twimg.com/profile_images/1237197574743838721/fQm5cwqH_normal.jpg\n"
     ]
    },
    {
     "name": "stderr",
     "output_type": "stream",
     "text": [
      " 47% (5839 of 12280) |#########          | Elapsed Time: 0:08:12 ETA:   0:08:53"
     ]
    },
    {
     "name": "stdout",
     "output_type": "stream",
     "text": [
      "http://pbs.twimg.com/profile_images/1238304631551295488/VMPXgg0O_normal.jpg\n"
     ]
    },
    {
     "name": "stderr",
     "output_type": "stream",
     "text": [
      "\r",
      " 47% (5841 of 12280) |#########          | Elapsed Time: 0:08:12 ETA:   0:08:15"
     ]
    },
    {
     "name": "stdout",
     "output_type": "stream",
     "text": [
      "http://pbs.twimg.com/profile_images/1133954775643561984/PSXhtDOS_normal.jpg\n"
     ]
    },
    {
     "name": "stderr",
     "output_type": "stream",
     "text": [
      " 47% (5847 of 12280) |#########          | Elapsed Time: 0:08:13 ETA:   0:08:24"
     ]
    },
    {
     "name": "stdout",
     "output_type": "stream",
     "text": [
      "http://pbs.twimg.com/profile_images/1217276501265010688/pT8oYLDY_normal.jpg\n"
     ]
    },
    {
     "name": "stderr",
     "output_type": "stream",
     "text": [
      " 47% (5879 of 12280) |#########          | Elapsed Time: 0:08:16 ETA:   0:08:39"
     ]
    },
    {
     "name": "stdout",
     "output_type": "stream",
     "text": [
      "http://pbs.twimg.com/profile_images/1200465815293677568/vP_2s0xD_normal.jpg\n"
     ]
    },
    {
     "name": "stderr",
     "output_type": "stream",
     "text": [
      " 48% (5915 of 12280) |#########          | Elapsed Time: 0:08:18 ETA:   0:08:33"
     ]
    },
    {
     "name": "stdout",
     "output_type": "stream",
     "text": [
      "http://pbs.twimg.com/profile_images/1239577267543502848/ZKMF-7T-_normal.jpg\n"
     ]
    },
    {
     "name": "stderr",
     "output_type": "stream",
     "text": [
      " 48% (5929 of 12280) |#########          | Elapsed Time: 0:08:20 ETA:   0:08:13"
     ]
    },
    {
     "name": "stdout",
     "output_type": "stream",
     "text": [
      "http://pbs.twimg.com/profile_images/1210656855975841792/F_-x23ku_normal.jpg\n"
     ]
    },
    {
     "name": "stderr",
     "output_type": "stream",
     "text": [
      " 48% (5946 of 12280) |#########          | Elapsed Time: 0:08:21 ETA:   0:08:40"
     ]
    },
    {
     "name": "stdout",
     "output_type": "stream",
     "text": [
      "http://pbs.twimg.com/profile_images/1163132724376461312/CvzbxJKU_normal.jpg\n"
     ]
    },
    {
     "name": "stderr",
     "output_type": "stream",
     "text": [
      " 48% (5965 of 12280) |#########          | Elapsed Time: 0:08:23 ETA:   0:08:51"
     ]
    },
    {
     "name": "stdout",
     "output_type": "stream",
     "text": [
      "http://pbs.twimg.com/profile_images/1241760215202177024/I6VTlucz_normal.jpg\n"
     ]
    },
    {
     "name": "stderr",
     "output_type": "stream",
     "text": [
      " 48% (5973 of 12280) |#########          | Elapsed Time: 0:08:23 ETA:   0:08:59"
     ]
    },
    {
     "name": "stdout",
     "output_type": "stream",
     "text": [
      "http://pbs.twimg.com/profile_images/1226363670545846273/eA8mfRZf_normal.jpg\n"
     ]
    },
    {
     "name": "stderr",
     "output_type": "stream",
     "text": [
      " 48% (5976 of 12280) |#########          | Elapsed Time: 0:08:24 ETA:   0:09:13"
     ]
    },
    {
     "name": "stdout",
     "output_type": "stream",
     "text": [
      "http://pbs.twimg.com/profile_images/1232894139014025217/qf_8SKR2_normal.jpg\n"
     ]
    },
    {
     "name": "stderr",
     "output_type": "stream",
     "text": [
      " 48% (6002 of 12280) |#########          | Elapsed Time: 0:08:26 ETA:   0:08:19"
     ]
    },
    {
     "name": "stdout",
     "output_type": "stream",
     "text": [
      "http://pbs.twimg.com/profile_images/1204073910402199554/5dl0jdKr_normal.jpg\n"
     ]
    },
    {
     "name": "stderr",
     "output_type": "stream",
     "text": [
      " 49% (6056 of 12280) |#########          | Elapsed Time: 0:08:30 ETA:   0:08:21"
     ]
    },
    {
     "name": "stdout",
     "output_type": "stream",
     "text": [
      "http://pbs.twimg.com/profile_images/1023484883736387584/UMZNbNkb_normal.jpg\n"
     ]
    },
    {
     "name": "stderr",
     "output_type": "stream",
     "text": [
      " 49% (6089 of 12280) |#########          | Elapsed Time: 0:08:33 ETA:   0:08:47"
     ]
    },
    {
     "name": "stdout",
     "output_type": "stream",
     "text": [
      "http://pbs.twimg.com/profile_images/1223702473036255235/8721qH4X_normal.jpg\n"
     ]
    },
    {
     "name": "stderr",
     "output_type": "stream",
     "text": [
      " 49% (6105 of 12280) |#########          | Elapsed Time: 0:08:34 ETA:   0:08:39"
     ]
    },
    {
     "name": "stdout",
     "output_type": "stream",
     "text": [
      "http://pbs.twimg.com/profile_images/1240095395579080705/neN7Dt8t_normal.jpg\n"
     ]
    },
    {
     "name": "stderr",
     "output_type": "stream",
     "text": [
      " 50% (6177 of 12280) |#########          | Elapsed Time: 0:08:39 ETA:   0:08:26"
     ]
    },
    {
     "name": "stdout",
     "output_type": "stream",
     "text": [
      "http://pbs.twimg.com/profile_images/1239386664864231424/NOunuOBY_normal.jpg\n"
     ]
    },
    {
     "name": "stderr",
     "output_type": "stream",
     "text": [
      " 50% (6194 of 12280) |#########          | Elapsed Time: 0:08:41 ETA:   0:08:39"
     ]
    },
    {
     "name": "stdout",
     "output_type": "stream",
     "text": [
      "http://pbs.twimg.com/profile_images/1220123591674683394/RMLu0dEF_normal.jpg\n"
     ]
    },
    {
     "name": "stderr",
     "output_type": "stream",
     "text": [
      " 50% (6211 of 12280) |#########          | Elapsed Time: 0:08:42 ETA:   0:08:24"
     ]
    },
    {
     "name": "stdout",
     "output_type": "stream",
     "text": [
      "http://pbs.twimg.com/profile_images/1239436490796445697/LRtO0AvM_normal.jpg\n"
     ]
    },
    {
     "name": "stderr",
     "output_type": "stream",
     "text": [
      " 50% (6234 of 12280) |#########          | Elapsed Time: 0:08:44 ETA:   0:08:12"
     ]
    },
    {
     "name": "stdout",
     "output_type": "stream",
     "text": [
      "http://pbs.twimg.com/profile_images/1241900773467983874/B5T6eG6V_normal.jpg\n"
     ]
    },
    {
     "name": "stderr",
     "output_type": "stream",
     "text": [
      " 50% (6245 of 12280) |#########          | Elapsed Time: 0:08:45 ETA:   0:07:56"
     ]
    },
    {
     "name": "stdout",
     "output_type": "stream",
     "text": [
      "http://pbs.twimg.com/profile_images/1239613258434334721/nsppT8ZP_normal.jpg\n"
     ]
    },
    {
     "name": "stderr",
     "output_type": "stream",
     "text": [
      " 50% (6256 of 12280) |#########          | Elapsed Time: 0:08:46 ETA:   0:08:22"
     ]
    },
    {
     "name": "stdout",
     "output_type": "stream",
     "text": [
      "http://pbs.twimg.com/profile_images/1239212464056733697/wr7SPg-4_normal.jpg\n",
      "http://pbs.twimg.com/profile_images/1240786110684504064/nWwx0K2b_normal.jpg\n"
     ]
    },
    {
     "name": "stderr",
     "output_type": "stream",
     "text": [
      " 51% (6277 of 12280) |#########          | Elapsed Time: 0:08:48 ETA:   0:08:07"
     ]
    },
    {
     "name": "stdout",
     "output_type": "stream",
     "text": [
      "http://pbs.twimg.com/profile_images/1218432533173620739/-pvcqUE3_normal.jpg\n"
     ]
    },
    {
     "name": "stderr",
     "output_type": "stream",
     "text": [
      " 51% (6291 of 12280) |#########          | Elapsed Time: 0:08:49 ETA:   0:08:12"
     ]
    },
    {
     "name": "stdout",
     "output_type": "stream",
     "text": [
      "http://pbs.twimg.com/profile_images/1138416250495930368/Sglrzdrg_normal.jpg\n"
     ]
    },
    {
     "name": "stderr",
     "output_type": "stream",
     "text": [
      " 51% (6309 of 12280) |#########          | Elapsed Time: 0:08:50 ETA:   0:07:49"
     ]
    },
    {
     "name": "stdout",
     "output_type": "stream",
     "text": [
      "http://pbs.twimg.com/profile_images/1231200718448541696/kpDELMMR_normal.jpg\n"
     ]
    },
    {
     "name": "stderr",
     "output_type": "stream",
     "text": [
      " 51% (6319 of 12280) |#########          | Elapsed Time: 0:08:51 ETA:   0:08:40"
     ]
    },
    {
     "name": "stdout",
     "output_type": "stream",
     "text": [
      "http://pbs.twimg.com/profile_images/1193321946357862400/FHgcwP_o_normal.jpg\n"
     ]
    },
    {
     "name": "stderr",
     "output_type": "stream",
     "text": [
      " 51% (6345 of 12280) |#########          | Elapsed Time: 0:08:53 ETA:   0:08:03"
     ]
    },
    {
     "name": "stdout",
     "output_type": "stream",
     "text": [
      "http://pbs.twimg.com/profile_images/1234497582514266113/IdZ0G_KT_normal.jpg\n",
      "http://pbs.twimg.com/profile_images/1227826496015757312/O_YM4kYs_normal.jpg\n"
     ]
    },
    {
     "name": "stderr",
     "output_type": "stream",
     "text": [
      " 51% (6355 of 12280) |#########          | Elapsed Time: 0:08:54 ETA:   0:07:57"
     ]
    },
    {
     "name": "stdout",
     "output_type": "stream",
     "text": [
      "http://pbs.twimg.com/profile_images/1232919412480651265/dSgtLJcU_normal.jpg\n"
     ]
    },
    {
     "name": "stderr",
     "output_type": "stream",
     "text": [
      " 51% (6367 of 12280) |#########          | Elapsed Time: 0:08:55 ETA:   0:08:17"
     ]
    },
    {
     "name": "stdout",
     "output_type": "stream",
     "text": [
      "http://pbs.twimg.com/profile_images/1224448245490802689/lQZnPhpk_normal.jpg\n"
     ]
    },
    {
     "name": "stderr",
     "output_type": "stream",
     "text": [
      " 51% (6376 of 12280) |#########          | Elapsed Time: 0:08:56 ETA:   0:08:10"
     ]
    },
    {
     "name": "stdout",
     "output_type": "stream",
     "text": [
      "http://pbs.twimg.com/profile_images/1240020520684457986/uZMmljKx_normal.jpg\n"
     ]
    },
    {
     "name": "stderr",
     "output_type": "stream",
     "text": [
      " 52% (6432 of 12280) |#########          | Elapsed Time: 0:09:00 ETA:   0:07:31"
     ]
    },
    {
     "name": "stdout",
     "output_type": "stream",
     "text": [
      "http://pbs.twimg.com/profile_images/1183755661349277696/wMcxdzUh_normal.jpg\n"
     ]
    },
    {
     "name": "stderr",
     "output_type": "stream",
     "text": [
      " 52% (6438 of 12280) |#########          | Elapsed Time: 0:09:01 ETA:   0:07:35"
     ]
    },
    {
     "name": "stdout",
     "output_type": "stream",
     "text": [
      "http://pbs.twimg.com/profile_images/1238108044078256128/vN2kdxK0_normal.jpg\n"
     ]
    },
    {
     "name": "stderr",
     "output_type": "stream",
     "text": [
      " 52% (6441 of 12280) |#########          | Elapsed Time: 0:09:01 ETA:   0:08:01"
     ]
    },
    {
     "name": "stdout",
     "output_type": "stream",
     "text": [
      "http://pbs.twimg.com/profile_images/1242167465775378433/QtDYt5m4_normal.jpg\n"
     ]
    },
    {
     "name": "stderr",
     "output_type": "stream",
     "text": [
      " 52% (6449 of 12280) |#########          | Elapsed Time: 0:09:02 ETA:   0:07:40"
     ]
    },
    {
     "name": "stdout",
     "output_type": "stream",
     "text": [
      "http://pbs.twimg.com/profile_images/1240130246231437312/I_H5qlkF_normal.jpg\n"
     ]
    },
    {
     "name": "stderr",
     "output_type": "stream",
     "text": [
      " 52% (6454 of 12280) |#########          | Elapsed Time: 0:09:02 ETA:   0:07:52"
     ]
    },
    {
     "name": "stdout",
     "output_type": "stream",
     "text": [
      "http://pbs.twimg.com/profile_images/1228445684560384000/SH6xl5ym_normal.jpg\n"
     ]
    },
    {
     "name": "stderr",
     "output_type": "stream",
     "text": [
      " 52% (6493 of 12280) |##########         | Elapsed Time: 0:09:05 ETA:   0:07:47"
     ]
    },
    {
     "name": "stdout",
     "output_type": "stream",
     "text": [
      "http://pbs.twimg.com/profile_images/1240542750086488064/RAPlkep1_normal.jpg\n"
     ]
    },
    {
     "name": "stderr",
     "output_type": "stream",
     "text": [
      " 52% (6498 of 12280) |##########         | Elapsed Time: 0:09:06 ETA:   0:08:00"
     ]
    },
    {
     "name": "stdout",
     "output_type": "stream",
     "text": [
      "http://pbs.twimg.com/profile_images/1233193636482834432/Bc5A35lc_normal.jpg\n"
     ]
    },
    {
     "name": "stderr",
     "output_type": "stream",
     "text": [
      " 53% (6519 of 12280) |##########         | Elapsed Time: 0:09:07 ETA:   0:07:47"
     ]
    },
    {
     "name": "stdout",
     "output_type": "stream",
     "text": [
      "http://pbs.twimg.com/profile_images/1240116245401223168/MdyiVojn_normal.jpg\n"
     ]
    },
    {
     "name": "stderr",
     "output_type": "stream",
     "text": [
      " 53% (6538 of 12280) |##########         | Elapsed Time: 0:09:09 ETA:   0:07:49"
     ]
    },
    {
     "name": "stdout",
     "output_type": "stream",
     "text": [
      "http://pbs.twimg.com/profile_images/1147620397170360320/-FR16thz_normal.jpg\n"
     ]
    },
    {
     "name": "stderr",
     "output_type": "stream",
     "text": [
      " 53% (6558 of 12280) |##########         | Elapsed Time: 0:09:10 ETA:   0:07:31"
     ]
    },
    {
     "name": "stdout",
     "output_type": "stream",
     "text": [
      "http://pbs.twimg.com/profile_images/1234267458170707969/3J59VOYW_normal.jpg\n"
     ]
    },
    {
     "name": "stderr",
     "output_type": "stream",
     "text": [
      " 53% (6594 of 12280) |##########         | Elapsed Time: 0:09:14 ETA:   0:08:48"
     ]
    },
    {
     "name": "stdout",
     "output_type": "stream",
     "text": [
      "http://pbs.twimg.com/profile_images/1093433210292322304/9sFwXEiw_normal.jpg\n"
     ]
    },
    {
     "name": "stderr",
     "output_type": "stream",
     "text": [
      " 53% (6613 of 12280) |##########         | Elapsed Time: 0:09:15 ETA:   0:07:40"
     ]
    },
    {
     "name": "stdout",
     "output_type": "stream",
     "text": [
      "http://pbs.twimg.com/profile_images/1187928344056041472/6q9zxTSj_normal.jpg\n"
     ]
    },
    {
     "name": "stderr",
     "output_type": "stream",
     "text": [
      " 53% (6622 of 12280) |##########         | Elapsed Time: 0:09:16 ETA:   0:08:17"
     ]
    },
    {
     "name": "stdout",
     "output_type": "stream",
     "text": [
      "http://pbs.twimg.com/profile_images/1242078845735505922/nBq-q6wf_normal.jpg\n",
      "http://pbs.twimg.com/profile_images/1235356466996899840/HIP0d9OT_normal.jpg\n"
     ]
    },
    {
     "name": "stderr",
     "output_type": "stream",
     "text": [
      " 53% (6626 of 12280) |##########         | Elapsed Time: 0:09:16 ETA:   0:08:25"
     ]
    },
    {
     "name": "stdout",
     "output_type": "stream",
     "text": [
      "http://pbs.twimg.com/profile_images/1147881111021924359/pU423svP_normal.jpg\n"
     ]
    },
    {
     "name": "stderr",
     "output_type": "stream",
     "text": [
      " 54% (6648 of 12280) |##########         | Elapsed Time: 0:09:18 ETA:   0:07:50"
     ]
    },
    {
     "name": "stdout",
     "output_type": "stream",
     "text": [
      "http://pbs.twimg.com/profile_images/1241623894529724417/-hTZZEG2_normal.jpg\n"
     ]
    },
    {
     "name": "stderr",
     "output_type": "stream",
     "text": [
      " 54% (6673 of 12280) |##########         | Elapsed Time: 0:09:20 ETA:   0:07:16"
     ]
    },
    {
     "name": "stdout",
     "output_type": "stream",
     "text": [
      "http://pbs.twimg.com/profile_images/1135533203467505664/zp689s8K_normal.jpg\n"
     ]
    },
    {
     "name": "stderr",
     "output_type": "stream",
     "text": [
      " 54% (6698 of 12280) |##########         | Elapsed Time: 0:09:22 ETA:   0:08:10"
     ]
    },
    {
     "name": "stdout",
     "output_type": "stream",
     "text": [
      "http://pbs.twimg.com/profile_images/1234706314791550976/VlQb3FQ1_normal.jpg\n",
      "http://pbs.twimg.com/profile_images/1235432916487933952/csDu5Ogr_normal.jpg\n"
     ]
    },
    {
     "name": "stderr",
     "output_type": "stream",
     "text": [
      " 54% (6739 of 12280) |##########         | Elapsed Time: 0:09:26 ETA:   0:07:34"
     ]
    },
    {
     "name": "stdout",
     "output_type": "stream",
     "text": [
      "http://pbs.twimg.com/profile_images/1154018808560017409/M5C8Wy-3_normal.jpg\n"
     ]
    },
    {
     "name": "stderr",
     "output_type": "stream",
     "text": [
      " 55% (6769 of 12280) |##########         | Elapsed Time: 0:09:28 ETA:   0:07:42"
     ]
    },
    {
     "name": "stdout",
     "output_type": "stream",
     "text": [
      "http://pbs.twimg.com/profile_images/1241220871789953026/fMWQUA1A_normal.jpg\n"
     ]
    },
    {
     "name": "stderr",
     "output_type": "stream",
     "text": [
      " 55% (6781 of 12280) |##########         | Elapsed Time: 0:09:29 ETA:   0:07:05"
     ]
    },
    {
     "name": "stdout",
     "output_type": "stream",
     "text": [
      "http://pbs.twimg.com/profile_images/1240455248780689409/PqmgNqnv_normal.jpg\n",
      "http://pbs.twimg.com/profile_images/1224781737756168194/2djAz0Nx_normal.jpg\n"
     ]
    },
    {
     "name": "stderr",
     "output_type": "stream",
     "text": [
      " 55% (6822 of 12280) |##########         | Elapsed Time: 0:09:33 ETA:   0:07:37"
     ]
    },
    {
     "name": "stdout",
     "output_type": "stream",
     "text": [
      "http://pbs.twimg.com/profile_images/1203779598984466432/qrECFYND_normal.jpg\n"
     ]
    },
    {
     "name": "stderr",
     "output_type": "stream",
     "text": [
      " 55% (6830 of 12280) |##########         | Elapsed Time: 0:09:33 ETA:   0:07:51"
     ]
    },
    {
     "name": "stdout",
     "output_type": "stream",
     "text": [
      "http://pbs.twimg.com/profile_images/1239758424461565952/L6YgE5oL_normal.jpg\n"
     ]
    },
    {
     "name": "stderr",
     "output_type": "stream",
     "text": [
      "\r",
      " 55% (6832 of 12280) |##########         | Elapsed Time: 0:09:33 ETA:   0:07:56"
     ]
    },
    {
     "name": "stdout",
     "output_type": "stream",
     "text": [
      "http://pbs.twimg.com/profile_images/1240642599490334720/vd2dvDKJ_normal.jpg\n"
     ]
    },
    {
     "name": "stderr",
     "output_type": "stream",
     "text": [
      " 55% (6874 of 12280) |##########         | Elapsed Time: 0:09:37 ETA:   0:07:16"
     ]
    },
    {
     "name": "stdout",
     "output_type": "stream",
     "text": [
      "http://pbs.twimg.com/profile_images/1214431001549557760/GA4k5bg-_normal.jpg\n"
     ]
    },
    {
     "name": "stderr",
     "output_type": "stream",
     "text": [
      " 56% (6886 of 12280) |##########         | Elapsed Time: 0:09:38 ETA:   0:07:11"
     ]
    },
    {
     "name": "stdout",
     "output_type": "stream",
     "text": [
      "http://pbs.twimg.com/profile_images/1188722228436717569/dX2_UQkM_normal.jpg\n"
     ]
    },
    {
     "name": "stderr",
     "output_type": "stream",
     "text": [
      " 56% (6896 of 12280) |##########         | Elapsed Time: 0:09:38 ETA:   0:07:05"
     ]
    },
    {
     "name": "stdout",
     "output_type": "stream",
     "text": [
      "http://pbs.twimg.com/profile_images/1241098504644235271/U5XjLwCD_normal.jpg\n"
     ]
    },
    {
     "name": "stderr",
     "output_type": "stream",
     "text": [
      " 56% (6915 of 12280) |##########         | Elapsed Time: 0:09:40 ETA:   0:07:22"
     ]
    },
    {
     "name": "stdout",
     "output_type": "stream",
     "text": [
      "http://pbs.twimg.com/profile_images/1159051283053129728/n_sspI_e_normal.jpg\n"
     ]
    },
    {
     "name": "stderr",
     "output_type": "stream",
     "text": [
      " 56% (6936 of 12280) |##########         | Elapsed Time: 0:09:42 ETA:   0:07:09"
     ]
    },
    {
     "name": "stdout",
     "output_type": "stream",
     "text": [
      "http://pbs.twimg.com/profile_images/1240291598367244288/uVOh0uzJ_normal.jpg\n",
      "http://pbs.twimg.com/profile_images/1181941383462031362/KIYasPjt_normal.jpg\n"
     ]
    },
    {
     "name": "stderr",
     "output_type": "stream",
     "text": [
      " 56% (6954 of 12280) |##########         | Elapsed Time: 0:09:43 ETA:   0:07:13"
     ]
    },
    {
     "name": "stdout",
     "output_type": "stream",
     "text": [
      "http://pbs.twimg.com/profile_images/1225438410212552705/JRhN8Eut_normal.jpg\n"
     ]
    },
    {
     "name": "stderr",
     "output_type": "stream",
     "text": [
      " 57% (7072 of 12280) |##########         | Elapsed Time: 0:09:53 ETA:   0:07:20"
     ]
    },
    {
     "name": "stdout",
     "output_type": "stream",
     "text": [
      "http://pbs.twimg.com/profile_images/1234276460099198985/udkK_uDU_normal.jpg\n"
     ]
    },
    {
     "name": "stderr",
     "output_type": "stream",
     "text": [
      " 57% (7075 of 12280) |##########         | Elapsed Time: 0:09:53 ETA:   0:07:18"
     ]
    },
    {
     "name": "stdout",
     "output_type": "stream",
     "text": [
      "http://pbs.twimg.com/profile_images/1240029592536199169/-a5zYDUX_normal.jpg\n"
     ]
    },
    {
     "name": "stderr",
     "output_type": "stream",
     "text": [
      " 57% (7093 of 12280) |##########         | Elapsed Time: 0:09:55 ETA:   0:07:19"
     ]
    },
    {
     "name": "stdout",
     "output_type": "stream",
     "text": [
      "http://pbs.twimg.com/profile_images/1104242156078800896/7yGQFguO_normal.png\n"
     ]
    },
    {
     "name": "stderr",
     "output_type": "stream",
     "text": [
      " 57% (7099 of 12280) |##########         | Elapsed Time: 0:09:55 ETA:   0:07:09"
     ]
    },
    {
     "name": "stdout",
     "output_type": "stream",
     "text": [
      "http://pbs.twimg.com/profile_images/1241783479404290048/fJ6bl4Wc_normal.jpg\n"
     ]
    },
    {
     "name": "stderr",
     "output_type": "stream",
     "text": [
      " 57% (7103 of 12280) |##########         | Elapsed Time: 0:09:56 ETA:   0:06:59"
     ]
    },
    {
     "name": "stdout",
     "output_type": "stream",
     "text": [
      "http://pbs.twimg.com/profile_images/1235346596751167488/bUtGXD4__normal.jpg\n"
     ]
    },
    {
     "name": "stderr",
     "output_type": "stream",
     "text": [
      " 58% (7163 of 12280) |###########        | Elapsed Time: 0:10:00 ETA:   0:06:09"
     ]
    },
    {
     "name": "stdout",
     "output_type": "stream",
     "text": [
      "http://pbs.twimg.com/profile_images/1239362765711605771/6PFRt25e_normal.jpg\n"
     ]
    },
    {
     "name": "stderr",
     "output_type": "stream",
     "text": [
      " 58% (7173 of 12280) |###########        | Elapsed Time: 0:10:01 ETA:   0:06:22"
     ]
    },
    {
     "name": "stdout",
     "output_type": "stream",
     "text": [
      "http://pbs.twimg.com/profile_images/1238994267927990272/_WVBwBlN_normal.jpg\n"
     ]
    },
    {
     "name": "stderr",
     "output_type": "stream",
     "text": [
      " 58% (7206 of 12280) |###########        | Elapsed Time: 0:10:04 ETA:   0:07:22"
     ]
    },
    {
     "name": "stdout",
     "output_type": "stream",
     "text": [
      "http://pbs.twimg.com/profile_images/854790735685722112/cLpD6oO2_normal.jpg\n"
     ]
    },
    {
     "name": "stderr",
     "output_type": "stream",
     "text": [
      " 59% (7265 of 12280) |###########        | Elapsed Time: 0:10:09 ETA:   0:07:31"
     ]
    },
    {
     "name": "stdout",
     "output_type": "stream",
     "text": [
      "http://pbs.twimg.com/profile_images/1237755278126395392/FWpusju1_normal.jpg\n"
     ]
    },
    {
     "name": "stderr",
     "output_type": "stream",
     "text": [
      " 59% (7281 of 12280) |###########        | Elapsed Time: 0:10:11 ETA:   0:07:27"
     ]
    },
    {
     "name": "stdout",
     "output_type": "stream",
     "text": [
      "http://pbs.twimg.com/profile_images/1233637212039847936/uYaWBXOn_normal.jpg\n"
     ]
    },
    {
     "name": "stderr",
     "output_type": "stream",
     "text": [
      " 59% (7307 of 12280) |###########        | Elapsed Time: 0:10:13 ETA:   0:06:50"
     ]
    },
    {
     "name": "stdout",
     "output_type": "stream",
     "text": [
      "http://pbs.twimg.com/profile_images/1240934379754369024/n0eI2nw3_normal.jpg\n"
     ]
    },
    {
     "name": "stderr",
     "output_type": "stream",
     "text": [
      " 59% (7329 of 12280) |###########        | Elapsed Time: 0:10:15 ETA:   0:06:52"
     ]
    },
    {
     "name": "stdout",
     "output_type": "stream",
     "text": [
      "http://pbs.twimg.com/profile_images/1163538616548769792/VVZO0L3f_normal.jpg\n"
     ]
    },
    {
     "name": "stderr",
     "output_type": "stream",
     "text": [
      " 59% (7358 of 12280) |###########        | Elapsed Time: 0:10:18 ETA:   0:08:20"
     ]
    },
    {
     "name": "stdout",
     "output_type": "stream",
     "text": [
      "http://pbs.twimg.com/profile_images/1231062069778272257/iqHBTAg__normal.jpg\n"
     ]
    },
    {
     "name": "stderr",
     "output_type": "stream",
     "text": [
      " 59% (7362 of 12280) |###########        | Elapsed Time: 0:10:18 ETA:   0:08:36"
     ]
    },
    {
     "name": "stdout",
     "output_type": "stream",
     "text": [
      "http://pbs.twimg.com/profile_images/1215487448245030912/nBVen6ol_normal.jpg\n"
     ]
    },
    {
     "name": "stderr",
     "output_type": "stream",
     "text": [
      " 60% (7371 of 12280) |###########        | Elapsed Time: 0:10:19 ETA:   0:07:49"
     ]
    },
    {
     "name": "stdout",
     "output_type": "stream",
     "text": [
      "http://pbs.twimg.com/profile_images/1222356214912290816/TstX3WpE_normal.jpg\n",
      "http://pbs.twimg.com/profile_images/1226572166646206464/LIT-NGRm_normal.jpg\n"
     ]
    },
    {
     "name": "stderr",
     "output_type": "stream",
     "text": [
      " 60% (7380 of 12280) |###########        | Elapsed Time: 0:10:19 ETA:   0:07:01"
     ]
    },
    {
     "name": "stdout",
     "output_type": "stream",
     "text": [
      "http://pbs.twimg.com/profile_images/1216878129383378944/df3M1j2i_normal.jpg\n"
     ]
    },
    {
     "name": "stderr",
     "output_type": "stream",
     "text": [
      " 60% (7428 of 12280) |###########        | Elapsed Time: 0:10:23 ETA:   0:06:05"
     ]
    },
    {
     "name": "stdout",
     "output_type": "stream",
     "text": [
      "http://pbs.twimg.com/profile_images/1234966231498682368/pQRuedC2_normal.jpg\n"
     ]
    },
    {
     "name": "stderr",
     "output_type": "stream",
     "text": [
      " 60% (7434 of 12280) |###########        | Elapsed Time: 0:10:24 ETA:   0:06:31"
     ]
    },
    {
     "name": "stdout",
     "output_type": "stream",
     "text": [
      "http://pbs.twimg.com/profile_images/965286386147516417/PXbThkSu_normal.jpg\n",
      "http://pbs.twimg.com/profile_images/1126605506989129728/_WTUq7-e_normal.jpg\n"
     ]
    },
    {
     "name": "stderr",
     "output_type": "stream",
     "text": [
      " 60% (7443 of 12280) |###########        | Elapsed Time: 0:10:24 ETA:   0:06:44"
     ]
    },
    {
     "name": "stdout",
     "output_type": "stream",
     "text": [
      "http://pbs.twimg.com/profile_images/984860816993169408/g7fykX0S_normal.jpg\n"
     ]
    },
    {
     "name": "stderr",
     "output_type": "stream",
     "text": [
      " 60% (7452 of 12280) |###########        | Elapsed Time: 0:10:25 ETA:   0:06:45"
     ]
    },
    {
     "name": "stdout",
     "output_type": "stream",
     "text": [
      "http://pbs.twimg.com/profile_images/1148269956229935105/HdOcgaXa_normal.jpg\n"
     ]
    },
    {
     "name": "stderr",
     "output_type": "stream",
     "text": [
      " 60% (7464 of 12280) |###########        | Elapsed Time: 0:10:26 ETA:   0:06:25"
     ]
    },
    {
     "name": "stdout",
     "output_type": "stream",
     "text": [
      "http://pbs.twimg.com/profile_images/1233610510916050945/u0zDW0z4_normal.jpg\n"
     ]
    },
    {
     "name": "stderr",
     "output_type": "stream",
     "text": [
      " 61% (7494 of 12280) |###########        | Elapsed Time: 0:10:29 ETA:   0:06:20"
     ]
    },
    {
     "name": "stdout",
     "output_type": "stream",
     "text": [
      "http://pbs.twimg.com/profile_images/1143973128814682112/6O90lrso_normal.jpg\n"
     ]
    },
    {
     "name": "stderr",
     "output_type": "stream",
     "text": [
      " 61% (7534 of 12280) |###########        | Elapsed Time: 0:10:32 ETA:   0:06:27"
     ]
    },
    {
     "name": "stdout",
     "output_type": "stream",
     "text": [
      "http://pbs.twimg.com/profile_images/1128090787093159937/j8LTbF9t_normal.jpg\n"
     ]
    },
    {
     "name": "stderr",
     "output_type": "stream",
     "text": [
      " 61% (7587 of 12280) |###########        | Elapsed Time: 0:10:36 ETA:   0:06:09"
     ]
    },
    {
     "name": "stdout",
     "output_type": "stream",
     "text": [
      "http://pbs.twimg.com/profile_images/1237801402224664576/S5IJj8Bp_normal.jpg\n"
     ]
    },
    {
     "name": "stderr",
     "output_type": "stream",
     "text": [
      " 61% (7602 of 12280) |###########        | Elapsed Time: 0:10:37 ETA:   0:06:23"
     ]
    },
    {
     "name": "stdout",
     "output_type": "stream",
     "text": [
      "http://pbs.twimg.com/profile_images/1234053790665453568/AcGJns7E_normal.jpg\n"
     ]
    },
    {
     "name": "stderr",
     "output_type": "stream",
     "text": [
      " 62% (7669 of 12280) |###########        | Elapsed Time: 0:10:43 ETA:   0:06:03"
     ]
    },
    {
     "name": "stdout",
     "output_type": "stream",
     "text": [
      "http://pbs.twimg.com/profile_images/1145593132505010176/6mLW9_D0_normal.jpg\n"
     ]
    },
    {
     "name": "stderr",
     "output_type": "stream",
     "text": [
      " 62% (7735 of 12280) |###########        | Elapsed Time: 0:10:48 ETA:   0:05:34"
     ]
    },
    {
     "name": "stdout",
     "output_type": "stream",
     "text": [
      "http://pbs.twimg.com/profile_images/1239972487292538882/TRFcYTko_normal.jpg\n"
     ]
    },
    {
     "name": "stderr",
     "output_type": "stream",
     "text": [
      " 63% (7802 of 12280) |############       | Elapsed Time: 0:10:54 ETA:   0:05:53"
     ]
    },
    {
     "name": "stdout",
     "output_type": "stream",
     "text": [
      "http://pbs.twimg.com/profile_images/1219915847826919425/fmnsD9c1_normal.jpg\n"
     ]
    },
    {
     "name": "stderr",
     "output_type": "stream",
     "text": [
      " 63% (7825 of 12280) |############       | Elapsed Time: 0:10:56 ETA:   0:06:04"
     ]
    },
    {
     "name": "stdout",
     "output_type": "stream",
     "text": [
      "http://pbs.twimg.com/profile_images/1131607238957817856/X6a6m7TZ_normal.jpg\n"
     ]
    },
    {
     "name": "stderr",
     "output_type": "stream",
     "text": [
      " 64% (7866 of 12280) |############       | Elapsed Time: 0:10:59 ETA:   0:06:20"
     ]
    },
    {
     "name": "stdout",
     "output_type": "stream",
     "text": [
      "http://pbs.twimg.com/profile_images/775616471699484672/op49w2ZB_normal.jpg\n"
     ]
    },
    {
     "name": "stderr",
     "output_type": "stream",
     "text": [
      " 64% (7903 of 12280) |############       | Elapsed Time: 0:11:02 ETA:   0:05:56"
     ]
    },
    {
     "name": "stdout",
     "output_type": "stream",
     "text": [
      "http://pbs.twimg.com/profile_images/1184767327793025024/uMkzigIn_normal.jpg\n"
     ]
    },
    {
     "name": "stderr",
     "output_type": "stream",
     "text": [
      " 64% (7916 of 12280) |############       | Elapsed Time: 0:11:03 ETA:   0:05:55"
     ]
    },
    {
     "name": "stdout",
     "output_type": "stream",
     "text": [
      "http://pbs.twimg.com/profile_images/1013592877593575424/EJ6Grhqr_normal.jpg\n"
     ]
    },
    {
     "name": "stderr",
     "output_type": "stream",
     "text": [
      " 64% (7920 of 12280) |############       | Elapsed Time: 0:11:03 ETA:   0:05:54"
     ]
    },
    {
     "name": "stdout",
     "output_type": "stream",
     "text": [
      "http://pbs.twimg.com/profile_images/1236728767722053632/AtKKwMWL_normal.jpg\n"
     ]
    },
    {
     "name": "stderr",
     "output_type": "stream",
     "text": [
      " 64% (7955 of 12280) |############       | Elapsed Time: 0:11:07 ETA:   0:07:04"
     ]
    },
    {
     "name": "stdout",
     "output_type": "stream",
     "text": [
      "http://pbs.twimg.com/profile_images/1236738782839410691/IUgORIrx_normal.jpg\n"
     ]
    },
    {
     "name": "stderr",
     "output_type": "stream",
     "text": [
      " 65% (8025 of 12280) |############       | Elapsed Time: 0:11:13 ETA:   0:05:56"
     ]
    },
    {
     "name": "stdout",
     "output_type": "stream",
     "text": [
      "http://pbs.twimg.com/profile_images/841831446138523649/lll2RChy_normal.jpg\n"
     ]
    },
    {
     "name": "stderr",
     "output_type": "stream",
     "text": [
      " 65% (8060 of 12280) |############       | Elapsed Time: 0:11:15 ETA:   0:05:26"
     ]
    },
    {
     "name": "stdout",
     "output_type": "stream",
     "text": [
      "http://pbs.twimg.com/profile_images/1229523964675772416/VEcOXlBI_normal.jpg\n"
     ]
    },
    {
     "name": "stderr",
     "output_type": "stream",
     "text": [
      " 65% (8068 of 12280) |############       | Elapsed Time: 0:11:16 ETA:   0:05:43"
     ]
    },
    {
     "name": "stdout",
     "output_type": "stream",
     "text": [
      "http://pbs.twimg.com/profile_images/1227652047824138241/XVMqFh6j_normal.jpg\n"
     ]
    },
    {
     "name": "stderr",
     "output_type": "stream",
     "text": [
      " 65% (8082 of 12280) |############       | Elapsed Time: 0:11:17 ETA:   0:05:27"
     ]
    },
    {
     "name": "stdout",
     "output_type": "stream",
     "text": [
      "http://pbs.twimg.com/profile_images/1192994861252612096/hwDg_qGO_normal.jpg\n"
     ]
    },
    {
     "name": "stderr",
     "output_type": "stream",
     "text": [
      " 66% (8114 of 12280) |############       | Elapsed Time: 0:11:20 ETA:   0:05:36"
     ]
    },
    {
     "name": "stdout",
     "output_type": "stream",
     "text": [
      "http://pbs.twimg.com/profile_images/1241188510461198339/rN2NbSi__normal.jpg\n"
     ]
    },
    {
     "name": "stderr",
     "output_type": "stream",
     "text": [
      " 66% (8151 of 12280) |############       | Elapsed Time: 0:11:23 ETA:   0:06:04"
     ]
    },
    {
     "name": "stdout",
     "output_type": "stream",
     "text": [
      "http://pbs.twimg.com/profile_images/1221454540567916544/ziIH8Sjo_normal.jpg\n"
     ]
    },
    {
     "name": "stderr",
     "output_type": "stream",
     "text": [
      " 66% (8155 of 12280) |############       | Elapsed Time: 0:11:23 ETA:   0:05:54"
     ]
    },
    {
     "name": "stdout",
     "output_type": "stream",
     "text": [
      "http://pbs.twimg.com/profile_images/1239106086067507202/FgH7B6OH_normal.jpg\n"
     ]
    },
    {
     "name": "stderr",
     "output_type": "stream",
     "text": [
      " 66% (8184 of 12280) |############       | Elapsed Time: 0:11:25 ETA:   0:05:51"
     ]
    },
    {
     "name": "stdout",
     "output_type": "stream",
     "text": [
      "http://pbs.twimg.com/profile_images/1239652284423954437/yxB2LHB3_normal.jpg\n"
     ]
    },
    {
     "name": "stderr",
     "output_type": "stream",
     "text": [
      " 66% (8196 of 12280) |############       | Elapsed Time: 0:11:26 ETA:   0:05:45"
     ]
    },
    {
     "name": "stdout",
     "output_type": "stream",
     "text": [
      "http://pbs.twimg.com/profile_images/1222986679302152193/zwgSfm97_normal.jpg\n"
     ]
    },
    {
     "name": "stderr",
     "output_type": "stream",
     "text": [
      " 66% (8222 of 12280) |############       | Elapsed Time: 0:11:28 ETA:   0:05:12"
     ]
    },
    {
     "name": "stdout",
     "output_type": "stream",
     "text": [
      "http://pbs.twimg.com/profile_images/1234145984575307776/cxt3Z1dd_normal.jpg\n"
     ]
    },
    {
     "name": "stderr",
     "output_type": "stream",
     "text": [
      " 67% (8228 of 12280) |############       | Elapsed Time: 0:11:29 ETA:   0:05:08"
     ]
    },
    {
     "name": "stdout",
     "output_type": "stream",
     "text": [
      "http://pbs.twimg.com/profile_images/1230229981403500551/6U7Jr4mi_normal.jpg\n"
     ]
    },
    {
     "name": "stderr",
     "output_type": "stream",
     "text": [
      " 67% (8328 of 12280) |############       | Elapsed Time: 0:11:37 ETA:   0:05:18"
     ]
    },
    {
     "name": "stdout",
     "output_type": "stream",
     "text": [
      "http://pbs.twimg.com/profile_images/1153104891599962113/i6Z3JCR5_normal.jpg\n"
     ]
    },
    {
     "name": "stderr",
     "output_type": "stream",
     "text": [
      " 68% (8367 of 12280) |############       | Elapsed Time: 0:11:40 ETA:   0:05:17"
     ]
    },
    {
     "name": "stdout",
     "output_type": "stream",
     "text": [
      "http://pbs.twimg.com/profile_images/1237132624453304320/k4wdfzee_normal.jpg\n"
     ]
    },
    {
     "name": "stderr",
     "output_type": "stream",
     "text": [
      " 69% (8499 of 12280) |#############      | Elapsed Time: 0:11:50 ETA:   0:05:16"
     ]
    },
    {
     "name": "stdout",
     "output_type": "stream",
     "text": [
      "http://pbs.twimg.com/profile_images/1118154758341189632/HfBKMT0n_normal.jpg\n"
     ]
    },
    {
     "name": "stderr",
     "output_type": "stream",
     "text": [
      " 69% (8521 of 12280) |#############      | Elapsed Time: 0:11:52 ETA:   0:05:02"
     ]
    },
    {
     "name": "stdout",
     "output_type": "stream",
     "text": [
      "http://pbs.twimg.com/profile_images/1220240777055522816/xoRYZUKF_normal.jpg\n"
     ]
    },
    {
     "name": "stderr",
     "output_type": "stream",
     "text": [
      " 69% (8574 of 12280) |#############      | Elapsed Time: 0:11:56 ETA:   0:05:03"
     ]
    },
    {
     "name": "stdout",
     "output_type": "stream",
     "text": [
      "http://pbs.twimg.com/profile_images/1241923078793412608/ZWYScQnz_normal.jpg\n"
     ]
    },
    {
     "name": "stderr",
     "output_type": "stream",
     "text": [
      " 69% (8587 of 12280) |#############      | Elapsed Time: 0:11:57 ETA:   0:05:13"
     ]
    },
    {
     "name": "stdout",
     "output_type": "stream",
     "text": [
      "http://pbs.twimg.com/profile_images/1202353487499190272/2LPFbuPo_normal.jpg\n"
     ]
    },
    {
     "name": "stderr",
     "output_type": "stream",
     "text": [
      " 69% (8593 of 12280) |#############      | Elapsed Time: 0:11:58 ETA:   0:05:13"
     ]
    },
    {
     "name": "stdout",
     "output_type": "stream",
     "text": [
      "http://pbs.twimg.com/profile_images/1239580995529121792/rdw_DwRZ_normal.jpg\n",
      "http://pbs.twimg.com/profile_images/1231360561192923136/43E5hdgV_normal.jpg\n"
     ]
    },
    {
     "name": "stderr",
     "output_type": "stream",
     "text": [
      " 70% (8602 of 12280) |#############      | Elapsed Time: 0:11:58 ETA:   0:04:57"
     ]
    },
    {
     "name": "stdout",
     "output_type": "stream",
     "text": [
      "http://pbs.twimg.com/profile_images/1239968471183773696/bXqoAszg_normal.jpg\n"
     ]
    },
    {
     "name": "stderr",
     "output_type": "stream",
     "text": [
      " 70% (8610 of 12280) |#############      | Elapsed Time: 0:11:59 ETA:   0:05:11"
     ]
    },
    {
     "name": "stdout",
     "output_type": "stream",
     "text": [
      "http://pbs.twimg.com/profile_images/1236676572901519360/bBPY0drW_normal.jpg\n"
     ]
    },
    {
     "name": "stderr",
     "output_type": "stream",
     "text": [
      " 70% (8633 of 12280) |#############      | Elapsed Time: 0:12:01 ETA:   0:04:50"
     ]
    },
    {
     "name": "stdout",
     "output_type": "stream",
     "text": [
      "http://pbs.twimg.com/profile_images/1240429235359092736/hH_kcDRm_normal.jpg\n"
     ]
    },
    {
     "name": "stderr",
     "output_type": "stream",
     "text": [
      " 70% (8638 of 12280) |#############      | Elapsed Time: 0:12:01 ETA:   0:05:02"
     ]
    },
    {
     "name": "stdout",
     "output_type": "stream",
     "text": [
      "http://pbs.twimg.com/profile_images/1237844713773731840/qPJL6HJ-_normal.jpg\n"
     ]
    },
    {
     "name": "stderr",
     "output_type": "stream",
     "text": [
      " 70% (8675 of 12280) |#############      | Elapsed Time: 0:12:05 ETA:   0:05:09"
     ]
    },
    {
     "name": "stdout",
     "output_type": "stream",
     "text": [
      "http://pbs.twimg.com/profile_images/1232416226351222786/KtegzjA8_normal.jpg\n"
     ]
    },
    {
     "name": "stderr",
     "output_type": "stream",
     "text": [
      " 70% (8678 of 12280) |#############      | Elapsed Time: 0:12:05 ETA:   0:04:52"
     ]
    },
    {
     "name": "stdout",
     "output_type": "stream",
     "text": [
      "http://pbs.twimg.com/profile_images/1113833695146848258/E1woyu_k_normal.jpg\n"
     ]
    },
    {
     "name": "stderr",
     "output_type": "stream",
     "text": [
      " 72% (8852 of 12280) |#############      | Elapsed Time: 0:12:19 ETA:   0:05:50"
     ]
    },
    {
     "name": "stdout",
     "output_type": "stream",
     "text": [
      "http://pbs.twimg.com/profile_images/1241220806027489280/oM7-RrOe_normal.jpg\n"
     ]
    },
    {
     "name": "stderr",
     "output_type": "stream",
     "text": [
      " 72% (8861 of 12280) |#############      | Elapsed Time: 0:12:20 ETA:   0:06:02"
     ]
    },
    {
     "name": "stdout",
     "output_type": "stream",
     "text": [
      "http://pbs.twimg.com/profile_images/1211333981704200193/FauuZYdq_normal.jpg\n"
     ]
    },
    {
     "name": "stderr",
     "output_type": "stream",
     "text": [
      " 72% (8864 of 12280) |#############      | Elapsed Time: 0:12:20 ETA:   0:05:59"
     ]
    },
    {
     "name": "stdout",
     "output_type": "stream",
     "text": [
      "http://pbs.twimg.com/profile_images/1184216177918300161/HaNAxtI7_normal.jpg\n"
     ]
    },
    {
     "name": "stderr",
     "output_type": "stream",
     "text": [
      " 72% (8951 of 12280) |#############      | Elapsed Time: 0:12:28 ETA:   0:04:26"
     ]
    },
    {
     "name": "stdout",
     "output_type": "stream",
     "text": [
      "http://pbs.twimg.com/profile_images/818668436825862144/ghWv1GFm_normal.jpg\n"
     ]
    },
    {
     "name": "stderr",
     "output_type": "stream",
     "text": [
      " 72% (8962 of 12280) |#############      | Elapsed Time: 0:12:29 ETA:   0:04:31"
     ]
    },
    {
     "name": "stdout",
     "output_type": "stream",
     "text": [
      "http://pbs.twimg.com/profile_images/1153153602665504768/dYy6p-Kw_normal.jpg\n"
     ]
    },
    {
     "name": "stderr",
     "output_type": "stream",
     "text": [
      " 73% (8972 of 12280) |#############      | Elapsed Time: 0:12:29 ETA:   0:04:26"
     ]
    },
    {
     "name": "stdout",
     "output_type": "stream",
     "text": [
      "http://pbs.twimg.com/profile_images/1239646304617324549/e0UniMYt_normal.jpg\n"
     ]
    },
    {
     "name": "stderr",
     "output_type": "stream",
     "text": [
      " 73% (8995 of 12280) |#############      | Elapsed Time: 0:12:31 ETA:   0:04:27"
     ]
    },
    {
     "name": "stdout",
     "output_type": "stream",
     "text": [
      "http://pbs.twimg.com/profile_images/1229886693957828611/06F_dOvD_normal.jpg\n"
     ]
    },
    {
     "name": "stderr",
     "output_type": "stream",
     "text": [
      " 73% (9001 of 12280) |#############      | Elapsed Time: 0:12:32 ETA:   0:04:33"
     ]
    },
    {
     "name": "stdout",
     "output_type": "stream",
     "text": [
      "http://pbs.twimg.com/profile_images/1237578079511252994/RwaZDu0h_normal.jpg\n"
     ]
    },
    {
     "name": "stderr",
     "output_type": "stream",
     "text": [
      " 73% (9054 of 12280) |##############     | Elapsed Time: 0:12:36 ETA:   0:04:34"
     ]
    },
    {
     "name": "stdout",
     "output_type": "stream",
     "text": [
      "http://pbs.twimg.com/profile_images/1238648398582071296/S0HYf3uL_normal.jpg\n"
     ]
    },
    {
     "name": "stderr",
     "output_type": "stream",
     "text": [
      " 74% (9112 of 12280) |##############     | Elapsed Time: 0:12:41 ETA:   0:04:14"
     ]
    },
    {
     "name": "stdout",
     "output_type": "stream",
     "text": [
      "http://pbs.twimg.com/profile_images/1213957329349173248/kqLvyuSe_normal.jpg\n"
     ]
    },
    {
     "name": "stderr",
     "output_type": "stream",
     "text": [
      " 74% (9134 of 12280) |##############     | Elapsed Time: 0:12:43 ETA:   0:04:55"
     ]
    },
    {
     "name": "stdout",
     "output_type": "stream",
     "text": [
      "http://pbs.twimg.com/profile_images/1228444328923672576/sxN6Jv0G_normal.jpg\n"
     ]
    },
    {
     "name": "stderr",
     "output_type": "stream",
     "text": [
      " 74% (9165 of 12280) |##############     | Elapsed Time: 0:12:46 ETA:   0:05:06"
     ]
    },
    {
     "name": "stdout",
     "output_type": "stream",
     "text": [
      "http://pbs.twimg.com/profile_images/1242211513978454016/41-AnQ3N_normal.jpg\n"
     ]
    },
    {
     "name": "stderr",
     "output_type": "stream",
     "text": [
      " 74% (9168 of 12280) |##############     | Elapsed Time: 0:12:46 ETA:   0:05:13"
     ]
    },
    {
     "name": "stdout",
     "output_type": "stream",
     "text": [
      "http://pbs.twimg.com/profile_images/1240072081305415681/wVZ8h3z7_normal.jpg\n",
      "http://pbs.twimg.com/profile_images/1227407788294443010/3FqK1EbV_normal.jpg\n"
     ]
    },
    {
     "name": "stderr",
     "output_type": "stream",
     "text": [
      " 75% (9250 of 12280) |##############     | Elapsed Time: 0:12:53 ETA:   0:04:17"
     ]
    },
    {
     "name": "stdout",
     "output_type": "stream",
     "text": [
      "http://pbs.twimg.com/profile_images/1241509463342952448/CyLJZlJz_normal.jpg\n"
     ]
    },
    {
     "name": "stderr",
     "output_type": "stream",
     "text": [
      "\r",
      " 75% (9252 of 12280) |##############     | Elapsed Time: 0:12:54 ETA:   0:04:21"
     ]
    },
    {
     "name": "stdout",
     "output_type": "stream",
     "text": [
      "http://pbs.twimg.com/profile_images/1238609009390870534/3vtVkwUS_normal.jpg\n"
     ]
    },
    {
     "name": "stderr",
     "output_type": "stream",
     "text": [
      " 75% (9276 of 12280) |##############     | Elapsed Time: 0:12:55 ETA:   0:03:48"
     ]
    },
    {
     "name": "stdout",
     "output_type": "stream",
     "text": [
      "http://pbs.twimg.com/profile_images/1223794985910194176/PJfSfPcd_normal.jpg\n",
      "http://pbs.twimg.com/profile_images/1235543992088948736/1AGNtHUi_normal.jpg\n"
     ]
    },
    {
     "name": "stderr",
     "output_type": "stream",
     "text": [
      " 75% (9313 of 12280) |##############     | Elapsed Time: 0:12:59 ETA:   0:04:04"
     ]
    },
    {
     "name": "stdout",
     "output_type": "stream",
     "text": [
      "http://pbs.twimg.com/profile_images/1233516486678937600/lBmHpIp__normal.jpg\n"
     ]
    },
    {
     "name": "stderr",
     "output_type": "stream",
     "text": [
      " 75% (9330 of 12280) |##############     | Elapsed Time: 0:13:00 ETA:   0:03:59"
     ]
    },
    {
     "name": "stdout",
     "output_type": "stream",
     "text": [
      "http://pbs.twimg.com/profile_images/1227471877402177537/88lW_hnO_normal.jpg\n"
     ]
    },
    {
     "name": "stderr",
     "output_type": "stream",
     "text": [
      " 76% (9369 of 12280) |##############     | Elapsed Time: 0:13:03 ETA:   0:03:40"
     ]
    },
    {
     "name": "stdout",
     "output_type": "stream",
     "text": [
      "http://pbs.twimg.com/profile_images/1238557956171587585/30sitWcc_normal.jpg\n"
     ]
    },
    {
     "name": "stderr",
     "output_type": "stream",
     "text": [
      " 76% (9386 of 12280) |##############     | Elapsed Time: 0:13:05 ETA:   0:03:57"
     ]
    },
    {
     "name": "stdout",
     "output_type": "stream",
     "text": [
      "http://pbs.twimg.com/profile_images/1207417692975771650/tJ56K1Aq_normal.jpg\n"
     ]
    },
    {
     "name": "stderr",
     "output_type": "stream",
     "text": [
      " 76% (9393 of 12280) |##############     | Elapsed Time: 0:13:05 ETA:   0:04:03"
     ]
    },
    {
     "name": "stdout",
     "output_type": "stream",
     "text": [
      "http://pbs.twimg.com/profile_images/1239670507034853382/DuZgwRm__normal.jpg\n"
     ]
    },
    {
     "name": "stderr",
     "output_type": "stream",
     "text": [
      " 77% (9462 of 12280) |##############     | Elapsed Time: 0:13:11 ETA:   0:03:43"
     ]
    },
    {
     "name": "stdout",
     "output_type": "stream",
     "text": [
      "http://pbs.twimg.com/profile_images/1240296475789340672/FquBhfvF_normal.jpg\n"
     ]
    },
    {
     "name": "stderr",
     "output_type": "stream",
     "text": [
      " 77% (9466 of 12280) |##############     | Elapsed Time: 0:13:11 ETA:   0:03:48"
     ]
    },
    {
     "name": "stdout",
     "output_type": "stream",
     "text": [
      "http://pbs.twimg.com/profile_images/1184762034686054400/jIVp_6Xi_normal.jpg\n"
     ]
    },
    {
     "name": "stderr",
     "output_type": "stream",
     "text": [
      " 77% (9471 of 12280) |##############     | Elapsed Time: 0:13:11 ETA:   0:04:05"
     ]
    },
    {
     "name": "stdout",
     "output_type": "stream",
     "text": [
      "http://pbs.twimg.com/profile_images/1212972656003362816/IkvL-CfS_normal.jpg\n"
     ]
    },
    {
     "name": "stderr",
     "output_type": "stream",
     "text": [
      " 77% (9480 of 12280) |##############     | Elapsed Time: 0:13:12 ETA:   0:04:00"
     ]
    },
    {
     "name": "stdout",
     "output_type": "stream",
     "text": [
      "http://pbs.twimg.com/profile_images/1240831589489217536/dr1RVeC0_normal.jpg\n"
     ]
    },
    {
     "name": "stderr",
     "output_type": "stream",
     "text": [
      " 77% (9498 of 12280) |##############     | Elapsed Time: 0:13:14 ETA:   0:03:49"
     ]
    },
    {
     "name": "stdout",
     "output_type": "stream",
     "text": [
      "http://pbs.twimg.com/profile_images/1172740126478225408/stil5X1E_normal.jpg\n",
      "http://pbs.twimg.com/profile_images/1238735955059552258/hrjGk5NS_normal.jpg\n"
     ]
    },
    {
     "name": "stderr",
     "output_type": "stream",
     "text": [
      " 77% (9518 of 12280) |##############     | Elapsed Time: 0:13:15 ETA:   0:03:53"
     ]
    },
    {
     "name": "stdout",
     "output_type": "stream",
     "text": [
      "http://pbs.twimg.com/profile_images/1226363296359555072/zoYkGMZD_normal.jpg\n"
     ]
    },
    {
     "name": "stderr",
     "output_type": "stream",
     "text": [
      " 77% (9546 of 12280) |##############     | Elapsed Time: 0:13:18 ETA:   0:03:41"
     ]
    },
    {
     "name": "stdout",
     "output_type": "stream",
     "text": [
      "http://pbs.twimg.com/profile_images/1240673492628049922/YeJZ8ZP3_normal.jpg\n"
     ]
    },
    {
     "name": "stderr",
     "output_type": "stream",
     "text": [
      " 78% (9601 of 12280) |##############     | Elapsed Time: 0:13:22 ETA:   0:03:36"
     ]
    },
    {
     "name": "stdout",
     "output_type": "stream",
     "text": [
      "http://pbs.twimg.com/profile_images/1238114199198412803/Xs-oV22G_normal.jpg\n"
     ]
    },
    {
     "name": "stderr",
     "output_type": "stream",
     "text": [
      " 78% (9620 of 12280) |##############     | Elapsed Time: 0:13:24 ETA:   0:03:34"
     ]
    },
    {
     "name": "stdout",
     "output_type": "stream",
     "text": [
      "http://pbs.twimg.com/profile_images/1237433403835846656/AU-jl8p6_normal.jpg\n"
     ]
    },
    {
     "name": "stderr",
     "output_type": "stream",
     "text": [
      " 78% (9624 of 12280) |##############     | Elapsed Time: 0:13:24 ETA:   0:03:40"
     ]
    },
    {
     "name": "stdout",
     "output_type": "stream",
     "text": [
      "http://pbs.twimg.com/profile_images/1208773027024064513/4eDd_R3J_normal.jpg\n"
     ]
    },
    {
     "name": "stderr",
     "output_type": "stream",
     "text": [
      " 78% (9633 of 12280) |##############     | Elapsed Time: 0:13:25 ETA:   0:03:38"
     ]
    },
    {
     "name": "stdout",
     "output_type": "stream",
     "text": [
      "http://pbs.twimg.com/profile_images/1199104247771648000/snxW_ZKc_normal.jpg\n"
     ]
    },
    {
     "name": "stderr",
     "output_type": "stream",
     "text": [
      " 78% (9640 of 12280) |##############     | Elapsed Time: 0:13:25 ETA:   0:03:37"
     ]
    },
    {
     "name": "stdout",
     "output_type": "stream",
     "text": [
      "http://pbs.twimg.com/profile_images/1239953033880051715/J5Agmh29_normal.jpg\n"
     ]
    },
    {
     "name": "stderr",
     "output_type": "stream",
     "text": [
      " 78% (9688 of 12280) |##############     | Elapsed Time: 0:13:36 ETA:   0:38:24"
     ]
    },
    {
     "name": "stdout",
     "output_type": "stream",
     "text": [
      "http://pbs.twimg.com/profile_images/1238823755243282438/g87qF72Q_normal.jpg\n"
     ]
    },
    {
     "name": "stderr",
     "output_type": "stream",
     "text": [
      " 79% (9710 of 12280) |###############    | Elapsed Time: 0:13:38 ETA:   0:03:23"
     ]
    },
    {
     "name": "stdout",
     "output_type": "stream",
     "text": [
      "http://pbs.twimg.com/profile_images/1235020680325931008/0tBvL30c_normal.jpg\n"
     ]
    },
    {
     "name": "stderr",
     "output_type": "stream",
     "text": [
      " 79% (9716 of 12280) |###############    | Elapsed Time: 0:13:39 ETA:   0:03:23"
     ]
    },
    {
     "name": "stdout",
     "output_type": "stream",
     "text": [
      "http://pbs.twimg.com/profile_images/1241339352678096907/xko6jfNm_normal.jpg\n"
     ]
    },
    {
     "name": "stderr",
     "output_type": "stream",
     "text": [
      " 79% (9735 of 12280) |###############    | Elapsed Time: 0:13:40 ETA:   0:03:25"
     ]
    },
    {
     "name": "stdout",
     "output_type": "stream",
     "text": [
      "http://pbs.twimg.com/profile_images/1239748153466933248/pW88GTrt_normal.jpg\n"
     ]
    },
    {
     "name": "stderr",
     "output_type": "stream",
     "text": [
      " 79% (9760 of 12280) |###############    | Elapsed Time: 0:13:42 ETA:   0:03:22"
     ]
    },
    {
     "name": "stdout",
     "output_type": "stream",
     "text": [
      "http://pbs.twimg.com/profile_images/608153238425059328/BK-p3Zv__normal.jpg\n"
     ]
    },
    {
     "name": "stderr",
     "output_type": "stream",
     "text": [
      " 79% (9771 of 12280) |###############    | Elapsed Time: 0:13:43 ETA:   0:03:24"
     ]
    },
    {
     "name": "stdout",
     "output_type": "stream",
     "text": [
      "http://pbs.twimg.com/profile_images/1190988672335843328/8xE4dgnE_normal.jpg\n"
     ]
    },
    {
     "name": "stderr",
     "output_type": "stream",
     "text": [
      " 79% (9777 of 12280) |###############    | Elapsed Time: 0:13:44 ETA:   0:03:24"
     ]
    },
    {
     "name": "stdout",
     "output_type": "stream",
     "text": [
      "http://pbs.twimg.com/profile_images/1232782068708499461/qarqBuIz_normal.jpg\n"
     ]
    },
    {
     "name": "stderr",
     "output_type": "stream",
     "text": [
      " 79% (9799 of 12280) |###############    | Elapsed Time: 0:13:45 ETA:   0:03:25"
     ]
    },
    {
     "name": "stdout",
     "output_type": "stream",
     "text": [
      "http://pbs.twimg.com/profile_images/1241815831597568000/HlYoosWs_normal.jpg\n"
     ]
    },
    {
     "name": "stderr",
     "output_type": "stream",
     "text": [
      " 79% (9811 of 12280) |###############    | Elapsed Time: 0:13:46 ETA:   0:03:15"
     ]
    },
    {
     "name": "stdout",
     "output_type": "stream",
     "text": [
      "http://pbs.twimg.com/profile_images/1239244767348666368/R9FW53Ws_normal.jpg\n"
     ]
    },
    {
     "name": "stderr",
     "output_type": "stream",
     "text": [
      " 80% (9842 of 12280) |###############    | Elapsed Time: 0:13:49 ETA:   0:03:04"
     ]
    },
    {
     "name": "stdout",
     "output_type": "stream",
     "text": [
      "http://pbs.twimg.com/profile_images/1231782917359243265/38fdfAjF_normal.jpg\n"
     ]
    },
    {
     "name": "stderr",
     "output_type": "stream",
     "text": [
      " 80% (9846 of 12280) |###############    | Elapsed Time: 0:13:49 ETA:   0:03:14"
     ]
    },
    {
     "name": "stdout",
     "output_type": "stream",
     "text": [
      "http://pbs.twimg.com/profile_images/1223135175183413248/U0gsYEmm_normal.jpg\n"
     ]
    },
    {
     "name": "stderr",
     "output_type": "stream",
     "text": [
      " 80% (9862 of 12280) |###############    | Elapsed Time: 0:13:50 ETA:   0:03:14"
     ]
    },
    {
     "name": "stdout",
     "output_type": "stream",
     "text": [
      "http://pbs.twimg.com/profile_images/1233833195017142274/-0DofPsg_normal.jpg\n"
     ]
    },
    {
     "name": "stderr",
     "output_type": "stream",
     "text": [
      " 81% (9965 of 12280) |###############    | Elapsed Time: 0:13:59 ETA:   0:03:08"
     ]
    },
    {
     "name": "stdout",
     "output_type": "stream",
     "text": [
      "http://pbs.twimg.com/profile_images/1228679648675917824/Fv7dZCdI_normal.jpg\n"
     ]
    },
    {
     "name": "stderr",
     "output_type": "stream",
     "text": [
      " 81% (9988 of 12280) |###############    | Elapsed Time: 0:14:01 ETA:   0:03:06"
     ]
    },
    {
     "name": "stdout",
     "output_type": "stream",
     "text": [
      "http://pbs.twimg.com/profile_images/1240124095129366529/5DTvpJEw_normal.jpg\n"
     ]
    },
    {
     "name": "stderr",
     "output_type": "stream",
     "text": [
      " 81% (10006 of 12280) |##############    | Elapsed Time: 0:14:02 ETA:   0:03:05"
     ]
    },
    {
     "name": "stdout",
     "output_type": "stream",
     "text": [
      "http://pbs.twimg.com/profile_images/889114866484686849/tHxILtHZ_normal.jpg\n"
     ]
    },
    {
     "name": "stderr",
     "output_type": "stream",
     "text": [
      " 81% (10012 of 12280) |##############    | Elapsed Time: 0:14:03 ETA:   0:03:12"
     ]
    },
    {
     "name": "stdout",
     "output_type": "stream",
     "text": [
      "http://pbs.twimg.com/profile_images/1177953656110534658/k7VPlkbl_normal.jpg\n"
     ]
    },
    {
     "name": "stderr",
     "output_type": "stream",
     "text": [
      " 81% (10024 of 12280) |##############    | Elapsed Time: 0:14:04 ETA:   0:03:09"
     ]
    },
    {
     "name": "stdout",
     "output_type": "stream",
     "text": [
      "http://pbs.twimg.com/profile_images/1238018230452490240/BSfXyhSF_normal.jpg\n"
     ]
    },
    {
     "name": "stderr",
     "output_type": "stream",
     "text": [
      " 81% (10043 of 12280) |##############    | Elapsed Time: 0:14:05 ETA:   0:02:55"
     ]
    },
    {
     "name": "stdout",
     "output_type": "stream",
     "text": [
      "http://pbs.twimg.com/profile_images/1229446001058074624/NbUtHcIr_normal.jpg\n",
      "http://pbs.twimg.com/profile_images/1193897109457686528/KIixYrI8_normal.jpg\n"
     ]
    },
    {
     "name": "stderr",
     "output_type": "stream",
     "text": [
      " 81% (10068 of 12280) |##############    | Elapsed Time: 0:14:07 ETA:   0:03:11"
     ]
    },
    {
     "name": "stdout",
     "output_type": "stream",
     "text": [
      "http://pbs.twimg.com/profile_images/1142516630477557760/AseyMBav_normal.jpg\n"
     ]
    },
    {
     "name": "stderr",
     "output_type": "stream",
     "text": [
      " 82% (10080 of 12280) |##############    | Elapsed Time: 0:14:09 ETA:   0:03:22"
     ]
    },
    {
     "name": "stdout",
     "output_type": "stream",
     "text": [
      "http://pbs.twimg.com/profile_images/1238357750989479937/zj-p__0t_normal.jpg\n"
     ]
    },
    {
     "name": "stderr",
     "output_type": "stream",
     "text": [
      " 82% (10088 of 12280) |##############    | Elapsed Time: 0:14:09 ETA:   0:03:10"
     ]
    },
    {
     "name": "stdout",
     "output_type": "stream",
     "text": [
      "http://pbs.twimg.com/profile_images/1241872672062992384/gYBCo7RU_normal.jpg\n"
     ]
    },
    {
     "name": "stderr",
     "output_type": "stream",
     "text": [
      " 82% (10100 of 12280) |##############    | Elapsed Time: 0:14:10 ETA:   0:03:12"
     ]
    },
    {
     "name": "stdout",
     "output_type": "stream",
     "text": [
      "http://pbs.twimg.com/profile_images/1223361193093533696/V6q8mDTl_normal.jpg\n"
     ]
    },
    {
     "name": "stderr",
     "output_type": "stream",
     "text": [
      " 82% (10106 of 12280) |##############    | Elapsed Time: 0:14:11 ETA:   0:02:54"
     ]
    },
    {
     "name": "stdout",
     "output_type": "stream",
     "text": [
      "http://pbs.twimg.com/profile_images/977759460289597440/5lFLcrnS_normal.jpg\n"
     ]
    },
    {
     "name": "stderr",
     "output_type": "stream",
     "text": [
      " 82% (10111 of 12280) |##############    | Elapsed Time: 0:14:11 ETA:   0:03:00"
     ]
    },
    {
     "name": "stdout",
     "output_type": "stream",
     "text": [
      "http://pbs.twimg.com/profile_images/1232538762401288194/xWb8yUHj_normal.jpg\n"
     ]
    },
    {
     "name": "stderr",
     "output_type": "stream",
     "text": [
      " 82% (10152 of 12280) |##############    | Elapsed Time: 0:14:14 ETA:   0:02:48"
     ]
    },
    {
     "name": "stdout",
     "output_type": "stream",
     "text": [
      "http://pbs.twimg.com/profile_images/1240449755827798017/-O52xV_l_normal.jpg\n"
     ]
    },
    {
     "name": "stderr",
     "output_type": "stream",
     "text": [
      " 83% (10272 of 12280) |###############   | Elapsed Time: 0:14:25 ETA:   0:02:41"
     ]
    },
    {
     "name": "stdout",
     "output_type": "stream",
     "text": [
      "http://pbs.twimg.com/profile_images/1241226557093318657/8suIdtYX_normal.jpg\n"
     ]
    },
    {
     "name": "stderr",
     "output_type": "stream",
     "text": [
      " 83% (10278 of 12280) |###############   | Elapsed Time: 0:14:25 ETA:   0:02:39"
     ]
    },
    {
     "name": "stdout",
     "output_type": "stream",
     "text": [
      "http://pbs.twimg.com/profile_images/1233770208831119360/rZgmyFJn_normal.jpg\n"
     ]
    },
    {
     "name": "stderr",
     "output_type": "stream",
     "text": [
      " 84% (10322 of 12280) |###############   | Elapsed Time: 0:14:29 ETA:   0:02:25"
     ]
    },
    {
     "name": "stdout",
     "output_type": "stream",
     "text": [
      "http://pbs.twimg.com/profile_images/994303848763285504/neRWhQ3U_normal.jpg\n"
     ]
    },
    {
     "name": "stderr",
     "output_type": "stream",
     "text": [
      " 84% (10332 of 12280) |###############   | Elapsed Time: 0:14:29 ETA:   0:02:22"
     ]
    },
    {
     "name": "stdout",
     "output_type": "stream",
     "text": [
      "http://pbs.twimg.com/profile_images/1222169237394984960/G9vu9YET_normal.jpg\n"
     ]
    },
    {
     "name": "stderr",
     "output_type": "stream",
     "text": [
      " 84% (10342 of 12280) |###############   | Elapsed Time: 0:14:30 ETA:   0:02:24"
     ]
    },
    {
     "name": "stdout",
     "output_type": "stream",
     "text": [
      "http://pbs.twimg.com/profile_images/1216222558955110400/brp4f4Oq_normal.jpg\n"
     ]
    },
    {
     "name": "stderr",
     "output_type": "stream",
     "text": [
      " 84% (10375 of 12280) |###############   | Elapsed Time: 0:14:33 ETA:   0:02:41"
     ]
    },
    {
     "name": "stdout",
     "output_type": "stream",
     "text": [
      "http://pbs.twimg.com/profile_images/1203872151675248645/VaIgVOZF_normal.jpg\n"
     ]
    },
    {
     "name": "stderr",
     "output_type": "stream",
     "text": [
      " 84% (10412 of 12280) |###############   | Elapsed Time: 0:14:36 ETA:   0:02:25"
     ]
    },
    {
     "name": "stdout",
     "output_type": "stream",
     "text": [
      "http://pbs.twimg.com/profile_images/883032328766984192/NMQ6WAX3_normal.jpg\n"
     ]
    },
    {
     "name": "stderr",
     "output_type": "stream",
     "text": [
      " 84% (10415 of 12280) |###############   | Elapsed Time: 0:14:36 ETA:   0:02:32"
     ]
    },
    {
     "name": "stdout",
     "output_type": "stream",
     "text": [
      "http://pbs.twimg.com/profile_images/1225612083141763073/KmnWDp1H_normal.jpg\n"
     ]
    },
    {
     "name": "stderr",
     "output_type": "stream",
     "text": [
      " 84% (10429 of 12280) |###############   | Elapsed Time: 0:14:38 ETA:   0:02:49"
     ]
    },
    {
     "name": "stdout",
     "output_type": "stream",
     "text": [
      "http://pbs.twimg.com/profile_images/1234666812442210304/Z83SOJK7_normal.jpg\n"
     ]
    },
    {
     "name": "stderr",
     "output_type": "stream",
     "text": [
      " 85% (10468 of 12280) |###############   | Elapsed Time: 0:14:41 ETA:   0:02:31"
     ]
    },
    {
     "name": "stdout",
     "output_type": "stream",
     "text": [
      "http://pbs.twimg.com/profile_images/1215631685334831104/Ns1O5J0i_normal.jpg\n"
     ]
    },
    {
     "name": "stderr",
     "output_type": "stream",
     "text": [
      " 85% (10476 of 12280) |###############   | Elapsed Time: 0:14:41 ETA:   0:02:38"
     ]
    },
    {
     "name": "stdout",
     "output_type": "stream",
     "text": [
      "http://pbs.twimg.com/profile_images/1241937280085954560/jbUfBbuZ_normal.jpg\n"
     ]
    },
    {
     "name": "stderr",
     "output_type": "stream",
     "text": [
      " 85% (10500 of 12280) |###############   | Elapsed Time: 0:14:43 ETA:   0:02:12"
     ]
    },
    {
     "name": "stdout",
     "output_type": "stream",
     "text": [
      "http://pbs.twimg.com/profile_images/1206026740646191106/cMMz1rNJ_normal.jpg\n"
     ]
    },
    {
     "name": "stderr",
     "output_type": "stream",
     "text": [
      " 85% (10505 of 12280) |###############   | Elapsed Time: 0:14:44 ETA:   0:02:13"
     ]
    },
    {
     "name": "stdout",
     "output_type": "stream",
     "text": [
      "http://pbs.twimg.com/profile_images/1237230920534351872/uFKakrEo_normal.jpg\n"
     ]
    },
    {
     "name": "stderr",
     "output_type": "stream",
     "text": [
      " 86% (10569 of 12280) |###############   | Elapsed Time: 0:14:49 ETA:   0:02:23"
     ]
    },
    {
     "name": "stdout",
     "output_type": "stream",
     "text": [
      "http://pbs.twimg.com/profile_images/1241197191714177024/QvFwv24U_normal.jpg\n"
     ]
    },
    {
     "name": "stderr",
     "output_type": "stream",
     "text": [
      " 86% (10583 of 12280) |###############   | Elapsed Time: 0:14:50 ETA:   0:02:27"
     ]
    },
    {
     "name": "stdout",
     "output_type": "stream",
     "text": [
      "http://pbs.twimg.com/profile_images/1241875319633727493/diTecYu-_normal.jpg\n"
     ]
    },
    {
     "name": "stderr",
     "output_type": "stream",
     "text": [
      " 86% (10589 of 12280) |###############   | Elapsed Time: 0:14:50 ETA:   0:02:22"
     ]
    },
    {
     "name": "stdout",
     "output_type": "stream",
     "text": [
      "http://pbs.twimg.com/profile_images/1237105083248189440/kDurkY5J_normal.jpg\n",
      "http://pbs.twimg.com/profile_images/1230641235465048066/I6nqPFdA_normal.jpg\n"
     ]
    },
    {
     "name": "stderr",
     "output_type": "stream",
     "text": [
      " 86% (10597 of 12280) |###############   | Elapsed Time: 0:14:51 ETA:   0:02:21"
     ]
    },
    {
     "name": "stdout",
     "output_type": "stream",
     "text": [
      "http://pbs.twimg.com/profile_images/1212943488293187584/bukzjEsO_normal.jpg\n"
     ]
    },
    {
     "name": "stderr",
     "output_type": "stream",
     "text": [
      " 86% (10605 of 12280) |###############   | Elapsed Time: 0:14:52 ETA:   0:02:12"
     ]
    },
    {
     "name": "stdout",
     "output_type": "stream",
     "text": [
      "http://pbs.twimg.com/profile_images/1241115285836480512/qIh4rsJ1_normal.jpg\n"
     ]
    },
    {
     "name": "stderr",
     "output_type": "stream",
     "text": [
      " 86% (10618 of 12280) |###############   | Elapsed Time: 0:14:53 ETA:   0:02:13"
     ]
    },
    {
     "name": "stdout",
     "output_type": "stream",
     "text": [
      "http://pbs.twimg.com/profile_images/1223222500802232320/_FLDsksT_normal.jpg\n"
     ]
    },
    {
     "name": "stderr",
     "output_type": "stream",
     "text": [
      " 86% (10669 of 12280) |###############   | Elapsed Time: 0:14:57 ETA:   0:02:16"
     ]
    },
    {
     "name": "stdout",
     "output_type": "stream",
     "text": [
      "http://pbs.twimg.com/profile_images/1183264382245134336/2rIQ-cMR_normal.jpg\n"
     ]
    },
    {
     "name": "stderr",
     "output_type": "stream",
     "text": [
      " 86% (10673 of 12280) |###############   | Elapsed Time: 0:14:57 ETA:   0:02:18"
     ]
    },
    {
     "name": "stdout",
     "output_type": "stream",
     "text": [
      "http://pbs.twimg.com/profile_images/1233945696828579841/IEfmxnhG_normal.jpg\n"
     ]
    },
    {
     "name": "stderr",
     "output_type": "stream",
     "text": [
      "\r",
      " 86% (10675 of 12280) |###############   | Elapsed Time: 0:14:57 ETA:   0:02:18"
     ]
    },
    {
     "name": "stdout",
     "output_type": "stream",
     "text": [
      "http://pbs.twimg.com/profile_images/1241387509445263361/p6S-CWQh_normal.jpg\n"
     ]
    },
    {
     "name": "stderr",
     "output_type": "stream",
     "text": [
      " 87% (10698 of 12280) |###############   | Elapsed Time: 0:14:59 ETA:   0:02:17"
     ]
    },
    {
     "name": "stdout",
     "output_type": "stream",
     "text": [
      "http://pbs.twimg.com/profile_images/1188889916954030081/MFzp4B1I_normal.jpg\n",
      "http://pbs.twimg.com/profile_images/1215953235414077442/MDPRVVro_normal.jpg\n"
     ]
    },
    {
     "name": "stderr",
     "output_type": "stream",
     "text": [
      " 87% (10720 of 12280) |###############   | Elapsed Time: 0:15:01 ETA:   0:02:18"
     ]
    },
    {
     "name": "stdout",
     "output_type": "stream",
     "text": [
      "http://pbs.twimg.com/profile_images/701172840867823616/CdJmyQLv_normal.jpg\n"
     ]
    },
    {
     "name": "stderr",
     "output_type": "stream",
     "text": [
      " 87% (10728 of 12280) |###############   | Elapsed Time: 0:15:02 ETA:   0:02:36"
     ]
    },
    {
     "name": "stdout",
     "output_type": "stream",
     "text": [
      "http://pbs.twimg.com/profile_images/1234265370934071297/p_iX_j_Q_normal.jpg\n"
     ]
    },
    {
     "name": "stderr",
     "output_type": "stream",
     "text": [
      " 87% (10760 of 12280) |###############   | Elapsed Time: 0:15:04 ETA:   0:01:46"
     ]
    },
    {
     "name": "stdout",
     "output_type": "stream",
     "text": [
      "http://pbs.twimg.com/profile_images/1222071700184920066/9QlXUQ08_normal.jpg\n"
     ]
    },
    {
     "name": "stderr",
     "output_type": "stream",
     "text": [
      " 88% (10845 of 12280) |###############   | Elapsed Time: 0:15:11 ETA:   0:01:50"
     ]
    },
    {
     "name": "stdout",
     "output_type": "stream",
     "text": [
      "http://pbs.twimg.com/profile_images/1230609039085756438/Lx3Aq0u9_normal.jpg\n"
     ]
    },
    {
     "name": "stderr",
     "output_type": "stream",
     "text": [
      " 88% (10860 of 12280) |###############   | Elapsed Time: 0:15:13 ETA:   0:02:18"
     ]
    },
    {
     "name": "stdout",
     "output_type": "stream",
     "text": [
      "http://pbs.twimg.com/profile_images/1229060112767234049/GLjgcMes_normal.jpg\n"
     ]
    },
    {
     "name": "stderr",
     "output_type": "stream",
     "text": [
      " 88% (10886 of 12280) |###############   | Elapsed Time: 0:15:14 ETA:   0:01:44"
     ]
    },
    {
     "name": "stdout",
     "output_type": "stream",
     "text": [
      "http://pbs.twimg.com/profile_images/1232731888860778496/rjBvQcIX_normal.jpg\n"
     ]
    },
    {
     "name": "stderr",
     "output_type": "stream",
     "text": [
      " 88% (10892 of 12280) |###############   | Elapsed Time: 0:15:15 ETA:   0:01:42"
     ]
    },
    {
     "name": "stdout",
     "output_type": "stream",
     "text": [
      "http://pbs.twimg.com/profile_images/1231933013304451072/tDOUiyYF_normal.jpg\n"
     ]
    },
    {
     "name": "stderr",
     "output_type": "stream",
     "text": [
      " 88% (10923 of 12280) |################  | Elapsed Time: 0:15:17 ETA:   0:01:48"
     ]
    },
    {
     "name": "stdout",
     "output_type": "stream",
     "text": [
      "http://pbs.twimg.com/profile_images/1241489582056710145/r8Rt8ehB_normal.jpg\n"
     ]
    },
    {
     "name": "stderr",
     "output_type": "stream",
     "text": [
      " 89% (10963 of 12280) |################  | Elapsed Time: 0:15:21 ETA:   0:01:38"
     ]
    },
    {
     "name": "stdout",
     "output_type": "stream",
     "text": [
      "http://pbs.twimg.com/profile_images/1240370267253334021/xCR_dnB3_normal.jpg\n",
      "http://pbs.twimg.com/profile_images/1147619020960653313/5P5ge_wX_normal.jpg\n"
     ]
    },
    {
     "name": "stderr",
     "output_type": "stream",
     "text": [
      " 89% (10984 of 12280) |################  | Elapsed Time: 0:15:22 ETA:   0:01:39"
     ]
    },
    {
     "name": "stdout",
     "output_type": "stream",
     "text": [
      "http://pbs.twimg.com/profile_images/1237017053141372929/kJyJhZbu_normal.jpg\n",
      "http://pbs.twimg.com/profile_images/1922758194/523399751_normal.pjpeg\n"
     ]
    },
    {
     "name": "stderr",
     "output_type": "stream",
     "text": [
      " 89% (10988 of 12280) |################  | Elapsed Time: 0:15:23 ETA:   0:01:42"
     ]
    },
    {
     "name": "stdout",
     "output_type": "stream",
     "text": [
      "http://pbs.twimg.com/profile_images/1196841831109189633/rXdB5p50_normal.jpg\n"
     ]
    },
    {
     "name": "stderr",
     "output_type": "stream",
     "text": [
      " 89% (11014 of 12280) |################  | Elapsed Time: 0:15:25 ETA:   0:01:49"
     ]
    },
    {
     "name": "stdout",
     "output_type": "stream",
     "text": [
      "http://pbs.twimg.com/profile_images/1205858338325573632/y18aZ-XG_normal.jpg\n"
     ]
    },
    {
     "name": "stderr",
     "output_type": "stream",
     "text": [
      " 89% (11027 of 12280) |################  | Elapsed Time: 0:15:26 ETA:   0:01:45"
     ]
    },
    {
     "name": "stdout",
     "output_type": "stream",
     "text": [
      "http://pbs.twimg.com/profile_images/1239410218519285761/kI7IHGE0_normal.jpg\n"
     ]
    },
    {
     "name": "stderr",
     "output_type": "stream",
     "text": [
      " 90% (11052 of 12280) |################  | Elapsed Time: 0:15:28 ETA:   0:01:43"
     ]
    },
    {
     "name": "stdout",
     "output_type": "stream",
     "text": [
      "http://pbs.twimg.com/profile_images/1220764619628658690/C1lCwcRx_normal.jpg\n"
     ]
    },
    {
     "name": "stderr",
     "output_type": "stream",
     "text": [
      " 90% (11076 of 12280) |################  | Elapsed Time: 0:15:30 ETA:   0:01:49"
     ]
    },
    {
     "name": "stdout",
     "output_type": "stream",
     "text": [
      "http://pbs.twimg.com/profile_images/1241767604928360449/xHWeFPYj_normal.jpg\n"
     ]
    },
    {
     "name": "stderr",
     "output_type": "stream",
     "text": [
      " 90% (11102 of 12280) |################  | Elapsed Time: 0:15:32 ETA:   0:01:32"
     ]
    },
    {
     "name": "stdout",
     "output_type": "stream",
     "text": [
      "http://pbs.twimg.com/profile_images/1209356692233703424/gTdQ53BZ_normal.jpg\n"
     ]
    },
    {
     "name": "stderr",
     "output_type": "stream",
     "text": [
      " 90% (11116 of 12280) |################  | Elapsed Time: 0:15:33 ETA:   0:01:35"
     ]
    },
    {
     "name": "stdout",
     "output_type": "stream",
     "text": [
      "http://pbs.twimg.com/profile_images/1213004190265556992/V4iQ-nWl_normal.jpg\n"
     ]
    },
    {
     "name": "stderr",
     "output_type": "stream",
     "text": [
      " 90% (11152 of 12280) |################  | Elapsed Time: 0:15:36 ETA:   0:01:34"
     ]
    },
    {
     "name": "stdout",
     "output_type": "stream",
     "text": [
      "http://pbs.twimg.com/profile_images/1240150431680081921/qwrdRvBp_normal.jpg\n"
     ]
    },
    {
     "name": "stderr",
     "output_type": "stream",
     "text": [
      "\r",
      " 90% (11154 of 12280) |################  | Elapsed Time: 0:15:36 ETA:   0:01:33"
     ]
    },
    {
     "name": "stdout",
     "output_type": "stream",
     "text": [
      "http://pbs.twimg.com/profile_images/1089477744923049984/mGApw5VE_normal.jpg\n"
     ]
    },
    {
     "name": "stderr",
     "output_type": "stream",
     "text": [
      " 91% (11175 of 12280) |################  | Elapsed Time: 0:15:38 ETA:   0:01:35"
     ]
    },
    {
     "name": "stdout",
     "output_type": "stream",
     "text": [
      "http://pbs.twimg.com/profile_images/1240489435105570816/vC9MOou9_normal.jpg\n"
     ]
    },
    {
     "name": "stderr",
     "output_type": "stream",
     "text": [
      " 91% (11213 of 12280) |################  | Elapsed Time: 0:15:41 ETA:   0:01:22"
     ]
    },
    {
     "name": "stdout",
     "output_type": "stream",
     "text": [
      "http://pbs.twimg.com/profile_images/1238494485904084994/uTGZIPe8_normal.jpg\n"
     ]
    },
    {
     "name": "stderr",
     "output_type": "stream",
     "text": [
      " 91% (11252 of 12280) |################  | Elapsed Time: 0:15:44 ETA:   0:01:19"
     ]
    },
    {
     "name": "stdout",
     "output_type": "stream",
     "text": [
      "http://pbs.twimg.com/profile_images/1234620092383662081/Bo2dJDgI_normal.jpg\n"
     ]
    },
    {
     "name": "stderr",
     "output_type": "stream",
     "text": [
      " 91% (11256 of 12280) |################  | Elapsed Time: 0:15:45 ETA:   0:01:20"
     ]
    },
    {
     "name": "stdout",
     "output_type": "stream",
     "text": [
      "http://pbs.twimg.com/profile_images/1241199715934285825/XIt_-p_z_normal.jpg\n"
     ]
    },
    {
     "name": "stderr",
     "output_type": "stream",
     "text": [
      " 92% (11299 of 12280) |################  | Elapsed Time: 0:15:48 ETA:   0:01:16"
     ]
    },
    {
     "name": "stdout",
     "output_type": "stream",
     "text": [
      "http://pbs.twimg.com/profile_images/1151542868760256512/vME0qQR5_normal.jpg\n",
      "http://pbs.twimg.com/profile_images/1241949995298959361/wn5bdbM__normal.jpg\n"
     ]
    },
    {
     "name": "stderr",
     "output_type": "stream",
     "text": [
      " 92% (11323 of 12280) |################  | Elapsed Time: 0:15:50 ETA:   0:01:31"
     ]
    },
    {
     "name": "stdout",
     "output_type": "stream",
     "text": [
      "http://pbs.twimg.com/profile_images/1231476449179295745/wzG1mEV7_normal.jpg\n"
     ]
    },
    {
     "name": "stderr",
     "output_type": "stream",
     "text": [
      " 92% (11366 of 12280) |################  | Elapsed Time: 0:15:54 ETA:   0:01:06"
     ]
    },
    {
     "name": "stdout",
     "output_type": "stream",
     "text": [
      "http://pbs.twimg.com/profile_images/1225459321791827969/957y7os8_normal.jpg\n"
     ]
    },
    {
     "name": "stderr",
     "output_type": "stream",
     "text": [
      " 92% (11415 of 12280) |################  | Elapsed Time: 0:15:58 ETA:   0:01:09"
     ]
    },
    {
     "name": "stdout",
     "output_type": "stream",
     "text": [
      "http://pbs.twimg.com/profile_images/1237838918071898112/OhXN3FRu_normal.jpg\n"
     ]
    },
    {
     "name": "stderr",
     "output_type": "stream",
     "text": [
      " 93% (11450 of 12280) |################  | Elapsed Time: 0:16:01 ETA:   0:01:10"
     ]
    },
    {
     "name": "stdout",
     "output_type": "stream",
     "text": [
      "http://pbs.twimg.com/profile_images/1077674782928326657/hMe4HSj-_normal.jpg\n"
     ]
    },
    {
     "name": "stderr",
     "output_type": "stream",
     "text": [
      " 93% (11461 of 12280) |################  | Elapsed Time: 0:16:02 ETA:   0:01:11"
     ]
    },
    {
     "name": "stdout",
     "output_type": "stream",
     "text": [
      "http://pbs.twimg.com/profile_images/1233158908145029120/IRMDQSzh_normal.jpg\n"
     ]
    },
    {
     "name": "stderr",
     "output_type": "stream",
     "text": [
      " 93% (11469 of 12280) |################  | Elapsed Time: 0:16:03 ETA:   0:01:10"
     ]
    },
    {
     "name": "stdout",
     "output_type": "stream",
     "text": [
      "http://pbs.twimg.com/profile_images/1241220549071667200/QPEp_lYm_normal.jpg\n"
     ]
    },
    {
     "name": "stderr",
     "output_type": "stream",
     "text": [
      " 93% (11495 of 12280) |################  | Elapsed Time: 0:16:05 ETA:   0:01:07"
     ]
    },
    {
     "name": "stdout",
     "output_type": "stream",
     "text": [
      "http://pbs.twimg.com/profile_images/1234646340375908353/Ov2-Ss2s_normal.jpg\n"
     ]
    },
    {
     "name": "stderr",
     "output_type": "stream",
     "text": [
      " 93% (11503 of 12280) |################  | Elapsed Time: 0:16:06 ETA:   0:01:07"
     ]
    },
    {
     "name": "stdout",
     "output_type": "stream",
     "text": [
      "http://pbs.twimg.com/profile_images/1240057899206029318/qrqt1dbq_normal.jpg\n"
     ]
    },
    {
     "name": "stderr",
     "output_type": "stream",
     "text": [
      " 93% (11514 of 12280) |################  | Elapsed Time: 0:16:07 ETA:   0:01:10"
     ]
    },
    {
     "name": "stdout",
     "output_type": "stream",
     "text": [
      "http://pbs.twimg.com/profile_images/1215025227396202496/eqcivLx9_normal.jpg\n"
     ]
    },
    {
     "name": "stderr",
     "output_type": "stream",
     "text": [
      " 93% (11525 of 12280) |################  | Elapsed Time: 0:16:08 ETA:   0:01:10"
     ]
    },
    {
     "name": "stdout",
     "output_type": "stream",
     "text": [
      "http://pbs.twimg.com/profile_images/1242171585144000521/h71ohr30_normal.jpg\n"
     ]
    },
    {
     "name": "stderr",
     "output_type": "stream",
     "text": [
      " 94% (11584 of 12280) |################  | Elapsed Time: 0:16:12 ETA:   0:00:57"
     ]
    },
    {
     "name": "stdout",
     "output_type": "stream",
     "text": [
      "http://pbs.twimg.com/profile_images/1240803785385050112/BmlDvm8b_normal.jpg\n"
     ]
    },
    {
     "name": "stderr",
     "output_type": "stream",
     "text": [
      " 94% (11642 of 12280) |################# | Elapsed Time: 0:16:17 ETA:   0:00:53"
     ]
    },
    {
     "name": "stdout",
     "output_type": "stream",
     "text": [
      "http://pbs.twimg.com/profile_images/1238125899792314368/8I3mLJRf_normal.jpg\n"
     ]
    },
    {
     "name": "stderr",
     "output_type": "stream",
     "text": [
      " 94% (11650 of 12280) |################# | Elapsed Time: 0:16:18 ETA:   0:00:53"
     ]
    },
    {
     "name": "stdout",
     "output_type": "stream",
     "text": [
      "http://pbs.twimg.com/profile_images/1191002220608794626/Oq80l8Ra_normal.jpg\n"
     ]
    },
    {
     "name": "stderr",
     "output_type": "stream",
     "text": [
      " 94% (11654 of 12280) |################# | Elapsed Time: 0:16:18 ETA:   0:00:51"
     ]
    },
    {
     "name": "stdout",
     "output_type": "stream",
     "text": [
      "http://pbs.twimg.com/profile_images/1181548901679194114/7mO3n8ZU_normal.jpg\n"
     ]
    },
    {
     "name": "stderr",
     "output_type": "stream",
     "text": [
      " 95% (11675 of 12280) |################# | Elapsed Time: 0:16:20 ETA:   0:00:53"
     ]
    },
    {
     "name": "stdout",
     "output_type": "stream",
     "text": [
      "http://pbs.twimg.com/profile_images/1240020543262396419/c74R0kYm_normal.jpg\n"
     ]
    },
    {
     "name": "stderr",
     "output_type": "stream",
     "text": [
      " 95% (11693 of 12280) |################# | Elapsed Time: 0:16:22 ETA:   0:00:50"
     ]
    },
    {
     "name": "stdout",
     "output_type": "stream",
     "text": [
      "http://pbs.twimg.com/profile_images/1227241120112885760/F8Ypt_Gb_normal.jpg\n"
     ]
    },
    {
     "name": "stderr",
     "output_type": "stream",
     "text": [
      " 95% (11711 of 12280) |################# | Elapsed Time: 0:16:23 ETA:   0:00:45"
     ]
    },
    {
     "name": "stdout",
     "output_type": "stream",
     "text": [
      "http://pbs.twimg.com/profile_images/1229569520504856576/IIaGGo6Z_normal.jpg\n"
     ]
    },
    {
     "name": "stderr",
     "output_type": "stream",
     "text": [
      " 95% (11748 of 12280) |################# | Elapsed Time: 0:16:26 ETA:   0:00:43"
     ]
    },
    {
     "name": "stdout",
     "output_type": "stream",
     "text": [
      "http://pbs.twimg.com/profile_images/1221830735146840064/vi8Yw9-5_normal.jpg\n"
     ]
    },
    {
     "name": "stderr",
     "output_type": "stream",
     "text": [
      " 96% (11789 of 12280) |################# | Elapsed Time: 0:16:30 ETA:   0:00:37"
     ]
    },
    {
     "name": "stdout",
     "output_type": "stream",
     "text": [
      "http://pbs.twimg.com/profile_images/1208027804840976385/Rf64aekj_normal.jpg\n"
     ]
    },
    {
     "name": "stderr",
     "output_type": "stream",
     "text": [
      " 96% (11861 of 12280) |################# | Elapsed Time: 0:16:36 ETA:   0:00:34"
     ]
    },
    {
     "name": "stdout",
     "output_type": "stream",
     "text": [
      "http://pbs.twimg.com/profile_images/1161225280855465990/zmg_6yen_normal.jpg\n"
     ]
    },
    {
     "name": "stderr",
     "output_type": "stream",
     "text": [
      " 97% (11952 of 12280) |################# | Elapsed Time: 0:16:43 ETA:   0:00:29"
     ]
    },
    {
     "name": "stdout",
     "output_type": "stream",
     "text": [
      "http://pbs.twimg.com/profile_images/1227123381591396352/geAz82de_normal.jpg\n"
     ]
    },
    {
     "name": "stderr",
     "output_type": "stream",
     "text": [
      " 97% (11976 of 12280) |################# | Elapsed Time: 0:16:45 ETA:   0:00:24"
     ]
    },
    {
     "name": "stdout",
     "output_type": "stream",
     "text": [
      "http://pbs.twimg.com/profile_images/1239662130116415491/e01dM07I_normal.jpg\n"
     ]
    },
    {
     "name": "stderr",
     "output_type": "stream",
     "text": [
      " 97% (11995 of 12280) |################# | Elapsed Time: 0:16:54 ETA:   0:03:24"
     ]
    },
    {
     "name": "stdout",
     "output_type": "stream",
     "text": [
      "http://pbs.twimg.com/profile_images/1205012930410024961/QtA0hGYt_normal.jpg\n"
     ]
    },
    {
     "name": "stderr",
     "output_type": "stream",
     "text": [
      " 97% (12005 of 12280) |################# | Elapsed Time: 0:16:54 ETA:   0:01:54"
     ]
    },
    {
     "name": "stdout",
     "output_type": "stream",
     "text": [
      "http://pbs.twimg.com/profile_images/1218555841701384192/D5STMozx_normal.jpg\n",
      "http://pbs.twimg.com/profile_images/1209949306414870528/87C1mcio_normal.jpg\n"
     ]
    },
    {
     "name": "stderr",
     "output_type": "stream",
     "text": [
      " 98% (12054 of 12280) |################# | Elapsed Time: 0:16:58 ETA:   0:00:17"
     ]
    },
    {
     "name": "stdout",
     "output_type": "stream",
     "text": [
      "http://pbs.twimg.com/profile_images/1241786924748111872/1ShkFmz2_normal.jpg\n"
     ]
    },
    {
     "name": "stderr",
     "output_type": "stream",
     "text": [
      " 98% (12064 of 12280) |################# | Elapsed Time: 0:17:00 ETA:   0:00:21"
     ]
    },
    {
     "name": "stdout",
     "output_type": "stream",
     "text": [
      "http://pbs.twimg.com/profile_images/1240403510400700417/KyOHlssy_normal.jpg\n"
     ]
    },
    {
     "name": "stderr",
     "output_type": "stream",
     "text": [
      " 98% (12078 of 12280) |################# | Elapsed Time: 0:17:01 ETA:   0:00:19"
     ]
    },
    {
     "name": "stdout",
     "output_type": "stream",
     "text": [
      "http://pbs.twimg.com/profile_images/1236805101915947010/_-d9KqyQ_normal.jpg\n"
     ]
    },
    {
     "name": "stderr",
     "output_type": "stream",
     "text": [
      " 98% (12095 of 12280) |################# | Elapsed Time: 0:17:02 ETA:   0:00:15"
     ]
    },
    {
     "name": "stdout",
     "output_type": "stream",
     "text": [
      "http://pbs.twimg.com/profile_images/1235794604777246720/KBWmbkUc_normal.jpg\n"
     ]
    },
    {
     "name": "stderr",
     "output_type": "stream",
     "text": [
      " 98% (12114 of 12280) |################# | Elapsed Time: 0:17:04 ETA:   0:00:14"
     ]
    },
    {
     "name": "stdout",
     "output_type": "stream",
     "text": [
      "http://pbs.twimg.com/profile_images/1234598283558866945/-iHMUzG2_normal.jpg\n"
     ]
    },
    {
     "name": "stderr",
     "output_type": "stream",
     "text": [
      " 99% (12182 of 12280) |################# | Elapsed Time: 0:17:10 ETA:   0:00:10"
     ]
    },
    {
     "name": "stdout",
     "output_type": "stream",
     "text": [
      "http://pbs.twimg.com/profile_images/1174178658501779457/hhOgsOga_normal.jpg\n"
     ]
    },
    {
     "name": "stderr",
     "output_type": "stream",
     "text": [
      " 99% (12256 of 12280) |################# | Elapsed Time: 0:17:16 ETA:   0:00:02"
     ]
    },
    {
     "name": "stdout",
     "output_type": "stream",
     "text": [
      "http://pbs.twimg.com/profile_images/1241522784393666563/YKb11vgd_normal.jpg\n"
     ]
    },
    {
     "name": "stderr",
     "output_type": "stream",
     "text": [
      " 99% (12266 of 12280) |################# | Elapsed Time: 0:17:17 ETA:   0:00:01"
     ]
    },
    {
     "name": "stdout",
     "output_type": "stream",
     "text": [
      "http://pbs.twimg.com/profile_images/1240862328964481026/nzESgwCY_normal.jpg\n"
     ]
    },
    {
     "name": "stderr",
     "output_type": "stream",
     "text": [
      "100% (12280 of 12280) |##################| Elapsed Time: 0:17:18 Time:  0:17:18\n"
     ]
    }
   ],
   "source": [
    "remaining_users = []\n",
    "import requests\n",
    "from PIL import Image\n",
    "from io import BytesIO\n",
    "\n",
    "with progressbar.ProgressBar(max_value=len(covid_users)) as bar:\n",
    "    for i in range(len(covid_users)):\n",
    "        user = covid_users[i]\n",
    "        url = user_dict[str(user)]['profile_image_url']\n",
    "        try:\n",
    "            response = requests.get(url, allow_redirects=True)\n",
    "            image_file = BytesIO(response.content)\n",
    "            image = Image.open(image_file)\n",
    "            image.save('./user-images/{}_image.png'.format(user))\n",
    "        except:\n",
    "            print(url)\n",
    "            remaining_users.append(user)\n",
    "            pass\n",
    "        bar.update(i)"
   ]
  },
  {
   "cell_type": "code",
   "execution_count": 34,
   "metadata": {},
   "outputs": [],
   "source": [
    "import tweepy\n",
    "import twitter_client\n",
    "import twitter_client_1\n",
    "import twitter_client_2\n",
    "import twitter_client_3\n",
    "import twitter_client_4\n",
    "import twitter_client_5\n",
    "import twitter_client_6\n",
    "import twitter_client_7\n",
    "import twitter_client_8\n",
    "\n",
    "api = twitter_client.get_twitter_client()\n",
    "api_1 = twitter_client_1.get_twitter_client()\n",
    "api_2 = twitter_client_2.get_twitter_client()\n",
    "api_3 = twitter_client_3.get_twitter_client()\n",
    "api_4 = twitter_client_4.get_twitter_client()\n",
    "api_5 = twitter_client_5.get_twitter_client()\n",
    "api_6 = twitter_client_6.get_twitter_client()\n",
    "api_7 = twitter_client_7.get_twitter_client()\n",
    "api_8 = twitter_client_8.get_twitter_client()\n",
    "\n",
    "api_list = [api, api_1, api_2, api_3, api_4, api_5, api_6, api_7, api_8]\n",
    "\n",
    "def get_new_url(user_id, api):\n",
    "    try:\n",
    "        user = api.get_user(user_id = user_id)\n",
    "        user = user._json\n",
    "        new_profile_url = user['profile_image_url']\n",
    "        return new_profile_url\n",
    "    except Exception as e:\n",
    "        print(user_id)\n",
    "        print(e)\n",
    "        pass"
   ]
  },
  {
   "cell_type": "code",
   "execution_count": 35,
   "metadata": {},
   "outputs": [
    {
     "name": "stdout",
     "output_type": "stream",
     "text": [
      "Getting new profile urls for 503 users ...\n",
      "447736055\n",
      "[{'code': 50, 'message': 'User not found.'}]\n",
      "447736055\n",
      "Invalid URL 'None': No schema supplied. Perhaps you meant http://None?\n",
      "523399751\n",
      "cannot identify image file <_io.BytesIO object at 0x7fa44f8506b0>\n",
      "125009005\n",
      "[{'code': 50, 'message': 'User not found.'}]\n",
      "125009005\n",
      "Invalid URL 'None': No schema supplied. Perhaps you meant http://None?\n"
     ]
    }
   ],
   "source": [
    "print('Getting new profile urls for {} users ...'.format(len(remaining_users)))\n",
    "\n",
    "for i in range(len(remaining_users)):\n",
    "    user_id = remaining_users[i]\n",
    "    url = get_new_url(int(user_id), api_list[i%9])\n",
    "    try:\n",
    "        response = requests.get(url, allow_redirects=True)\n",
    "        image_file = BytesIO(response.content)\n",
    "        image = Image.open(image_file)\n",
    "        image.save('./user-images/{}_image.png'.format(user_id))\n",
    "    except Exception as e:\n",
    "        print(user_id)\n",
    "        print(e)\n",
    "        pass"
   ]
  },
  {
   "cell_type": "code",
   "execution_count": 37,
   "metadata": {},
   "outputs": [
    {
     "name": "stdout",
     "output_type": "stream",
     "text": [
      "12277\n"
     ]
    }
   ],
   "source": [
    "invalid = ['447736055','523399751','125009005']\n",
    "for user in covid_users:\n",
    "    if str(user) in invalid:\n",
    "        user_dict.pop(str(user), None)\n",
    "    else:\n",
    "        user_dict[str(user)]['is_student'] = None\n",
    "print(len(user_dict.keys()))"
   ]
  },
  {
   "cell_type": "code",
   "execution_count": 38,
   "metadata": {},
   "outputs": [],
   "source": [
    "with open(directory+'/covid_users_100000.json', 'w') as f:\n",
    "    json.dump(user_dict, f, indent=2)"
   ]
  },
  {
   "cell_type": "code",
   "execution_count": null,
   "metadata": {},
   "outputs": [],
   "source": []
  }
 ],
 "metadata": {
  "kernelspec": {
   "display_name": "Python 3",
   "language": "python",
   "name": "python3"
  },
  "language_info": {
   "codemirror_mode": {
    "name": "ipython",
    "version": 3
   },
   "file_extension": ".py",
   "mimetype": "text/x-python",
   "name": "python",
   "nbconvert_exporter": "python",
   "pygments_lexer": "ipython3",
   "version": "3.7.6"
  }
 },
 "nbformat": 4,
 "nbformat_minor": 4
}
